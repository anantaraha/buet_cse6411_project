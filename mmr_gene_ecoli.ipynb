{
 "cells": [
  {
   "cell_type": "markdown",
   "id": "56a4371f",
   "metadata": {
    "papermill": {
     "duration": 0.003232,
     "end_time": "2025-09-19T19:41:42.764475",
     "exception": false,
     "start_time": "2025-09-19T19:41:42.761243",
     "status": "completed"
    },
    "tags": []
   },
   "source": [
    "# Multi-Mapping Reads: Gene Expression\n",
    "\n",
    "### *E. coli*"
   ]
  },
  {
   "cell_type": "code",
   "execution_count": 1,
   "id": "ca6d5d69",
   "metadata": {
    "_cell_guid": "b1076dfc-b9ad-4769-8c92-a6c4dae69d19",
    "_uuid": "8f2839f25d086af736a60e9eeb907d3b93b6e0e5",
    "execution": {
     "iopub.execute_input": "2025-09-19T19:41:42.771530Z",
     "iopub.status.busy": "2025-09-19T19:41:42.771236Z",
     "iopub.status.idle": "2025-09-19T19:41:45.742872Z",
     "shell.execute_reply": "2025-09-19T19:41:45.742030Z"
    },
    "papermill": {
     "duration": 2.976865,
     "end_time": "2025-09-19T19:41:45.744535",
     "exception": false,
     "start_time": "2025-09-19T19:41:42.767670",
     "status": "completed"
    },
    "tags": []
   },
   "outputs": [],
   "source": [
    "import urllib.request\n",
    "import gzip\n",
    "import pandas as pd\n",
    "import numpy as np\n",
    "from scipy.stats import norm"
   ]
  },
  {
   "cell_type": "markdown",
   "id": "6de16178",
   "metadata": {
    "papermill": {
     "duration": 0.002301,
     "end_time": "2025-09-19T19:41:45.749676",
     "exception": false,
     "start_time": "2025-09-19T19:41:45.747375",
     "status": "completed"
    },
    "tags": []
   },
   "source": [
    "# Retrieve Gene Expression Data"
   ]
  },
  {
   "cell_type": "code",
   "execution_count": 2,
   "id": "ee7b2d9f",
   "metadata": {
    "_cell_guid": "b1076dfc-b9ad-4769-8c92-a6c4dae69d19",
    "_uuid": "8f2839f25d086af736a60e9eeb907d3b93b6e0e5",
    "execution": {
     "iopub.execute_input": "2025-09-19T19:41:45.756949Z",
     "iopub.status.busy": "2025-09-19T19:41:45.756077Z",
     "iopub.status.idle": "2025-09-19T19:41:48.764880Z",
     "shell.execute_reply": "2025-09-19T19:41:48.763880Z"
    },
    "papermill": {
     "duration": 3.014224,
     "end_time": "2025-09-19T19:41:48.766683",
     "exception": false,
     "start_time": "2025-09-19T19:41:45.752459",
     "status": "completed"
    },
    "tags": []
   },
   "outputs": [
    {
     "data": {
      "text/plain": [
       "('GSE53767_mrna_rdm_r.wig.gz', <http.client.HTTPMessage at 0x7bb788866750>)"
      ]
     },
     "execution_count": 2,
     "metadata": {},
     "output_type": "execute_result"
    }
   ],
   "source": [
    "# -----------------------------\n",
    "# Step 1: Download files\n",
    "# -----------------------------\n",
    "# GFF file for E. coli K-12 MG1655\n",
    "gff_url = \"https://ftp.ncbi.nlm.nih.gov/genomes/all/GCF/000/005/845/GCF_000005845.2_ASM584v2/GCF_000005845.2_ASM584v2_genomic.gff.gz\"\n",
    "urllib.request.urlretrieve(gff_url, \"E_coli_K12.gff\")\n",
    "\n",
    "# Example WIG files (forward and reverse strands, pooled mRNA)\n",
    "wig_f_url = \"https://ftp.ncbi.nlm.nih.gov/geo/series/GSE53nnn/GSE53767/suppl/GSE53767_mrna-rdm-pooled_f.wig.gz\"\n",
    "wig_r_url = \"https://ftp.ncbi.nlm.nih.gov/geo/series/GSE53nnn/GSE53767/suppl/GSE53767_mrna-rdm-pooled_r.wig.gz\"\n",
    "urllib.request.urlretrieve(wig_f_url, \"GSE53767_mrna_rdm_f.wig.gz\")\n",
    "urllib.request.urlretrieve(wig_r_url, \"GSE53767_mrna_rdm_r.wig.gz\")"
   ]
  },
  {
   "cell_type": "code",
   "execution_count": 3,
   "id": "058a20dc",
   "metadata": {
    "_cell_guid": "b1076dfc-b9ad-4769-8c92-a6c4dae69d19",
    "_uuid": "8f2839f25d086af736a60e9eeb907d3b93b6e0e5",
    "execution": {
     "iopub.execute_input": "2025-09-19T19:41:48.774249Z",
     "iopub.status.busy": "2025-09-19T19:41:48.773476Z",
     "iopub.status.idle": "2025-09-19T19:41:48.873981Z",
     "shell.execute_reply": "2025-09-19T19:41:48.873114Z"
    },
    "papermill": {
     "duration": 0.105914,
     "end_time": "2025-09-19T19:41:48.875690",
     "exception": false,
     "start_time": "2025-09-19T19:41:48.769776",
     "status": "completed"
    },
    "tags": []
   },
   "outputs": [],
   "source": [
    "# -----------------------------\n",
    "# Step 2: Parse GFF gene annotations\n",
    "# -----------------------------\n",
    "gff_df = pd.read_csv(\n",
    "    \"/kaggle/working/E_coli_K12.gff\",   # Use .gz file\n",
    "    sep=\"\\t\",\n",
    "    comment=\"#\",\n",
    "    header=None,\n",
    "    compression='gzip'\n",
    ")\n",
    "gff_df.columns = [\"seqid\",\"source\",\"type\",\"start\",\"end\",\"score\",\"strand\",\"phase\",\"attributes\"]\n",
    "genes_df = gff_df[gff_df[\"type\"] == \"gene\"].copy()\n",
    "genes_df[\"gene_id\"] = genes_df[\"attributes\"].str.extract(r\"ID=([^;]+)\")\n",
    "genes_df = genes_df[[\"gene_id\",\"start\",\"end\",\"strand\"]].reset_index(drop=True)\n"
   ]
  },
  {
   "cell_type": "code",
   "execution_count": 4,
   "id": "c7416a76",
   "metadata": {
    "_cell_guid": "b1076dfc-b9ad-4769-8c92-a6c4dae69d19",
    "_uuid": "8f2839f25d086af736a60e9eeb907d3b93b6e0e5",
    "execution": {
     "iopub.execute_input": "2025-09-19T19:41:48.882524Z",
     "iopub.status.busy": "2025-09-19T19:41:48.882240Z",
     "iopub.status.idle": "2025-09-19T19:41:54.479423Z",
     "shell.execute_reply": "2025-09-19T19:41:54.478336Z"
    },
    "papermill": {
     "duration": 5.602601,
     "end_time": "2025-09-19T19:41:54.481152",
     "exception": false,
     "start_time": "2025-09-19T19:41:48.878551",
     "status": "completed"
    },
    "tags": []
   },
   "outputs": [],
   "source": [
    "# -----------------------------\n",
    "# Step 3: Parse WIG files\n",
    "# -----------------------------\n",
    "def read_wig(file_path):\n",
    "    data = []\n",
    "    with gzip.open(file_path, 'rt') as f:\n",
    "        for line in f:\n",
    "            if line.startswith(\"track\") or line.startswith(\"variableStep\") or line.startswith(\"fixedStep\"):\n",
    "                continue\n",
    "            parts = line.strip().split()\n",
    "            if len(parts) == 2:\n",
    "                pos, val = parts\n",
    "                data.append((int(pos), float(val)))\n",
    "    return pd.DataFrame(data, columns=[\"position\", \"coverage\"])\n",
    "\n",
    "# Forward and reverse strands\n",
    "wig_f_df = read_wig(\"GSE53767_mrna_rdm_f.wig.gz\")\n",
    "wig_r_df = read_wig(\"GSE53767_mrna_rdm_r.wig.gz\")"
   ]
  },
  {
   "cell_type": "code",
   "execution_count": 5,
   "id": "818a36e1",
   "metadata": {
    "_cell_guid": "b1076dfc-b9ad-4769-8c92-a6c4dae69d19",
    "_uuid": "8f2839f25d086af736a60e9eeb907d3b93b6e0e5",
    "execution": {
     "iopub.execute_input": "2025-09-19T19:41:54.488523Z",
     "iopub.status.busy": "2025-09-19T19:41:54.488229Z",
     "iopub.status.idle": "2025-09-19T19:42:32.948210Z",
     "shell.execute_reply": "2025-09-19T19:42:32.947348Z"
    },
    "papermill": {
     "duration": 38.467089,
     "end_time": "2025-09-19T19:42:32.951531",
     "exception": false,
     "start_time": "2025-09-19T19:41:54.484442",
     "status": "completed"
    },
    "tags": []
   },
   "outputs": [
    {
     "name": "stdout",
     "output_type": "stream",
     "text": [
      "      gene_id  start   end    expression\n",
      "0  gene-b0001    190   255   1095.808969\n",
      "1  gene-b0002    337  2799  11621.629880\n",
      "2  gene-b0003   2801  3733   3581.617976\n",
      "3  gene-b0004   3734  5020   5462.200000\n",
      "4  gene-b0005   5234  5530    204.196429\n"
     ]
    }
   ],
   "source": [
    "# -----------------------------\n",
    "# Step 4: Aggregate per-gene expression\n",
    "# -----------------------------\n",
    "def compute_gene_expression(wig_df, genes_df):\n",
    "    expr_list = []\n",
    "    for idx, row in genes_df.iterrows():\n",
    "        cov = wig_df[(wig_df[\"position\"] >= row[\"start\"]) & (wig_df[\"position\"] <= row[\"end\"])][\"coverage\"].sum()\n",
    "        expr_list.append(cov)\n",
    "    return pd.Series(expr_list, name=\"expression\")\n",
    "\n",
    "# Sum forward and reverse strand coverage\n",
    "genes_df[\"expr_f\"] = compute_gene_expression(wig_f_df, genes_df)\n",
    "genes_df[\"expr_r\"] = compute_gene_expression(wig_r_df, genes_df)\n",
    "genes_df[\"expression\"] = genes_df[\"expr_f\"] + genes_df[\"expr_r\"]\n",
    "\n",
    "# Keep relevant columns\n",
    "final_df = genes_df[[\"gene_id\",\"start\",\"end\",\"expression\"]]\n",
    "print(final_df.head())"
   ]
  },
  {
   "cell_type": "markdown",
   "id": "2bd72a0a",
   "metadata": {
    "papermill": {
     "duration": 0.002654,
     "end_time": "2025-09-19T19:42:32.957082",
     "exception": false,
     "start_time": "2025-09-19T19:42:32.954428",
     "status": "completed"
    },
    "tags": []
   },
   "source": [
    "# z-Score & p-Value Calculation"
   ]
  },
  {
   "cell_type": "code",
   "execution_count": 6,
   "id": "1547c8ce",
   "metadata": {
    "execution": {
     "iopub.execute_input": "2025-09-19T19:42:32.963803Z",
     "iopub.status.busy": "2025-09-19T19:42:32.963480Z",
     "iopub.status.idle": "2025-09-19T19:42:32.981242Z",
     "shell.execute_reply": "2025-09-19T19:42:32.980264Z"
    },
    "papermill": {
     "duration": 0.022895,
     "end_time": "2025-09-19T19:42:32.982758",
     "exception": false,
     "start_time": "2025-09-19T19:42:32.959863",
     "status": "completed"
    },
    "tags": []
   },
   "outputs": [
    {
     "name": "stdout",
     "output_type": "stream",
     "text": [
      "      gene_id  start   end    expression   z_score   p_value  significant\n",
      "0  gene-b0001    190   255   1095.808969 -0.131232  0.552204        False\n",
      "1  gene-b0002    337  2799  11621.629880  0.319856  0.374539        False\n",
      "2  gene-b0003   2801  3733   3581.617976 -0.024701  0.509853        False\n",
      "3  gene-b0004   3734  5020   5462.200000  0.055892  0.477714        False\n",
      "4  gene-b0005   5234  5530    204.196429 -0.169442  0.567275        False\n"
     ]
    }
   ],
   "source": [
    "# Ensure we work on a copy to avoid SettingWithCopyWarning\n",
    "final_df = final_df.copy()\n",
    "\n",
    "# -------------------------------\n",
    "# Parameters\n",
    "# -------------------------------\n",
    "num_random = 100     # number of random genes for null distribution\n",
    "p_threshold = 0.05   # significance cutoff\n",
    "\n",
    "# -------------------------------\n",
    "# Step 1: Null distribution from random genes\n",
    "# -------------------------------\n",
    "random_genes = final_df.sample(n=num_random, random_state=42)\n",
    "null_mean = random_genes[\"expression\"].mean()\n",
    "null_std = random_genes[\"expression\"].std()\n",
    "\n",
    "# -------------------------------\n",
    "# Step 2: Z-score for each gene\n",
    "# -------------------------------\n",
    "final_df.loc[:, \"z_score\"] = (final_df[\"expression\"] - null_mean) / null_std\n",
    "\n",
    "# -------------------------------\n",
    "# Step 3: Convert Z-score to p-value (one-sided test)\n",
    "# -------------------------------\n",
    "final_df.loc[:, \"p_value\"] = 1 - norm.cdf(final_df[\"z_score\"])\n",
    "\n",
    "# -------------------------------\n",
    "# Step 4: Determine significance\n",
    "# -------------------------------\n",
    "final_df.loc[:, \"significant\"] = final_df[\"p_value\"] < p_threshold\n",
    "\n",
    "# -------------------------------\n",
    "# Inspect results\n",
    "# -------------------------------\n",
    "print(final_df.head())"
   ]
  },
  {
   "cell_type": "markdown",
   "id": "94e7b08b",
   "metadata": {
    "papermill": {
     "duration": 0.002651,
     "end_time": "2025-09-19T19:42:32.988395",
     "exception": false,
     "start_time": "2025-09-19T19:42:32.985744",
     "status": "completed"
    },
    "tags": []
   },
   "source": [
    "# Statistics"
   ]
  },
  {
   "cell_type": "code",
   "execution_count": 7,
   "id": "ee9cc5c0",
   "metadata": {
    "execution": {
     "iopub.execute_input": "2025-09-19T19:42:32.995127Z",
     "iopub.status.busy": "2025-09-19T19:42:32.994765Z",
     "iopub.status.idle": "2025-09-19T19:42:33.032241Z",
     "shell.execute_reply": "2025-09-19T19:42:33.031327Z"
    },
    "papermill": {
     "duration": 0.042481,
     "end_time": "2025-09-19T19:42:33.033710",
     "exception": false,
     "start_time": "2025-09-19T19:42:32.991229",
     "status": "completed"
    },
    "tags": []
   },
   "outputs": [
    {
     "data": {
      "text/html": [
       "<div>\n",
       "<style scoped>\n",
       "    .dataframe tbody tr th:only-of-type {\n",
       "        vertical-align: middle;\n",
       "    }\n",
       "\n",
       "    .dataframe tbody tr th {\n",
       "        vertical-align: top;\n",
       "    }\n",
       "\n",
       "    .dataframe thead th {\n",
       "        text-align: right;\n",
       "    }\n",
       "</style>\n",
       "<table border=\"1\" class=\"dataframe\">\n",
       "  <thead>\n",
       "    <tr style=\"text-align: right;\">\n",
       "      <th></th>\n",
       "      <th>start</th>\n",
       "      <th>end</th>\n",
       "      <th>expression</th>\n",
       "      <th>z_score</th>\n",
       "      <th>p_value</th>\n",
       "    </tr>\n",
       "  </thead>\n",
       "  <tbody>\n",
       "    <tr>\n",
       "      <th>count</th>\n",
       "      <td>4.506000e+03</td>\n",
       "      <td>4.506000e+03</td>\n",
       "      <td>4506.000000</td>\n",
       "      <td>4506.000000</td>\n",
       "      <td>4506.000000</td>\n",
       "    </tr>\n",
       "    <tr>\n",
       "      <th>mean</th>\n",
       "      <td>2.309520e+06</td>\n",
       "      <td>2.310417e+06</td>\n",
       "      <td>3148.631972</td>\n",
       "      <td>-0.043257</td>\n",
       "      <td>0.538475</td>\n",
       "    </tr>\n",
       "    <tr>\n",
       "      <th>std</th>\n",
       "      <td>1.332803e+06</td>\n",
       "      <td>1.332810e+06</td>\n",
       "      <td>16098.116576</td>\n",
       "      <td>0.689890</td>\n",
       "      <td>0.090167</td>\n",
       "    </tr>\n",
       "    <tr>\n",
       "      <th>min</th>\n",
       "      <td>1.900000e+02</td>\n",
       "      <td>2.550000e+02</td>\n",
       "      <td>0.000000</td>\n",
       "      <td>-0.178193</td>\n",
       "      <td>0.000000</td>\n",
       "    </tr>\n",
       "    <tr>\n",
       "      <th>25%</th>\n",
       "      <td>1.174426e+06</td>\n",
       "      <td>1.175530e+06</td>\n",
       "      <td>40.000000</td>\n",
       "      <td>-0.176479</td>\n",
       "      <td>0.551270</td>\n",
       "    </tr>\n",
       "    <tr>\n",
       "      <th>50%</th>\n",
       "      <td>2.293931e+06</td>\n",
       "      <td>2.295142e+06</td>\n",
       "      <td>247.627069</td>\n",
       "      <td>-0.167581</td>\n",
       "      <td>0.566543</td>\n",
       "    </tr>\n",
       "    <tr>\n",
       "      <th>75%</th>\n",
       "      <td>3.450469e+06</td>\n",
       "      <td>3.451154e+06</td>\n",
       "      <td>1150.902931</td>\n",
       "      <td>-0.128870</td>\n",
       "      <td>0.570041</td>\n",
       "    </tr>\n",
       "    <tr>\n",
       "      <th>max</th>\n",
       "      <td>4.640942e+06</td>\n",
       "      <td>4.641628e+06</td>\n",
       "      <td>346421.447409</td>\n",
       "      <td>14.667815</td>\n",
       "      <td>0.570714</td>\n",
       "    </tr>\n",
       "  </tbody>\n",
       "</table>\n",
       "</div>"
      ],
      "text/plain": [
       "              start           end     expression      z_score      p_value\n",
       "count  4.506000e+03  4.506000e+03    4506.000000  4506.000000  4506.000000\n",
       "mean   2.309520e+06  2.310417e+06    3148.631972    -0.043257     0.538475\n",
       "std    1.332803e+06  1.332810e+06   16098.116576     0.689890     0.090167\n",
       "min    1.900000e+02  2.550000e+02       0.000000    -0.178193     0.000000\n",
       "25%    1.174426e+06  1.175530e+06      40.000000    -0.176479     0.551270\n",
       "50%    2.293931e+06  2.295142e+06     247.627069    -0.167581     0.566543\n",
       "75%    3.450469e+06  3.451154e+06    1150.902931    -0.128870     0.570041\n",
       "max    4.640942e+06  4.641628e+06  346421.447409    14.667815     0.570714"
      ]
     },
     "execution_count": 7,
     "metadata": {},
     "output_type": "execute_result"
    }
   ],
   "source": [
    "final_df.describe()"
   ]
  },
  {
   "cell_type": "code",
   "execution_count": 8,
   "id": "d51a71b1",
   "metadata": {
    "execution": {
     "iopub.execute_input": "2025-09-19T19:42:33.041627Z",
     "iopub.status.busy": "2025-09-19T19:42:33.040837Z",
     "iopub.status.idle": "2025-09-19T19:42:33.083704Z",
     "shell.execute_reply": "2025-09-19T19:42:33.082715Z"
    },
    "papermill": {
     "duration": 0.048599,
     "end_time": "2025-09-19T19:42:33.085438",
     "exception": false,
     "start_time": "2025-09-19T19:42:33.036839",
     "status": "completed"
    },
    "tags": []
   },
   "outputs": [],
   "source": [
    "final_df.to_csv('/kaggle/working/final_ecoli.csv')"
   ]
  },
  {
   "cell_type": "code",
   "execution_count": null,
   "id": "a24f1ac0",
   "metadata": {
    "papermill": {
     "duration": 0.003942,
     "end_time": "2025-09-19T19:42:33.092707",
     "exception": false,
     "start_time": "2025-09-19T19:42:33.088765",
     "status": "completed"
    },
    "tags": []
   },
   "outputs": [],
   "source": []
  }
 ],
 "metadata": {
  "kaggle": {
   "accelerator": "none",
   "dataSources": [],
   "isGpuEnabled": false,
   "isInternetEnabled": true,
   "language": "python",
   "sourceType": "notebook"
  },
  "kernelspec": {
   "display_name": "Python 3",
   "language": "python",
   "name": "python3"
  },
  "language_info": {
   "codemirror_mode": {
    "name": "ipython",
    "version": 3
   },
   "file_extension": ".py",
   "mimetype": "text/x-python",
   "name": "python",
   "nbconvert_exporter": "python",
   "pygments_lexer": "ipython3",
   "version": "3.11.13"
  },
  "papermill": {
   "default_parameters": {},
   "duration": 56.044121,
   "end_time": "2025-09-19T19:42:33.715032",
   "environment_variables": {},
   "exception": null,
   "input_path": "__notebook__.ipynb",
   "output_path": "__notebook__.ipynb",
   "parameters": {},
   "start_time": "2025-09-19T19:41:37.670911",
   "version": "2.6.0"
  }
 },
 "nbformat": 4,
 "nbformat_minor": 5
}
