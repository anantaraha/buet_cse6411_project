{
 "cells": [
  {
   "cell_type": "markdown",
   "id": "08bae577",
   "metadata": {
    "papermill": {
     "duration": 0.014037,
     "end_time": "2025-09-20T04:26:01.555455",
     "exception": false,
     "start_time": "2025-09-20T04:26:01.541418",
     "status": "completed"
    },
    "tags": []
   },
   "source": [
    "# **Multi-Mapping Reads: Dataset Preparation**\n",
    "\n",
    "### *Genome: E. coli*\n",
    "\n",
    "* Strain: K-12 MG1655\n",
    "* Downloaded: ftp://ftp.ncbi.nlm.nih.gov/genomes/all/GCF/000/005/845/GCF_000005845.2_ASM584v2/GCF_000005845.2_ASM584v2_genomic.fna.gz\n",
    "\n"
   ]
  },
  {
   "cell_type": "markdown",
   "id": "a50cacf5",
   "metadata": {
    "papermill": {
     "duration": 0.010978,
     "end_time": "2025-09-20T04:26:01.579966",
     "exception": false,
     "start_time": "2025-09-20T04:26:01.568988",
     "status": "completed"
    },
    "tags": []
   },
   "source": [
    "# Environment Configuration"
   ]
  },
  {
   "cell_type": "code",
   "execution_count": 1,
   "id": "8f8fcd52",
   "metadata": {
    "execution": {
     "iopub.execute_input": "2025-09-20T04:26:01.610557Z",
     "iopub.status.busy": "2025-09-20T04:26:01.610059Z",
     "iopub.status.idle": "2025-09-20T04:26:30.639015Z",
     "shell.execute_reply": "2025-09-20T04:26:30.638079Z"
    },
    "papermill": {
     "duration": 29.045442,
     "end_time": "2025-09-20T04:26:30.640635",
     "exception": false,
     "start_time": "2025-09-20T04:26:01.595193",
     "status": "completed"
    },
    "tags": []
   },
   "outputs": [
    {
     "name": "stdout",
     "output_type": "stream",
     "text": [
      "Requirement already satisfied: gensim in /usr/local/lib/python3.11/dist-packages (4.3.3)\r\n",
      "Requirement already satisfied: numpy<2.0,>=1.18.5 in /usr/local/lib/python3.11/dist-packages (from gensim) (1.26.4)\r\n",
      "Collecting scipy<1.14.0,>=1.7.0 (from gensim)\r\n",
      "  Downloading scipy-1.13.1-cp311-cp311-manylinux_2_17_x86_64.manylinux2014_x86_64.whl.metadata (60 kB)\r\n",
      "\u001b[2K     \u001b[90m━━━━━━━━━━━━━━━━━━━━━━━━━━━━━━━━━━━━━━━━\u001b[0m \u001b[32m60.6/60.6 kB\u001b[0m \u001b[31m2.0 MB/s\u001b[0m eta \u001b[36m0:00:00\u001b[0m\r\n",
      "\u001b[?25hRequirement already satisfied: smart-open>=1.8.1 in /usr/local/lib/python3.11/dist-packages (from gensim) (7.1.0)\r\n",
      "Requirement already satisfied: mkl_fft in /usr/local/lib/python3.11/dist-packages (from numpy<2.0,>=1.18.5->gensim) (1.3.8)\r\n",
      "Requirement already satisfied: mkl_random in /usr/local/lib/python3.11/dist-packages (from numpy<2.0,>=1.18.5->gensim) (1.2.4)\r\n",
      "Requirement already satisfied: mkl_umath in /usr/local/lib/python3.11/dist-packages (from numpy<2.0,>=1.18.5->gensim) (0.1.1)\r\n",
      "Requirement already satisfied: mkl in /usr/local/lib/python3.11/dist-packages (from numpy<2.0,>=1.18.5->gensim) (2025.2.0)\r\n",
      "Requirement already satisfied: tbb4py in /usr/local/lib/python3.11/dist-packages (from numpy<2.0,>=1.18.5->gensim) (2022.2.0)\r\n",
      "Requirement already satisfied: mkl-service in /usr/local/lib/python3.11/dist-packages (from numpy<2.0,>=1.18.5->gensim) (2.4.1)\r\n",
      "Requirement already satisfied: wrapt in /usr/local/lib/python3.11/dist-packages (from smart-open>=1.8.1->gensim) (1.17.2)\r\n",
      "Requirement already satisfied: intel-openmp<2026,>=2024 in /usr/local/lib/python3.11/dist-packages (from mkl->numpy<2.0,>=1.18.5->gensim) (2024.2.0)\r\n",
      "Requirement already satisfied: tbb==2022.* in /usr/local/lib/python3.11/dist-packages (from mkl->numpy<2.0,>=1.18.5->gensim) (2022.2.0)\r\n",
      "Requirement already satisfied: tcmlib==1.* in /usr/local/lib/python3.11/dist-packages (from tbb==2022.*->mkl->numpy<2.0,>=1.18.5->gensim) (1.4.0)\r\n",
      "Requirement already satisfied: intel-cmplr-lib-rt in /usr/local/lib/python3.11/dist-packages (from mkl_umath->numpy<2.0,>=1.18.5->gensim) (2024.2.0)\r\n",
      "Requirement already satisfied: intel-cmplr-lib-ur==2024.2.0 in /usr/local/lib/python3.11/dist-packages (from intel-openmp<2026,>=2024->mkl->numpy<2.0,>=1.18.5->gensim) (2024.2.0)\r\n",
      "Downloading scipy-1.13.1-cp311-cp311-manylinux_2_17_x86_64.manylinux2014_x86_64.whl (38.6 MB)\r\n",
      "\u001b[2K   \u001b[90m━━━━━━━━━━━━━━━━━━━━━━━━━━━━━━━━━━━━━━━━\u001b[0m \u001b[32m38.6/38.6 MB\u001b[0m \u001b[31m26.6 MB/s\u001b[0m eta \u001b[36m0:00:00\u001b[0m\r\n",
      "\u001b[?25hInstalling collected packages: scipy\r\n",
      "  Attempting uninstall: scipy\r\n",
      "    Found existing installation: scipy 1.15.3\r\n",
      "    Uninstalling scipy-1.15.3:\r\n",
      "      Successfully uninstalled scipy-1.15.3\r\n",
      "\u001b[31mERROR: pip's dependency resolver does not currently take into account all the packages that are installed. This behaviour is the source of the following dependency conflicts.\r\n",
      "cesium 0.12.4 requires numpy<3.0,>=2.0, but you have numpy 1.26.4 which is incompatible.\r\n",
      "tsfresh 0.21.0 requires scipy>=1.14.0; python_version >= \"3.10\", but you have scipy 1.13.1 which is incompatible.\r\n",
      "dopamine-rl 4.1.2 requires gymnasium>=1.0.0, but you have gymnasium 0.29.0 which is incompatible.\r\n",
      "imbalanced-learn 0.13.0 requires scikit-learn<2,>=1.3.2, but you have scikit-learn 1.2.2 which is incompatible.\r\n",
      "plotnine 0.14.5 requires matplotlib>=3.8.0, but you have matplotlib 3.7.2 which is incompatible.\r\n",
      "mlxtend 0.23.4 requires scikit-learn>=1.3.1, but you have scikit-learn 1.2.2 which is incompatible.\u001b[0m\u001b[31m\r\n",
      "\u001b[0mSuccessfully installed scipy-1.13.1\r\n",
      "Collecting pysam\r\n",
      "  Downloading pysam-0.23.3-cp311-cp311-manylinux_2_28_x86_64.whl.metadata (1.7 kB)\r\n",
      "Requirement already satisfied: pandas in /usr/local/lib/python3.11/dist-packages (2.2.3)\r\n",
      "Requirement already satisfied: scikit-learn in /usr/local/lib/python3.11/dist-packages (1.2.2)\r\n",
      "Collecting biopython\r\n",
      "  Downloading biopython-1.85-cp311-cp311-manylinux_2_17_x86_64.manylinux2014_x86_64.whl.metadata (13 kB)\r\n",
      "Requirement already satisfied: numpy>=1.23.2 in /usr/local/lib/python3.11/dist-packages (from pandas) (1.26.4)\r\n",
      "Requirement already satisfied: python-dateutil>=2.8.2 in /usr/local/lib/python3.11/dist-packages (from pandas) (2.9.0.post0)\r\n",
      "Requirement already satisfied: pytz>=2020.1 in /usr/local/lib/python3.11/dist-packages (from pandas) (2025.2)\r\n",
      "Requirement already satisfied: tzdata>=2022.7 in /usr/local/lib/python3.11/dist-packages (from pandas) (2025.2)\r\n",
      "Requirement already satisfied: scipy>=1.3.2 in /usr/local/lib/python3.11/dist-packages (from scikit-learn) (1.13.1)\r\n",
      "Requirement already satisfied: joblib>=1.1.1 in /usr/local/lib/python3.11/dist-packages (from scikit-learn) (1.5.1)\r\n",
      "Requirement already satisfied: threadpoolctl>=2.0.0 in /usr/local/lib/python3.11/dist-packages (from scikit-learn) (3.6.0)\r\n",
      "Requirement already satisfied: mkl_fft in /usr/local/lib/python3.11/dist-packages (from numpy>=1.23.2->pandas) (1.3.8)\r\n",
      "Requirement already satisfied: mkl_random in /usr/local/lib/python3.11/dist-packages (from numpy>=1.23.2->pandas) (1.2.4)\r\n",
      "Requirement already satisfied: mkl_umath in /usr/local/lib/python3.11/dist-packages (from numpy>=1.23.2->pandas) (0.1.1)\r\n",
      "Requirement already satisfied: mkl in /usr/local/lib/python3.11/dist-packages (from numpy>=1.23.2->pandas) (2025.2.0)\r\n",
      "Requirement already satisfied: tbb4py in /usr/local/lib/python3.11/dist-packages (from numpy>=1.23.2->pandas) (2022.2.0)\r\n",
      "Requirement already satisfied: mkl-service in /usr/local/lib/python3.11/dist-packages (from numpy>=1.23.2->pandas) (2.4.1)\r\n",
      "Requirement already satisfied: six>=1.5 in /usr/local/lib/python3.11/dist-packages (from python-dateutil>=2.8.2->pandas) (1.17.0)\r\n",
      "Requirement already satisfied: intel-openmp<2026,>=2024 in /usr/local/lib/python3.11/dist-packages (from mkl->numpy>=1.23.2->pandas) (2024.2.0)\r\n",
      "Requirement already satisfied: tbb==2022.* in /usr/local/lib/python3.11/dist-packages (from mkl->numpy>=1.23.2->pandas) (2022.2.0)\r\n",
      "Requirement already satisfied: tcmlib==1.* in /usr/local/lib/python3.11/dist-packages (from tbb==2022.*->mkl->numpy>=1.23.2->pandas) (1.4.0)\r\n",
      "Requirement already satisfied: intel-cmplr-lib-rt in /usr/local/lib/python3.11/dist-packages (from mkl_umath->numpy>=1.23.2->pandas) (2024.2.0)\r\n",
      "Requirement already satisfied: intel-cmplr-lib-ur==2024.2.0 in /usr/local/lib/python3.11/dist-packages (from intel-openmp<2026,>=2024->mkl->numpy>=1.23.2->pandas) (2024.2.0)\r\n",
      "Downloading pysam-0.23.3-cp311-cp311-manylinux_2_28_x86_64.whl (26.5 MB)\r\n",
      "\u001b[2K   \u001b[90m━━━━━━━━━━━━━━━━━━━━━━━━━━━━━━━━━━━━━━━━\u001b[0m \u001b[32m26.5/26.5 MB\u001b[0m \u001b[31m48.6 MB/s\u001b[0m eta \u001b[36m0:00:00\u001b[0m\r\n",
      "\u001b[?25hDownloading biopython-1.85-cp311-cp311-manylinux_2_17_x86_64.manylinux2014_x86_64.whl (3.3 MB)\r\n",
      "\u001b[2K   \u001b[90m━━━━━━━━━━━━━━━━━━━━━━━━━━━━━━━━━━━━━━━━\u001b[0m \u001b[32m3.3/3.3 MB\u001b[0m \u001b[31m76.0 MB/s\u001b[0m eta \u001b[36m0:00:00\u001b[0m\r\n",
      "\u001b[?25hInstalling collected packages: pysam, biopython\r\n",
      "Successfully installed biopython-1.85 pysam-0.23.3\r\n",
      "Collecting python-Levenshtein\r\n",
      "  Downloading python_levenshtein-0.27.1-py3-none-any.whl.metadata (3.7 kB)\r\n",
      "Collecting Levenshtein==0.27.1 (from python-Levenshtein)\r\n",
      "  Downloading levenshtein-0.27.1-cp311-cp311-manylinux_2_17_x86_64.manylinux2014_x86_64.whl.metadata (3.6 kB)\r\n",
      "Collecting rapidfuzz<4.0.0,>=3.9.0 (from Levenshtein==0.27.1->python-Levenshtein)\r\n",
      "  Downloading rapidfuzz-3.14.1-cp311-cp311-manylinux_2_27_x86_64.manylinux_2_28_x86_64.whl.metadata (12 kB)\r\n",
      "Downloading python_levenshtein-0.27.1-py3-none-any.whl (9.4 kB)\r\n",
      "Downloading levenshtein-0.27.1-cp311-cp311-manylinux_2_17_x86_64.manylinux2014_x86_64.whl (161 kB)\r\n",
      "\u001b[2K   \u001b[90m━━━━━━━━━━━━━━━━━━━━━━━━━━━━━━━━━━━━━━━━\u001b[0m \u001b[32m161.7/161.7 kB\u001b[0m \u001b[31m5.6 MB/s\u001b[0m eta \u001b[36m0:00:00\u001b[0m\r\n",
      "\u001b[?25hDownloading rapidfuzz-3.14.1-cp311-cp311-manylinux_2_27_x86_64.manylinux_2_28_x86_64.whl (3.2 MB)\r\n",
      "\u001b[2K   \u001b[90m━━━━━━━━━━━━━━━━━━━━━━━━━━━━━━━━━━━━━━━━\u001b[0m \u001b[32m3.2/3.2 MB\u001b[0m \u001b[31m66.7 MB/s\u001b[0m eta \u001b[36m0:00:00\u001b[0m\r\n",
      "\u001b[?25hInstalling collected packages: rapidfuzz, Levenshtein, python-Levenshtein\r\n",
      "Successfully installed Levenshtein-0.27.1 python-Levenshtein-0.27.1 rapidfuzz-3.14.1\r\n"
     ]
    }
   ],
   "source": [
    "!pip install gensim\n",
    "!pip install pysam pandas scikit-learn biopython\n",
    "!pip install python-Levenshtein\n",
    "\n",
    "import shutil\n",
    "import os\n",
    "import pandas as pd\n",
    "import numpy as np\n",
    "from sklearn.model_selection import train_test_split\n",
    "from sklearn.preprocessing import StandardScaler, OneHotEncoder\n",
    "from sklearn.compose import ColumnTransformer\n",
    "from sklearn.pipeline import Pipeline\n",
    "from collections import defaultdict\n",
    "import matplotlib.pyplot as plt\n",
    "import pysam\n",
    "from Bio import SeqIO\n",
    "import pandas as pd\n",
    "import json\n",
    "from collections import defaultdict\n",
    "import pysam\n",
    "from tqdm.notebook import tqdm\n",
    "import Levenshtein\n",
    "\n",
    "plt.rcParams['font.family'] = 'serif'            # Use a specific font\n",
    "plt.rcParams['font.size'] = 13                   # Set a general font size"
   ]
  },
  {
   "cell_type": "code",
   "execution_count": 2,
   "id": "91469cc0",
   "metadata": {
    "execution": {
     "iopub.execute_input": "2025-09-20T04:26:30.670473Z",
     "iopub.status.busy": "2025-09-20T04:26:30.669470Z",
     "iopub.status.idle": "2025-09-20T04:26:30.675082Z",
     "shell.execute_reply": "2025-09-20T04:26:30.674112Z"
    },
    "papermill": {
     "duration": 0.02143,
     "end_time": "2025-09-20T04:26:30.676448",
     "exception": false,
     "start_time": "2025-09-20T04:26:30.655018",
     "status": "completed"
    },
    "tags": []
   },
   "outputs": [],
   "source": [
    "ROOT_DIR = os.path.join('/kaggle/working/', 'ecoli')\n",
    "REF_DIR = os.path.join(ROOT_DIR, 'ref')\n",
    "ALIGN_DIR = os.path.join(ROOT_DIR, 'align')\n",
    "DATA_DIR = os.path.join(ROOT_DIR, 'data')\n",
    "\n",
    "READ_LENGTH = 100\n",
    "FOLD_COVERAGE = 30\n",
    "MEAN_FRAG_SIZE = 300\n",
    "SD_FRAG_SIZE = 10\n",
    "MIN_INSERT = 280\n",
    "MAX_INSERT = 320"
   ]
  },
  {
   "cell_type": "code",
   "execution_count": 3,
   "id": "50eb290a",
   "metadata": {
    "execution": {
     "iopub.execute_input": "2025-09-20T04:26:30.709176Z",
     "iopub.status.busy": "2025-09-20T04:26:30.707953Z",
     "iopub.status.idle": "2025-09-20T04:26:47.346126Z",
     "shell.execute_reply": "2025-09-20T04:26:47.344574Z"
    },
    "papermill": {
     "duration": 16.65824,
     "end_time": "2025-09-20T04:26:47.348183",
     "exception": false,
     "start_time": "2025-09-20T04:26:30.689943",
     "status": "completed"
    },
    "tags": []
   },
   "outputs": [
    {
     "name": "stdout",
     "output_type": "stream",
     "text": [
      "W: Skipping acquire of configured file 'main/source/Sources' as repository 'https://r2u.stat.illinois.edu/ubuntu jammy InRelease' does not seem to provide it (sources.list entry misspelt?)\r\n",
      "\r\n",
      "\r\n",
      "\r\n",
      "The following additional packages will be installed:\r\n",
      "  libhts3 libhtscodecs2\r\n",
      "Suggested packages:\r\n",
      "  bowtie2-examples cwltool\r\n",
      "The following NEW packages will be installed:\r\n",
      "  bowtie2 libhts3 libhtscodecs2 samtools\r\n",
      "0 upgraded, 4 newly installed, 0 to remove and 167 not upgraded.\r\n",
      "Need to get 2,131 kB of archives.\r\n",
      "After this operation, 6,005 kB of additional disk space will be used.\r\n",
      "Get:1 http://archive.ubuntu.com/ubuntu jammy/universe amd64 libhtscodecs2 amd64 1.1.1-3 [53.2 kB]\r\n",
      "Get:2 http://archive.ubuntu.com/ubuntu jammy/universe amd64 libhts3 amd64 1.13+ds-2build1 [390 kB]\r\n",
      "Get:3 http://archive.ubuntu.com/ubuntu jammy/universe amd64 samtools amd64 1.13-4 [520 kB]\r\n",
      "Get:4 http://archive.ubuntu.com/ubuntu jammy/universe amd64 bowtie2 amd64 2.4.4-1 [1,169 kB]\r\n",
      "Fetched 2,131 kB in 0s (15.4 MB/s)\r\n",
      "Selecting previously unselected package libhtscodecs2:amd64.\r\n",
      "(Reading database ... 128663 files and directories currently installed.)\r\n",
      "Preparing to unpack .../libhtscodecs2_1.1.1-3_amd64.deb ...\r\n",
      "Unpacking libhtscodecs2:amd64 (1.1.1-3) ...\r\n",
      "Selecting previously unselected package libhts3:amd64.\r\n",
      "Preparing to unpack .../libhts3_1.13+ds-2build1_amd64.deb ...\r\n",
      "Unpacking libhts3:amd64 (1.13+ds-2build1) ...\r\n",
      "Selecting previously unselected package samtools.\r\n",
      "Preparing to unpack .../samtools_1.13-4_amd64.deb ...\r\n",
      "Unpacking samtools (1.13-4) ...\r\n",
      "Selecting previously unselected package bowtie2.\r\n",
      "Preparing to unpack .../bowtie2_2.4.4-1_amd64.deb ...\r\n",
      "Unpacking bowtie2 (2.4.4-1) ...\r\n",
      "Setting up libhtscodecs2:amd64 (1.1.1-3) ...\r\n",
      "Setting up libhts3:amd64 (1.13+ds-2build1) ...\r\n",
      "Setting up samtools (1.13-4) ...\r\n",
      "Setting up bowtie2 (2.4.4-1) ...\r\n",
      "Processing triggers for man-db (2.10.2-1) ...\r\n",
      "Processing triggers for libc-bin (2.35-0ubuntu3.8) ...\r\n",
      "/sbin/ldconfig.real: /usr/local/lib/libumf.so.0 is not a symbolic link\r\n",
      "\r\n",
      "/sbin/ldconfig.real: /usr/local/lib/libtcm_debug.so.1 is not a symbolic link\r\n",
      "\r\n",
      "/sbin/ldconfig.real: /usr/local/lib/libtcm.so.1 is not a symbolic link\r\n",
      "\r\n",
      "/sbin/ldconfig.real: /usr/local/lib/libhwloc.so.15 is not a symbolic link\r\n",
      "\r\n",
      "/sbin/ldconfig.real: /usr/local/lib/libur_loader.so.0 is not a symbolic link\r\n",
      "\r\n",
      "/sbin/ldconfig.real: /usr/local/lib/libur_adapter_level_zero.so.0 is not a symbolic link\r\n",
      "\r\n",
      "/sbin/ldconfig.real: /usr/local/lib/libur_adapter_opencl.so.0 is not a symbolic link\r\n",
      "\r\n",
      "/sbin/ldconfig.real: /usr/local/lib/libtbbbind_2_5.so.3 is not a symbolic link\r\n",
      "\r\n",
      "/sbin/ldconfig.real: /usr/local/lib/libtbbbind.so.3 is not a symbolic link\r\n",
      "\r\n",
      "/sbin/ldconfig.real: /usr/local/lib/libtbbbind_2_0.so.3 is not a symbolic link\r\n",
      "\r\n",
      "/sbin/ldconfig.real: /usr/local/lib/libtbb.so.12 is not a symbolic link\r\n",
      "\r\n",
      "/sbin/ldconfig.real: /usr/local/lib/libtbbmalloc_proxy.so.2 is not a symbolic link\r\n",
      "\r\n",
      "/sbin/ldconfig.real: /usr/local/lib/libtbbmalloc.so.2 is not a symbolic link\r\n",
      "\r\n"
     ]
    }
   ],
   "source": [
    "# Install bowtie2 and samtools\n",
    "\n",
    "!apt-get update -qq\n",
    "!apt-get install -y bowtie2 samtools"
   ]
  },
  {
   "cell_type": "code",
   "execution_count": 4,
   "id": "45376863",
   "metadata": {
    "execution": {
     "iopub.execute_input": "2025-09-20T04:26:47.381254Z",
     "iopub.status.busy": "2025-09-20T04:26:47.380952Z",
     "iopub.status.idle": "2025-09-20T04:26:47.691968Z",
     "shell.execute_reply": "2025-09-20T04:26:47.690946Z"
    },
    "papermill": {
     "duration": 0.329592,
     "end_time": "2025-09-20T04:26:47.693761",
     "exception": false,
     "start_time": "2025-09-20T04:26:47.364169",
     "status": "completed"
    },
    "tags": []
   },
   "outputs": [
    {
     "name": "stdout",
     "output_type": "stream",
     "text": [
      "/usr/bin/bowtie2-align-s version 2.4.4\r\n",
      "samtools 1.13\r\n"
     ]
    }
   ],
   "source": [
    "# Check installation\n",
    "\n",
    "!bowtie2 --version | head -n 1\n",
    "!samtools --version | head -n 1"
   ]
  },
  {
   "cell_type": "code",
   "execution_count": 5,
   "id": "0b515826",
   "metadata": {
    "execution": {
     "iopub.execute_input": "2025-09-20T04:26:47.726536Z",
     "iopub.status.busy": "2025-09-20T04:26:47.726180Z",
     "iopub.status.idle": "2025-09-20T04:26:48.092429Z",
     "shell.execute_reply": "2025-09-20T04:26:48.091206Z"
    },
    "papermill": {
     "duration": 0.385066,
     "end_time": "2025-09-20T04:26:48.094184",
     "exception": false,
     "start_time": "2025-09-20T04:26:47.709118",
     "status": "completed"
    },
    "tags": []
   },
   "outputs": [],
   "source": [
    "# Organize dirs\n",
    "shutil.rmtree(ROOT_DIR, ignore_errors=True)\n",
    "os.makedirs(ROOT_DIR)\n",
    "\n",
    "!mkdir -p {REF_DIR}\n",
    "!mkdir -p {ALIGN_DIR}\n",
    "!mkdir -p {DATA_DIR}"
   ]
  },
  {
   "cell_type": "markdown",
   "id": "b31e4de1",
   "metadata": {
    "papermill": {
     "duration": 0.015751,
     "end_time": "2025-09-20T04:26:48.125832",
     "exception": false,
     "start_time": "2025-09-20T04:26:48.110081",
     "status": "completed"
    },
    "tags": []
   },
   "source": [
    "# Retrieve Reference Genome Sequence"
   ]
  },
  {
   "cell_type": "code",
   "execution_count": 6,
   "id": "8f6bc457",
   "metadata": {
    "execution": {
     "iopub.execute_input": "2025-09-20T04:26:48.158493Z",
     "iopub.status.busy": "2025-09-20T04:26:48.158148Z",
     "iopub.status.idle": "2025-09-20T04:26:50.576865Z",
     "shell.execute_reply": "2025-09-20T04:26:50.575282Z"
    },
    "papermill": {
     "duration": 2.437782,
     "end_time": "2025-09-20T04:26:50.578925",
     "exception": false,
     "start_time": "2025-09-20T04:26:48.141143",
     "status": "completed"
    },
    "tags": []
   },
   "outputs": [
    {
     "name": "stdout",
     "output_type": "stream",
     "text": [
      "--2025-09-20 04:26:48--  ftp://ftp.ncbi.nlm.nih.gov/genomes/all/GCF/000/005/845/GCF_000005845.2_ASM584v2/GCF_000005845.2_ASM584v2_genomic.fna.gz\r\n",
      "           => ‘/kaggle/working/ecoli/ref/ecoli_ref.fa.gz’\r\n",
      "Resolving ftp.ncbi.nlm.nih.gov (ftp.ncbi.nlm.nih.gov)... 130.14.250.31, 130.14.250.13, 130.14.250.7, ...\r\n",
      "Connecting to ftp.ncbi.nlm.nih.gov (ftp.ncbi.nlm.nih.gov)|130.14.250.31|:21... connected.\r\n",
      "Logging in as anonymous ... Logged in!\r\n",
      "==> SYST ... done.    ==> PWD ... done.\r\n",
      "==> TYPE I ... done.  ==> CWD (1) /genomes/all/GCF/000/005/845/GCF_000005845.2_ASM584v2 ... done.\r\n",
      "==> SIZE GCF_000005845.2_ASM584v2_genomic.fna.gz ... 1379902\r\n",
      "==> PASV ... done.    ==> RETR GCF_000005845.2_ASM584v2_genomic.fna.gz ... done.\r\n",
      "Length: 1379902 (1.3M) (unauthoritative)\r\n",
      "\r\n",
      "GCF_000005845.2_ASM 100%[===================>]   1.32M  2.02MB/s    in 0.7s    \r\n",
      "\r\n",
      "2025-09-20 04:26:50 (2.02 MB/s) - ‘/kaggle/working/ecoli/ref/ecoli_ref.fa.gz’ saved [1379902]\r\n",
      "\r\n",
      ">NC_000913.3\r\n",
      "AGCTTTTCATTCTGACTGCAACGGGCAATATGTCTCTGTGTGGATTAAAAAAAGAGTGTCTGATAGCAGCTTCTGAACTG\r\n",
      "GTTACCTGCCGTGAGTAAATTAAAATTTTATTGACTTAGGTCACTAAATACTTTAACCAATATAGGCATAGCGCACAGAC\r\n",
      "AGATAAAAATTACAGAGTACACAACATCCATGAAACGCATTAGCACCACCATTACCACCACCATCACCATTACCACAGGT\r\n",
      "AACGGTGCGGGCTGACGCGTACAGGAAACACAGAAAAAAGCCCGCACCTGACAGTGCGGGCTTTTTTTTTCGACCAAAGG\r\n"
     ]
    }
   ],
   "source": [
    "# Download E. coli K-12 MG1655 reference genome\n",
    "!wget -O $REF_DIR/ecoli_ref.fa.gz \\\n",
    "ftp://ftp.ncbi.nlm.nih.gov/genomes/all/GCF/000/005/845/GCF_000005845.2_ASM584v2/GCF_000005845.2_ASM584v2_genomic.fna.gz\n",
    "\n",
    "# Unzip\n",
    "!gunzip -f $REF_DIR/ecoli_ref.fa.gz\n",
    "\n",
    "# Fix header so it matches SAM reference names\n",
    "# SAM uses: NC_000913.3\n",
    "!sed -i 's/^>.*NC_000913.3.*/>NC_000913.3/' $REF_DIR/ecoli_ref.fa\n",
    "\n",
    "# Verify first few lines\n",
    "!head -n 5 $REF_DIR/ecoli_ref.fa"
   ]
  },
  {
   "cell_type": "code",
   "execution_count": 7,
   "id": "502f0a47",
   "metadata": {
    "execution": {
     "iopub.execute_input": "2025-09-20T04:26:50.614789Z",
     "iopub.status.busy": "2025-09-20T04:26:50.614508Z",
     "iopub.status.idle": "2025-09-20T04:26:50.895646Z",
     "shell.execute_reply": "2025-09-20T04:26:50.894777Z"
    },
    "papermill": {
     "duration": 0.300467,
     "end_time": "2025-09-20T04:26:50.897279",
     "exception": false,
     "start_time": "2025-09-20T04:26:50.596812",
     "status": "completed"
    },
    "tags": []
   },
   "outputs": [
    {
     "data": {
      "text/html": [
       "<div>\n",
       "<style scoped>\n",
       "    .dataframe tbody tr th:only-of-type {\n",
       "        vertical-align: middle;\n",
       "    }\n",
       "\n",
       "    .dataframe tbody tr th {\n",
       "        vertical-align: top;\n",
       "    }\n",
       "\n",
       "    .dataframe thead th {\n",
       "        text-align: right;\n",
       "    }\n",
       "</style>\n",
       "<table border=\"1\" class=\"dataframe\">\n",
       "  <thead>\n",
       "    <tr style=\"text-align: right;\">\n",
       "      <th></th>\n",
       "      <th>Chromosome</th>\n",
       "      <th>Start</th>\n",
       "      <th>End</th>\n",
       "      <th>Length</th>\n",
       "      <th>A</th>\n",
       "      <th>C</th>\n",
       "      <th>G</th>\n",
       "      <th>T</th>\n",
       "      <th>N</th>\n",
       "    </tr>\n",
       "  </thead>\n",
       "  <tbody>\n",
       "    <tr>\n",
       "      <th>0</th>\n",
       "      <td>NC_000913.3</td>\n",
       "      <td>1</td>\n",
       "      <td>4641652</td>\n",
       "      <td>4641652</td>\n",
       "      <td>1142742</td>\n",
       "      <td>1180091</td>\n",
       "      <td>1177437</td>\n",
       "      <td>1141382</td>\n",
       "      <td>0</td>\n",
       "    </tr>\n",
       "  </tbody>\n",
       "</table>\n",
       "</div>"
      ],
      "text/plain": [
       "    Chromosome  Start      End   Length        A        C        G        T  N\n",
       "0  NC_000913.3      1  4641652  4641652  1142742  1180091  1177437  1141382  0"
      ]
     },
     "execution_count": 7,
     "metadata": {},
     "output_type": "execute_result"
    }
   ],
   "source": [
    "## Chromosome statistics \n",
    "\n",
    "# Parse the fasta file\n",
    "fasta_file = os.path.join(REF_DIR, 'ecoli_ref.fa')\n",
    "records = SeqIO.parse(fasta_file, \"fasta\")\n",
    "\n",
    "rows = []\n",
    "for record in records:\n",
    "    seq = str(record.seq).upper()\n",
    "    length = len(seq)\n",
    "    \n",
    "    # Count bases\n",
    "    base_counts = {\n",
    "        \"A\": seq.count(\"A\"),\n",
    "        \"C\": seq.count(\"C\"),\n",
    "        \"G\": seq.count(\"G\"),\n",
    "        \"T\": seq.count(\"T\"),\n",
    "        \"N\": seq.count(\"N\")  # unknown bases\n",
    "    }\n",
    "    \n",
    "    rows.append({\n",
    "        \"Chromosome\": record.id,\n",
    "        \"Start\": 1,\n",
    "        \"End\": length,\n",
    "        \"Length\": length,\n",
    "        **base_counts\n",
    "    })\n",
    "\n",
    "# Convert to DataFrame\n",
    "pd.DataFrame(rows)"
   ]
  },
  {
   "cell_type": "code",
   "execution_count": 8,
   "id": "4b4d2058",
   "metadata": {
    "execution": {
     "iopub.execute_input": "2025-09-20T04:26:50.932328Z",
     "iopub.status.busy": "2025-09-20T04:26:50.931220Z",
     "iopub.status.idle": "2025-09-20T04:26:55.444307Z",
     "shell.execute_reply": "2025-09-20T04:26:55.442866Z"
    },
    "papermill": {
     "duration": 4.532233,
     "end_time": "2025-09-20T04:26:55.446052",
     "exception": false,
     "start_time": "2025-09-20T04:26:50.913819",
     "status": "completed"
    },
    "tags": []
   },
   "outputs": [
    {
     "name": "stdout",
     "output_type": "stream",
     "text": [
      "Settings:\r\n",
      "  Output files: \"/kaggle/working/ecoli/ref/ecoli_ref_index.*.bt2\"\r\n",
      "  Line rate: 6 (line is 64 bytes)\r\n",
      "  Lines per side: 1 (side is 64 bytes)\r\n",
      "  Offset rate: 4 (one in 16)\r\n",
      "  FTable chars: 10\r\n",
      "  Strings: unpacked\r\n",
      "  Max bucket size: default\r\n",
      "  Max bucket size, sqrt multiplier: default\r\n",
      "  Max bucket size, len divisor: 4\r\n",
      "  Difference-cover sample period: 1024\r\n",
      "  Endianness: little\r\n",
      "  Actual local endianness: little\r\n",
      "  Sanity checking: disabled\r\n",
      "  Assertions: disabled\r\n",
      "  Random seed: 0\r\n",
      "  Sizeofs: void*:8, int:4, long:8, size_t:8\r\n",
      "Input files DNA, FASTA:\r\n",
      "  /kaggle/working/ecoli/ref/ecoli_ref.fa\r\n",
      "Building a SMALL index\r\n",
      "Reading reference sizes\r\n",
      "  Time reading reference sizes: 00:00:00\r\n",
      "Calculating joined length\r\n",
      "Writing header\r\n",
      "Reserving space for joined string\r\n",
      "Joining reference sequences\r\n",
      "  Time to join reference sequences: 00:00:00\r\n",
      "bmax according to bmaxDivN setting: 1160413\r\n",
      "Using parameters --bmax 870310 --dcv 1024\r\n",
      "  Doing ahead-of-time memory usage test\r\n",
      "  Passed!  Constructing with these parameters: --bmax 870310 --dcv 1024\r\n",
      "Constructing suffix-array element generator\r\n",
      "Building DifferenceCoverSample\r\n",
      "  Building sPrime\r\n",
      "  Building sPrimeOrder\r\n",
      "  V-Sorting samples\r\n",
      "  V-Sorting samples time: 00:00:00\r\n",
      "  Allocating rank array\r\n",
      "  Ranking v-sort output\r\n",
      "  Ranking v-sort output time: 00:00:00\r\n",
      "  Invoking Larsson-Sadakane on ranks\r\n",
      "  Invoking Larsson-Sadakane on ranks time: 00:00:00\r\n",
      "  Sanity-checking and returning\r\n",
      "Building samples\r\n",
      "Reserving space for 12 sample suffixes\r\n",
      "Generating random suffixes\r\n",
      "QSorting 12 sample offsets, eliminating duplicates\r\n",
      "QSorting sample offsets, eliminating duplicates time: 00:00:00\r\n",
      "Multikey QSorting 12 samples\r\n",
      "  (Using difference cover)\r\n",
      "  Multikey QSorting samples time: 00:00:00\r\n",
      "Calculating bucket sizes\r\n",
      "Splitting and merging\r\n",
      "  Splitting and merging time: 00:00:00\r\n",
      "Split 1, merged 6; iterating...\r\n",
      "Splitting and merging\r\n",
      "  Splitting and merging time: 00:00:00\r\n",
      "Avg bucket size: 663092 (target: 870309)\r\n",
      "Converting suffix-array elements to index image\r\n",
      "Allocating ftab, absorbFtab\r\n",
      "Entering Ebwt loop\r\n",
      "Getting block 1 of 7\r\n",
      "  Reserving size (870310) for bucket 1\r\n",
      "  Calculating Z arrays for bucket 1\r\n",
      "  Entering block accumulator loop for bucket 1:\r\n",
      "  bucket 1: 10%\r\n",
      "  bucket 1: 20%\r\n",
      "  bucket 1: 30%\r\n",
      "  bucket 1: 40%\r\n",
      "  bucket 1: 50%\r\n",
      "  bucket 1: 60%\r\n",
      "  bucket 1: 70%\r\n",
      "  bucket 1: 80%\r\n",
      "  bucket 1: 90%\r\n",
      "  bucket 1: 100%\r\n",
      "  Sorting block of length 415161 for bucket 1\r\n",
      "  (Using difference cover)\r\n",
      "  Sorting block time: 00:00:00\r\n",
      "Returning block of 415162 for bucket 1\r\n",
      "Getting block 2 of 7\r\n",
      "  Reserving size (870310) for bucket 2\r\n",
      "  Calculating Z arrays for bucket 2\r\n",
      "  Entering block accumulator loop for bucket 2:\r\n",
      "  bucket 2: 10%\r\n",
      "  bucket 2: 20%\r\n",
      "  bucket 2: 30%\r\n",
      "  bucket 2: 40%\r\n",
      "  bucket 2: 50%\r\n",
      "  bucket 2: 60%\r\n",
      "  bucket 2: 70%\r\n",
      "  bucket 2: 80%\r\n",
      "  bucket 2: 90%\r\n",
      "  bucket 2: 100%\r\n",
      "  Sorting block of length 704345 for bucket 2\r\n",
      "  (Using difference cover)\r\n",
      "  Sorting block time: 00:00:00\r\n",
      "Returning block of 704346 for bucket 2\r\n",
      "Getting block 3 of 7\r\n",
      "  Reserving size (870310) for bucket 3\r\n",
      "  Calculating Z arrays for bucket 3\r\n",
      "  Entering block accumulator loop for bucket 3:\r\n",
      "  bucket 3: 10%\r\n",
      "  bucket 3: 20%\r\n",
      "  bucket 3: 30%\r\n",
      "  bucket 3: 40%\r\n",
      "  bucket 3: 50%\r\n",
      "  bucket 3: 60%\r\n",
      "  bucket 3: 70%\r\n",
      "  bucket 3: 80%\r\n",
      "  bucket 3: 90%\r\n",
      "  bucket 3: 100%\r\n",
      "  Sorting block of length 715232 for bucket 3\r\n",
      "  (Using difference cover)\r\n",
      "  Sorting block time: 00:00:00\r\n",
      "Returning block of 715233 for bucket 3\r\n",
      "Getting block 4 of 7\r\n",
      "  Reserving size (870310) for bucket 4\r\n",
      "  Calculating Z arrays for bucket 4\r\n",
      "  Entering block accumulator loop for bucket 4:\r\n",
      "  bucket 4: 10%\r\n",
      "  bucket 4: 20%\r\n",
      "  bucket 4: 30%\r\n",
      "  bucket 4: 40%\r\n",
      "  bucket 4: 50%\r\n",
      "  bucket 4: 60%\r\n",
      "  bucket 4: 70%\r\n",
      "  bucket 4: 80%\r\n",
      "  bucket 4: 90%\r\n",
      "  bucket 4: 100%\r\n",
      "  Sorting block of length 638686 for bucket 4\r\n",
      "  (Using difference cover)\r\n",
      "  Sorting block time: 00:00:00\r\n",
      "Returning block of 638687 for bucket 4\r\n",
      "Getting block 5 of 7\r\n",
      "  Reserving size (870310) for bucket 5\r\n",
      "  Calculating Z arrays for bucket 5\r\n",
      "  Entering block accumulator loop for bucket 5:\r\n",
      "  bucket 5: 10%\r\n",
      "  bucket 5: 20%\r\n",
      "  bucket 5: 30%\r\n",
      "  bucket 5: 40%\r\n",
      "  bucket 5: 50%\r\n",
      "  bucket 5: 60%\r\n",
      "  bucket 5: 70%\r\n",
      "  bucket 5: 80%\r\n",
      "  bucket 5: 90%\r\n",
      "  bucket 5: 100%\r\n",
      "  Sorting block of length 779115 for bucket 5\r\n",
      "  (Using difference cover)\r\n",
      "  Sorting block time: 00:00:00\r\n",
      "Returning block of 779116 for bucket 5\r\n",
      "Getting block 6 of 7\r\n",
      "  Reserving size (870310) for bucket 6\r\n",
      "  Calculating Z arrays for bucket 6\r\n",
      "  Entering block accumulator loop for bucket 6:\r\n",
      "  bucket 6: 10%\r\n",
      "  bucket 6: 20%\r\n",
      "  bucket 6: 30%\r\n",
      "  bucket 6: 40%\r\n",
      "  bucket 6: 50%\r\n",
      "  bucket 6: 60%\r\n",
      "  bucket 6: 70%\r\n",
      "  bucket 6: 80%\r\n",
      "  bucket 6: 90%\r\n",
      "  bucket 6: 100%\r\n",
      "  Sorting block of length 548871 for bucket 6\r\n",
      "  (Using difference cover)\r\n",
      "  Sorting block time: 00:00:00\r\n",
      "Returning block of 548872 for bucket 6\r\n",
      "Getting block 7 of 7\r\n",
      "  Reserving size (870310) for bucket 7\r\n",
      "  Calculating Z arrays for bucket 7\r\n",
      "  Entering block accumulator loop for bucket 7:\r\n",
      "  bucket 7: 10%\r\n",
      "  bucket 7: 20%\r\n",
      "  bucket 7: 30%\r\n",
      "  bucket 7: 40%\r\n",
      "  bucket 7: 50%\r\n",
      "  bucket 7: 60%\r\n",
      "  bucket 7: 70%\r\n",
      "  bucket 7: 80%\r\n",
      "  bucket 7: 90%\r\n",
      "  bucket 7: 100%\r\n",
      "  Sorting block of length 840236 for bucket 7\r\n",
      "  (Using difference cover)\r\n",
      "  Sorting block time: 00:00:01\r\n",
      "Returning block of 840237 for bucket 7\r\n",
      "Exited Ebwt loop\r\n",
      "fchr[A]: 0\r\n",
      "fchr[C]: 1142742\r\n",
      "fchr[G]: 2322833\r\n",
      "fchr[T]: 3500270\r\n",
      "fchr[$]: 4641652\r\n",
      "Exiting Ebwt::buildToDisk()\r\n",
      "Returning from initFromVector\r\n",
      "Wrote 5741741 bytes to primary EBWT file: /kaggle/working/ecoli/ref/ecoli_ref_index.1.bt2\r\n",
      "Wrote 1160420 bytes to secondary EBWT file: /kaggle/working/ecoli/ref/ecoli_ref_index.2.bt2\r\n",
      "Re-opening _in1 and _in2 as input streams\r\n",
      "Returning from Ebwt constructor\r\n",
      "Headers:\r\n",
      "    len: 4641652\r\n",
      "    bwtLen: 4641653\r\n",
      "    sz: 1160413\r\n",
      "    bwtSz: 1160414\r\n",
      "    lineRate: 6\r\n",
      "    offRate: 4\r\n",
      "    offMask: 0xfffffff0\r\n",
      "    ftabChars: 10\r\n",
      "    eftabLen: 20\r\n",
      "    eftabSz: 80\r\n",
      "    ftabLen: 1048577\r\n",
      "    ftabSz: 4194308\r\n",
      "    offsLen: 290104\r\n",
      "    offsSz: 1160416\r\n",
      "    lineSz: 64\r\n",
      "    sideSz: 64\r\n",
      "    sideBwtSz: 48\r\n",
      "    sideBwtLen: 192\r\n",
      "    numSides: 24176\r\n",
      "    numLines: 24176\r\n",
      "    ebwtTotLen: 1547264\r\n",
      "    ebwtTotSz: 1547264\r\n",
      "    color: 0\r\n",
      "    reverse: 0\r\n",
      "Total time for call to driver() for forward index: 00:00:02\r\n",
      "Reading reference sizes\r\n",
      "  Time reading reference sizes: 00:00:00\r\n",
      "Calculating joined length\r\n",
      "Writing header\r\n",
      "Reserving space for joined string\r\n",
      "Joining reference sequences\r\n",
      "  Time to join reference sequences: 00:00:00\r\n",
      "  Time to reverse reference sequence: 00:00:00\r\n",
      "bmax according to bmaxDivN setting: 1160413\r\n",
      "Using parameters --bmax 870310 --dcv 1024\r\n",
      "  Doing ahead-of-time memory usage test\r\n",
      "  Passed!  Constructing with these parameters: --bmax 870310 --dcv 1024\r\n",
      "Constructing suffix-array element generator\r\n",
      "Building DifferenceCoverSample\r\n",
      "  Building sPrime\r\n",
      "  Building sPrimeOrder\r\n",
      "  V-Sorting samples\r\n",
      "  V-Sorting samples time: 00:00:00\r\n",
      "  Allocating rank array\r\n",
      "  Ranking v-sort output\r\n",
      "  Ranking v-sort output time: 00:00:00\r\n",
      "  Invoking Larsson-Sadakane on ranks\r\n",
      "  Invoking Larsson-Sadakane on ranks time: 00:00:00\r\n",
      "  Sanity-checking and returning\r\n",
      "Building samples\r\n",
      "Reserving space for 12 sample suffixes\r\n",
      "Generating random suffixes\r\n",
      "QSorting 12 sample offsets, eliminating duplicates\r\n",
      "QSorting sample offsets, eliminating duplicates time: 00:00:00\r\n",
      "Multikey QSorting 12 samples\r\n",
      "  (Using difference cover)\r\n",
      "  Multikey QSorting samples time: 00:00:00\r\n",
      "Calculating bucket sizes\r\n",
      "Splitting and merging\r\n",
      "  Splitting and merging time: 00:00:00\r\n",
      "Split 2, merged 7; iterating...\r\n",
      "Splitting and merging\r\n",
      "  Splitting and merging time: 00:00:00\r\n",
      "Split 1, merged 1; iterating...\r\n",
      "Splitting and merging\r\n",
      "  Splitting and merging time: 00:00:00\r\n",
      "Avg bucket size: 580206 (target: 870309)\r\n",
      "Converting suffix-array elements to index image\r\n",
      "Allocating ftab, absorbFtab\r\n",
      "Entering Ebwt loop\r\n",
      "Getting block 1 of 8\r\n",
      "  Reserving size (870310) for bucket 1\r\n",
      "  Calculating Z arrays for bucket 1\r\n",
      "  Entering block accumulator loop for bucket 1:\r\n",
      "  bucket 1: 10%\r\n",
      "  bucket 1: 20%\r\n",
      "  bucket 1: 30%\r\n",
      "  bucket 1: 40%\r\n",
      "  bucket 1: 50%\r\n",
      "  bucket 1: 60%\r\n",
      "  bucket 1: 70%\r\n",
      "  bucket 1: 80%\r\n",
      "  bucket 1: 90%\r\n",
      "  bucket 1: 100%\r\n",
      "  Sorting block of length 696384 for bucket 1\r\n",
      "  (Using difference cover)\r\n",
      "  Sorting block time: 00:00:00\r\n",
      "Returning block of 696385 for bucket 1\r\n",
      "Getting block 2 of 8\r\n",
      "  Reserving size (870310) for bucket 2\r\n",
      "  Calculating Z arrays for bucket 2\r\n",
      "  Entering block accumulator loop for bucket 2:\r\n",
      "  bucket 2: 10%\r\n",
      "  bucket 2: 20%\r\n",
      "  bucket 2: 30%\r\n",
      "  bucket 2: 40%\r\n",
      "  bucket 2: 50%\r\n",
      "  bucket 2: 60%\r\n",
      "  bucket 2: 70%\r\n",
      "  bucket 2: 80%\r\n",
      "  bucket 2: 90%\r\n",
      "  bucket 2: 100%\r\n",
      "  Sorting block of length 333881 for bucket 2\r\n",
      "  (Using difference cover)\r\n",
      "  Sorting block time: 00:00:00\r\n",
      "Returning block of 333882 for bucket 2\r\n",
      "Getting block 3 of 8\r\n",
      "  Reserving size (870310) for bucket 3\r\n",
      "  Calculating Z arrays for bucket 3\r\n",
      "  Entering block accumulator loop for bucket 3:\r\n",
      "  bucket 3: 10%\r\n",
      "  bucket 3: 20%\r\n",
      "  bucket 3: 30%\r\n",
      "  bucket 3: 40%\r\n",
      "  bucket 3: 50%\r\n",
      "  bucket 3: 60%\r\n",
      "  bucket 3: 70%\r\n",
      "  bucket 3: 80%\r\n",
      "  bucket 3: 90%\r\n",
      "  bucket 3: 100%\r\n",
      "  Sorting block of length 565798 for bucket 3\r\n",
      "  (Using difference cover)\r\n",
      "  Sorting block time: 00:00:00\r\n",
      "Returning block of 565799 for bucket 3\r\n",
      "Getting block 4 of 8\r\n",
      "  Reserving size (870310) for bucket 4\r\n",
      "  Calculating Z arrays for bucket 4\r\n",
      "  Entering block accumulator loop for bucket 4:\r\n",
      "  bucket 4: 10%\r\n",
      "  bucket 4: 20%\r\n",
      "  bucket 4: 30%\r\n",
      "  bucket 4: 40%\r\n",
      "  bucket 4: 50%\r\n",
      "  bucket 4: 60%\r\n",
      "  bucket 4: 70%\r\n",
      "  bucket 4: 80%\r\n",
      "  bucket 4: 90%\r\n",
      "  bucket 4: 100%\r\n",
      "  Sorting block of length 312583 for bucket 4\r\n",
      "  (Using difference cover)\r\n",
      "  Sorting block time: 00:00:00\r\n",
      "Returning block of 312584 for bucket 4\r\n",
      "Getting block 5 of 8\r\n",
      "  Reserving size (870310) for bucket 5\r\n",
      "  Calculating Z arrays for bucket 5\r\n",
      "  Entering block accumulator loop for bucket 5:\r\n",
      "  bucket 5: 10%\r\n",
      "  bucket 5: 20%\r\n",
      "  bucket 5: 30%\r\n",
      "  bucket 5: 40%\r\n",
      "  bucket 5: 50%\r\n",
      "  bucket 5: 60%\r\n",
      "  bucket 5: 70%\r\n",
      "  bucket 5: 80%\r\n",
      "  bucket 5: 90%\r\n",
      "  bucket 5: 100%\r\n",
      "  Sorting block of length 783371 for bucket 5\r\n",
      "  (Using difference cover)\r\n",
      "  Sorting block time: 00:00:00\r\n",
      "Returning block of 783372 for bucket 5\r\n",
      "Getting block 6 of 8\r\n",
      "  Reserving size (870310) for bucket 6\r\n",
      "  Calculating Z arrays for bucket 6\r\n",
      "  Entering block accumulator loop for bucket 6:\r\n",
      "  bucket 6: 10%\r\n",
      "  bucket 6: 20%\r\n",
      "  bucket 6: 30%\r\n",
      "  bucket 6: 40%\r\n",
      "  bucket 6: 50%\r\n",
      "  bucket 6: 60%\r\n",
      "  bucket 6: 70%\r\n",
      "  bucket 6: 80%\r\n",
      "  bucket 6: 90%\r\n",
      "  bucket 6: 100%\r\n",
      "  Sorting block of length 823242 for bucket 6\r\n",
      "  (Using difference cover)\r\n",
      "  Sorting block time: 00:00:00\r\n",
      "Returning block of 823243 for bucket 6\r\n",
      "Getting block 7 of 8\r\n",
      "  Reserving size (870310) for bucket 7\r\n",
      "  Calculating Z arrays for bucket 7\r\n",
      "  Entering block accumulator loop for bucket 7:\r\n",
      "  bucket 7: 10%\r\n",
      "  bucket 7: 20%\r\n",
      "  bucket 7: 30%\r\n",
      "  bucket 7: 40%\r\n",
      "  bucket 7: 50%\r\n",
      "  bucket 7: 60%\r\n",
      "  bucket 7: 70%\r\n",
      "  bucket 7: 80%\r\n",
      "  bucket 7: 90%\r\n",
      "  bucket 7: 100%\r\n",
      "  Sorting block of length 609090 for bucket 7\r\n",
      "  (Using difference cover)\r\n",
      "  Sorting block time: 00:00:00\r\n",
      "Returning block of 609091 for bucket 7\r\n",
      "Getting block 8 of 8\r\n",
      "  Reserving size (870310) for bucket 8\r\n",
      "  Calculating Z arrays for bucket 8\r\n",
      "  Entering block accumulator loop for bucket 8:\r\n",
      "  bucket 8: 10%\r\n",
      "  bucket 8: 20%\r\n",
      "  bucket 8: 30%\r\n",
      "  bucket 8: 40%\r\n",
      "  bucket 8: 50%\r\n",
      "  bucket 8: 60%\r\n",
      "  bucket 8: 70%\r\n",
      "  bucket 8: 80%\r\n",
      "  bucket 8: 90%\r\n",
      "  bucket 8: 100%\r\n",
      "  Sorting block of length 517296 for bucket 8\r\n",
      "  (Using difference cover)\r\n",
      "  Sorting block time: 00:00:00\r\n",
      "Returning block of 517297 for bucket 8\r\n",
      "Exited Ebwt loop\r\n",
      "fchr[A]: 0\r\n",
      "fchr[C]: 1142742\r\n",
      "fchr[G]: 2322833\r\n",
      "fchr[T]: 3500270\r\n",
      "fchr[$]: 4641652\r\n",
      "Exiting Ebwt::buildToDisk()\r\n",
      "Returning from initFromVector\r\n",
      "Wrote 5741741 bytes to primary EBWT file: /kaggle/working/ecoli/ref/ecoli_ref_index.rev.1.bt2\r\n",
      "Wrote 1160420 bytes to secondary EBWT file: /kaggle/working/ecoli/ref/ecoli_ref_index.rev.2.bt2\r\n",
      "Re-opening _in1 and _in2 as input streams\r\n",
      "Returning from Ebwt constructor\r\n",
      "Headers:\r\n",
      "    len: 4641652\r\n",
      "    bwtLen: 4641653\r\n",
      "    sz: 1160413\r\n",
      "    bwtSz: 1160414\r\n",
      "    lineRate: 6\r\n",
      "    offRate: 4\r\n",
      "    offMask: 0xfffffff0\r\n",
      "    ftabChars: 10\r\n",
      "    eftabLen: 20\r\n",
      "    eftabSz: 80\r\n",
      "    ftabLen: 1048577\r\n",
      "    ftabSz: 4194308\r\n",
      "    offsLen: 290104\r\n",
      "    offsSz: 1160416\r\n",
      "    lineSz: 64\r\n",
      "    sideSz: 64\r\n",
      "    sideBwtSz: 48\r\n",
      "    sideBwtLen: 192\r\n",
      "    numSides: 24176\r\n",
      "    numLines: 24176\r\n",
      "    ebwtTotLen: 1547264\r\n",
      "    ebwtTotSz: 1547264\r\n",
      "    color: 0\r\n",
      "    reverse: 1\r\n",
      "Total time for backward call to driver() for mirror index: 00:00:02\r\n"
     ]
    }
   ],
   "source": [
    "# Indexing reference\n",
    "\n",
    "!bowtie2-build {REF_DIR}/ecoli_ref.fa {REF_DIR}/ecoli_ref_index"
   ]
  },
  {
   "cell_type": "markdown",
   "id": "6cfd554c",
   "metadata": {
    "papermill": {
     "duration": 0.019004,
     "end_time": "2025-09-20T04:26:55.542739",
     "exception": false,
     "start_time": "2025-09-20T04:26:55.523735",
     "status": "completed"
    },
    "tags": []
   },
   "source": [
    "# Read Simulation"
   ]
  },
  {
   "cell_type": "code",
   "execution_count": 9,
   "id": "5db6ddb2",
   "metadata": {
    "execution": {
     "iopub.execute_input": "2025-09-20T04:26:55.583128Z",
     "iopub.status.busy": "2025-09-20T04:26:55.582287Z",
     "iopub.status.idle": "2025-09-20T04:27:03.846536Z",
     "shell.execute_reply": "2025-09-20T04:27:03.845219Z"
    },
    "papermill": {
     "duration": 8.286156,
     "end_time": "2025-09-20T04:27:03.848199",
     "exception": false,
     "start_time": "2025-09-20T04:26:55.562043",
     "status": "completed"
    },
    "tags": []
   },
   "outputs": [
    {
     "name": "stdout",
     "output_type": "stream",
     "text": [
      "\r\n",
      "\r\n",
      "\r\n",
      "The following additional packages will be installed:\r\n",
      "  libgsl27 libgslcblas0\r\n",
      "Suggested packages:\r\n",
      "  art-nextgen-simulation-tools-profiles gsl-ref-psdoc | gsl-doc-pdf\r\n",
      "  | gsl-doc-info | gsl-ref-html\r\n",
      "The following NEW packages will be installed:\r\n",
      "  art-nextgen-simulation-tools libgsl27 libgslcblas0\r\n",
      "0 upgraded, 3 newly installed, 0 to remove and 167 not upgraded.\r\n",
      "Need to get 2,846 kB of archives.\r\n",
      "After this operation, 12.5 MB of additional disk space will be used.\r\n",
      "Get:1 http://archive.ubuntu.com/ubuntu jammy/universe amd64 libgslcblas0 amd64 2.7.1+dfsg-3 [94.4 kB]\r\n",
      "Get:2 http://archive.ubuntu.com/ubuntu jammy/universe amd64 libgsl27 amd64 2.7.1+dfsg-3 [1,000 kB]\r\n",
      "Get:3 http://archive.ubuntu.com/ubuntu jammy/universe amd64 art-nextgen-simulation-tools amd64 20160605+dfsg-4build2 [1,751 kB]\r\n",
      "Fetched 2,846 kB in 2s (1,648 kB/s)\r\n",
      "debconf: unable to initialize frontend: Dialog\r\n",
      "debconf: (No usable dialog-like program is installed, so the dialog based frontend cannot be used. at /usr/share/perl5/Debconf/FrontEnd/Dialog.pm line 78, <> line 3.)\r\n",
      "debconf: falling back to frontend: Readline\r\n",
      "Selecting previously unselected package libgslcblas0:amd64.\r\n",
      "(Reading database ... 128788 files and directories currently installed.)\r\n",
      "Preparing to unpack .../libgslcblas0_2.7.1+dfsg-3_amd64.deb ...\r\n",
      "Unpacking libgslcblas0:amd64 (2.7.1+dfsg-3) ...\r\n",
      "Selecting previously unselected package libgsl27:amd64.\r\n",
      "Preparing to unpack .../libgsl27_2.7.1+dfsg-3_amd64.deb ...\r\n",
      "Unpacking libgsl27:amd64 (2.7.1+dfsg-3) ...\r\n",
      "Selecting previously unselected package art-nextgen-simulation-tools.\r\n",
      "Preparing to unpack .../art-nextgen-simulation-tools_20160605+dfsg-4build2_amd64.deb ...\r\n",
      "Unpacking art-nextgen-simulation-tools (20160605+dfsg-4build2) ...\r\n",
      "Setting up libgslcblas0:amd64 (2.7.1+dfsg-3) ...\r\n",
      "Setting up libgsl27:amd64 (2.7.1+dfsg-3) ...\r\n",
      "Setting up art-nextgen-simulation-tools (20160605+dfsg-4build2) ...\r\n",
      "Processing triggers for libc-bin (2.35-0ubuntu3.8) ...\r\n",
      "/sbin/ldconfig.real: /usr/local/lib/libumf.so.0 is not a symbolic link\r\n",
      "\r\n",
      "/sbin/ldconfig.real: /usr/local/lib/libtcm_debug.so.1 is not a symbolic link\r\n",
      "\r\n",
      "/sbin/ldconfig.real: /usr/local/lib/libtcm.so.1 is not a symbolic link\r\n",
      "\r\n",
      "/sbin/ldconfig.real: /usr/local/lib/libhwloc.so.15 is not a symbolic link\r\n",
      "\r\n",
      "/sbin/ldconfig.real: /usr/local/lib/libur_loader.so.0 is not a symbolic link\r\n",
      "\r\n",
      "/sbin/ldconfig.real: /usr/local/lib/libur_adapter_level_zero.so.0 is not a symbolic link\r\n",
      "\r\n",
      "/sbin/ldconfig.real: /usr/local/lib/libur_adapter_opencl.so.0 is not a symbolic link\r\n",
      "\r\n",
      "/sbin/ldconfig.real: /usr/local/lib/libtbbbind_2_5.so.3 is not a symbolic link\r\n",
      "\r\n",
      "/sbin/ldconfig.real: /usr/local/lib/libtbbbind.so.3 is not a symbolic link\r\n",
      "\r\n",
      "/sbin/ldconfig.real: /usr/local/lib/libtbbbind_2_0.so.3 is not a symbolic link\r\n",
      "\r\n",
      "/sbin/ldconfig.real: /usr/local/lib/libtbb.so.12 is not a symbolic link\r\n",
      "\r\n",
      "/sbin/ldconfig.real: /usr/local/lib/libtbbmalloc_proxy.so.2 is not a symbolic link\r\n",
      "\r\n",
      "/sbin/ldconfig.real: /usr/local/lib/libtbbmalloc.so.2 is not a symbolic link\r\n",
      "\r\n",
      "Processing triggers for man-db (2.10.2-1) ...\r\n"
     ]
    }
   ],
   "source": [
    "# Install illumina\n",
    "\n",
    "!sudo apt-get install art-nextgen-simulation-tools"
   ]
  },
  {
   "cell_type": "code",
   "execution_count": 10,
   "id": "a73aa742",
   "metadata": {
    "execution": {
     "iopub.execute_input": "2025-09-20T04:27:03.893272Z",
     "iopub.status.busy": "2025-09-20T04:27:03.892381Z",
     "iopub.status.idle": "2025-09-20T04:27:40.946560Z",
     "shell.execute_reply": "2025-09-20T04:27:40.945292Z"
    },
    "papermill": {
     "duration": 37.078806,
     "end_time": "2025-09-20T04:27:40.948265",
     "exception": false,
     "start_time": "2025-09-20T04:27:03.869459",
     "status": "completed"
    },
    "tags": []
   },
   "outputs": [
    {
     "name": "stdout",
     "output_type": "stream",
     "text": [
      "\r\n",
      "    ====================ART====================\r\n",
      "             ART_Illumina (2008-2016)          \r\n",
      "          Q Version 2.5.8 (June 6, 2016)       \r\n",
      "     Contact: Weichun Huang <whduke@gmail.com> \r\n",
      "    -------------------------------------------\r\n",
      "\r\n",
      "                  Paired-end sequencing simulation\r\n",
      "\r\n",
      "Total CPU time used: 36.8203\r\n",
      "\r\n",
      "The random seed for the run: 1234\r\n",
      "\r\n",
      "Parameters used during run\r\n",
      "\tRead Length:\t100\r\n",
      "\tGenome masking 'N' cutoff frequency: \t1 in 100\r\n",
      "\tFold Coverage:            30X\r\n",
      "\tMean Fragment Length:     300\r\n",
      "\tStandard Deviation:       10\r\n",
      "\tProfile Type:             Combined\r\n",
      "\tID Tag:                   \r\n",
      "\r\n",
      "Quality Profile(s)\r\n",
      "\tFirst Read:   HiSeq 2500 Length 126 R1 (built-in profile) \r\n",
      "\tFirst Read:   HiSeq 2500 Length 126 R2 (built-in profile) \r\n",
      "\r\n",
      "Output files\r\n",
      "\r\n",
      "  FASTQ Sequence Files:\r\n",
      "\t the 1st reads: /kaggle/working/ecoli/ref/ecoli1.fq\r\n",
      "\t the 2nd reads: /kaggle/working/ecoli/ref/ecoli2.fq\r\n",
      "\r\n",
      "  ALN Alignment Files:\r\n",
      "\t the 1st reads: /kaggle/working/ecoli/ref/ecoli1.aln\r\n",
      "\t the 2nd reads: /kaggle/working/ecoli/ref/ecoli2.aln\r\n",
      "\r\n",
      "  SAM Alignment File:\r\n",
      "\t/kaggle/working/ecoli/ref/ecoli.sam\r\n",
      "\r\n"
     ]
    }
   ],
   "source": [
    "# Paired-end reads + truths\n",
    "\n",
    "!art_illumina -ss HS25 -sam -i {REF_DIR}/ecoli_ref.fa -p -l {READ_LENGTH} -f {FOLD_COVERAGE} -m {MEAN_FRAG_SIZE} -s {SD_FRAG_SIZE} -o {REF_DIR}/ecoli  -rs 1234"
   ]
  },
  {
   "cell_type": "markdown",
   "id": "fcd564df",
   "metadata": {
    "papermill": {
     "duration": 0.027418,
     "end_time": "2025-09-20T04:27:40.998517",
     "exception": false,
     "start_time": "2025-09-20T04:27:40.971099",
     "status": "completed"
    },
    "tags": []
   },
   "source": [
    "# Aligning Reads"
   ]
  },
  {
   "cell_type": "code",
   "execution_count": 11,
   "id": "82a804cb",
   "metadata": {
    "execution": {
     "iopub.execute_input": "2025-09-20T04:27:41.043167Z",
     "iopub.status.busy": "2025-09-20T04:27:41.042820Z",
     "iopub.status.idle": "2025-09-20T04:30:34.453971Z",
     "shell.execute_reply": "2025-09-20T04:30:34.452870Z"
    },
    "papermill": {
     "duration": 173.43604,
     "end_time": "2025-09-20T04:30:34.456000",
     "exception": false,
     "start_time": "2025-09-20T04:27:41.019960",
     "status": "completed"
    },
    "tags": []
   },
   "outputs": [
    {
     "name": "stdout",
     "output_type": "stream",
     "text": [
      "696240 reads; of these:\r\n",
      "  696240 (100.00%) were paired; of these:\r\n",
      "    28309 (4.07%) aligned concordantly 0 times\r\n",
      "    652814 (93.76%) aligned concordantly exactly 1 time\r\n",
      "    15117 (2.17%) aligned concordantly >1 times\r\n",
      "    ----\r\n",
      "    28309 pairs aligned concordantly 0 times; of these:\r\n",
      "      27315 (96.49%) aligned discordantly 1 time\r\n",
      "    ----\r\n",
      "    994 pairs aligned 0 times concordantly or discordantly; of these:\r\n",
      "      1988 mates make up the pairs; of these:\r\n",
      "        0 (0.00%) aligned 0 times\r\n",
      "        339 (17.05%) aligned exactly 1 time\r\n",
      "        1649 (82.95%) aligned >1 times\r\n",
      "100.00% overall alignment rate\r\n"
     ]
    }
   ],
   "source": [
    "# Using Bowtie: report multiple\n",
    "\n",
    "!bowtie2 -x {REF_DIR}/ecoli_ref_index -1 {REF_DIR}/ecoli1.fq -2 {REF_DIR}/ecoli2.fq \\\n",
    "  -I {MIN_INSERT} -X {MAX_INSERT} \\\n",
    "  -S {ALIGN_DIR}/ecoli_bowtie.sam -a --very-sensitive \\\n",
    "  --seed 1234"
   ]
  },
  {
   "cell_type": "code",
   "execution_count": 12,
   "id": "a2062e8d",
   "metadata": {
    "execution": {
     "iopub.execute_input": "2025-09-20T04:30:34.506046Z",
     "iopub.status.busy": "2025-09-20T04:30:34.505729Z",
     "iopub.status.idle": "2025-09-20T04:33:15.878576Z",
     "shell.execute_reply": "2025-09-20T04:33:15.877603Z"
    },
    "papermill": {
     "duration": 161.399988,
     "end_time": "2025-09-20T04:33:15.880101",
     "exception": false,
     "start_time": "2025-09-20T04:30:34.480113",
     "status": "completed"
    },
    "tags": []
   },
   "outputs": [
    {
     "name": "stdout",
     "output_type": "stream",
     "text": [
      "696240 reads; of these:\r\n",
      "  696240 (100.00%) were paired; of these:\r\n",
      "    28309 (4.07%) aligned concordantly 0 times\r\n",
      "    652817 (93.76%) aligned concordantly exactly 1 time\r\n",
      "    15114 (2.17%) aligned concordantly >1 times\r\n",
      "    ----\r\n",
      "    28309 pairs aligned concordantly 0 times; of these:\r\n",
      "      27318 (96.50%) aligned discordantly 1 time\r\n",
      "    ----\r\n",
      "    991 pairs aligned 0 times concordantly or discordantly; of these:\r\n",
      "      1982 mates make up the pairs; of these:\r\n",
      "        0 (0.00%) aligned 0 times\r\n",
      "        336 (16.95%) aligned exactly 1 time\r\n",
      "        1646 (83.05%) aligned >1 times\r\n",
      "100.00% overall alignment rate\r\n"
     ]
    }
   ],
   "source": [
    "# Using Bowtie: report single\n",
    "\n",
    "!bowtie2 -x {REF_DIR}/ecoli_ref_index -1 {REF_DIR}/ecoli1.fq -2 {REF_DIR}/ecoli2.fq \\\n",
    "  -I {MIN_INSERT} -X {MAX_INSERT} \\\n",
    "  -S {ALIGN_DIR}/ecoli_bowtie_selected.sam --very-sensitive \\\n",
    "  --seed 1234"
   ]
  },
  {
   "cell_type": "markdown",
   "id": "d3180ab8",
   "metadata": {
    "papermill": {
     "duration": 0.022712,
     "end_time": "2025-09-20T04:33:15.924928",
     "exception": false,
     "start_time": "2025-09-20T04:33:15.902216",
     "status": "completed"
    },
    "tags": []
   },
   "source": [
    "# Filtering Multi-Mapping Reads"
   ]
  },
  {
   "cell_type": "code",
   "execution_count": 13,
   "id": "42237df8",
   "metadata": {
    "execution": {
     "iopub.execute_input": "2025-09-20T04:33:15.970718Z",
     "iopub.status.busy": "2025-09-20T04:33:15.970381Z",
     "iopub.status.idle": "2025-09-20T04:33:15.975713Z",
     "shell.execute_reply": "2025-09-20T04:33:15.974700Z"
    },
    "papermill": {
     "duration": 0.029992,
     "end_time": "2025-09-20T04:33:15.977216",
     "exception": false,
     "start_time": "2025-09-20T04:33:15.947224",
     "status": "completed"
    },
    "tags": []
   },
   "outputs": [],
   "source": [
    "align_sam_path = os.path.join(ALIGN_DIR, 'ecoli_bowtie.sam')\n",
    "truth_sam_path = os.path.join(REF_DIR, 'ecoli.sam')\n",
    "ref_path = os.path.join(REF_DIR, 'ecoli_ref.fa')"
   ]
  },
  {
   "cell_type": "code",
   "execution_count": 14,
   "id": "dc3789ca",
   "metadata": {
    "execution": {
     "iopub.execute_input": "2025-09-20T04:33:16.021023Z",
     "iopub.status.busy": "2025-09-20T04:33:16.020688Z",
     "iopub.status.idle": "2025-09-20T04:33:27.847653Z",
     "shell.execute_reply": "2025-09-20T04:33:27.846656Z"
    },
    "papermill": {
     "duration": 11.850866,
     "end_time": "2025-09-20T04:33:27.849094",
     "exception": false,
     "start_time": "2025-09-20T04:33:15.998228",
     "status": "completed"
    },
    "tags": []
   },
   "outputs": [
    {
     "name": "stdout",
     "output_type": "stream",
     "text": [
      "Truth dict size: 696240\n"
     ]
    }
   ],
   "source": [
    "def build_truth_dict(truth_sam_path, ref_path):\n",
    "    ref = pysam.FastaFile(ref_path)\n",
    "    truth_sam = pysam.AlignmentFile(truth_sam_path, \"r\", check_sq=False)\n",
    "    \n",
    "    # Collect all alignments by query name\n",
    "    truth_dict = {}\n",
    "    for aln in truth_sam.fetch(until_eof=True):\n",
    "        chr_name = aln.reference_name\n",
    "        qname = aln.query_name\n",
    "        read_num = 1 if aln.is_read1 else 2\n",
    "        start, end = aln.reference_start, aln.reference_end\n",
    "    \n",
    "        # Sanity checks\n",
    "        if chr_name is None: print('[E]: chr=None')\n",
    "        if start is None: print('[E]: start=None')\n",
    "        if end is None: print('[E]: end=None')\n",
    "    \n",
    "        truth_dict.setdefault(qname, []).append((read_num, chr_name, start, end))\n",
    "    \n",
    "    truth_sam.close()\n",
    "    \n",
    "    # Construct mate pairs\n",
    "    paired_truth_dict = {}\n",
    "    for qname, alns in truth_dict.items():\n",
    "        r1_entries = [aln for aln in alns if aln[0] == 1]\n",
    "        r2_entries = [aln for aln in alns if aln[0] == 2]\n",
    "    \n",
    "        # Ensure that truth data contains exactly one alignment per mate\n",
    "        assert len(r1_entries) == 1 and len(r2_entries) == 1\n",
    "        r1, r2 = r1_entries[0], r2_entries[0]\n",
    "        \n",
    "        # Verify both mates are aligned to the same chromosome\n",
    "        assert r1[1] == r2[1]\n",
    "        r1_chr = r1[1]\n",
    "        \n",
    "        r1_start, r1_end = r1[2], r1[3]\n",
    "        r2_start, r2_end = r2[2], r2[3]\n",
    "    \n",
    "        # Fetch reference sequence spanning both mates\n",
    "        seq = ref.fetch(r1_chr, min(r1_start, r2_start), max(r1_end, r2_end))\n",
    "    \n",
    "        paired_truth_dict[qname] = {\n",
    "            'chr': r1_chr, \n",
    "            'r1_start': r1_start, \n",
    "            'r1_end': r1_end, \n",
    "            'r2_start': r2_start, \n",
    "            'r2_end': r2_end, \n",
    "            'seq': seq\n",
    "        }\n",
    "        \n",
    "    ref.close()\n",
    "    print(f\"Truth dict size: {len(paired_truth_dict)}\")\n",
    "    return paired_truth_dict\n",
    "\n",
    "# Prepare ground truth dictionary\n",
    "truth_dict = build_truth_dict(truth_sam_path, ref_path)"
   ]
  },
  {
   "cell_type": "code",
   "execution_count": 15,
   "id": "a3b25c5e",
   "metadata": {
    "execution": {
     "iopub.execute_input": "2025-09-20T04:33:27.892969Z",
     "iopub.status.busy": "2025-09-20T04:33:27.892605Z",
     "iopub.status.idle": "2025-09-20T04:33:36.194613Z",
     "shell.execute_reply": "2025-09-20T04:33:36.193612Z"
    },
    "papermill": {
     "duration": 8.325765,
     "end_time": "2025-09-20T04:33:36.196200",
     "exception": false,
     "start_time": "2025-09-20T04:33:27.870435",
     "status": "completed"
    },
    "tags": []
   },
   "outputs": [
    {
     "name": "stdout",
     "output_type": "stream",
     "text": [
      "Selected dict size: 667931\n"
     ]
    }
   ],
   "source": [
    "def load_bowtie_selected_dict(selected_sam_path):\n",
    "    \"\"\"\n",
    "    Returns a dict: {qname: set of (chr, r1_start, r1_end, r2_start, r2_end)}\n",
    "    from the Bowtie2 run without -a (the chosen alignments).\n",
    "    \"\"\"\n",
    "    selected = {}\n",
    "    with pysam.AlignmentFile(selected_sam_path, \"r\", check_sq=False) as f:\n",
    "        tmp = {}\n",
    "        for aln in f.fetch(until_eof=True):\n",
    "            if not aln.is_proper_pair:\n",
    "                continue\n",
    "            q = aln.query_name\n",
    "            rnum = 1 if aln.is_read1 else 2\n",
    "            tmp.setdefault(q, {})[rnum] = aln\n",
    "        for q, mates in tmp.items():\n",
    "            if 1 in mates and 2 in mates:\n",
    "                r1, r2 = mates[1], mates[2]\n",
    "                if r1.reference_name == r2.reference_name:\n",
    "                    sig = (\n",
    "                        r1.reference_name,\n",
    "                        r1.reference_start, r1.reference_end,\n",
    "                        r2.reference_start, r2.reference_end\n",
    "                    )\n",
    "                    selected.setdefault(q, set()).add(sig)\n",
    "        print(f\"Selected dict size: {len(selected)}\")\n",
    "    return selected\n",
    "\n",
    "# Prepare bowtie selected dictionary\n",
    "selected_dict = load_bowtie_selected_dict(f\"{ALIGN_DIR}/ecoli_bowtie_selected.sam\")"
   ]
  },
  {
   "cell_type": "code",
   "execution_count": 16,
   "id": "372f5eae",
   "metadata": {
    "execution": {
     "iopub.execute_input": "2025-09-20T04:33:36.243166Z",
     "iopub.status.busy": "2025-09-20T04:33:36.242850Z",
     "iopub.status.idle": "2025-09-20T04:33:36.259245Z",
     "shell.execute_reply": "2025-09-20T04:33:36.258086Z"
    },
    "papermill": {
     "duration": 0.042499,
     "end_time": "2025-09-20T04:33:36.260767",
     "exception": false,
     "start_time": "2025-09-20T04:33:36.218268",
     "status": "completed"
    },
    "tags": []
   },
   "outputs": [],
   "source": [
    "def get_concordant_pairs(align_sam_path, ref_path):\n",
    "    ''' Returns exact (concordant once) and multi-mapping (concordant > 1) reads (paired)\n",
    "    '''\n",
    "    ref = pysam.FastaFile(ref_path)\n",
    "    align_sam = pysam.AlignmentFile(align_sam_path, \"r\", check_sq=False)\n",
    "\n",
    "    # Collect concordant alignments by query name\n",
    "    align_dict = {}\n",
    "    for aln in align_sam.fetch(until_eof=True):\n",
    "        if not aln.is_proper_pair:\n",
    "            continue\n",
    "\n",
    "        chr_name = aln.reference_name\n",
    "        qname = aln.query_name\n",
    "        read_num = 1 if aln.is_read1 else 2\n",
    "        start, end = aln.reference_start, aln.reference_end\n",
    "\n",
    "        # Sanity checks\n",
    "        if chr_name is None: print('[E]: chr=None')\n",
    "        if start is None: print('[E]: start=None')\n",
    "        if end is None: print('[E]: end=None')\n",
    "\n",
    "        align_dict.setdefault(qname, []).append((read_num, chr_name, start, end, aln))\n",
    "\n",
    "    align_sam.close()\n",
    "\n",
    "    # Make paired alignments\n",
    "    paired_alns = []\n",
    "    paired_one_alns = []\n",
    "    with tqdm(total=len(align_dict)) as pbar:\n",
    "        for qname, alns in align_dict.items():\n",
    "            pbar.update(1)\n",
    "            r1_entries = [aln for aln in alns if aln[0] == 1]\n",
    "            r2_entries = [aln for aln in alns if aln[0] == 2]\n",
    "            \n",
    "            # Must have equal number of entries\n",
    "            assert len(r1_entries) == len(r2_entries)\n",
    "            if len(r1_entries) == 1:\n",
    "                # Single align\n",
    "                r1, r2 = r1_entries[0], r2_entries[0]\n",
    "                assert r1[4].next_reference_start == r2[2] and r2[4].next_reference_start == r1[2]\n",
    "                # Chromosome sanity check\n",
    "                assert r1[1] == r2[1]\n",
    "                seq = ref.fetch(r1[1], min(r1[2], r2[2]), max(r1[3], r2[3]))\n",
    "                paired_one_alns.append({\n",
    "                    'qname': qname,\n",
    "                    'chr': r1[1],\n",
    "                    'r1_start': r1[2],\n",
    "                    'r1_end': r1[3],\n",
    "                    'r2_start': r2[2],\n",
    "                    'r2_end': r2[3], \n",
    "                    'r1_mapq': r1[4].mapping_quality, \n",
    "                    'r2_mapq': r2[4].mapping_quality, \n",
    "                    'r1_flag': r1[4].flag, \n",
    "                    'r2_flag': r2[4].flag, \n",
    "                    'r1_is_reverse': r1[4].is_reverse, \n",
    "                    'r2_is_reverse': r2[4].is_reverse, \n",
    "                    'r1_primary': not (r1[4].is_secondary or r1[4].is_supplementary), \n",
    "                    'r2_primary': not (r2[4].is_secondary or r2[4].is_supplementary), \n",
    "                    'tfidf_k6': None, \n",
    "                    'tfidf_k7': None, \n",
    "                    'tfidf_k8': None, \n",
    "                    'tfidf_k9': None, \n",
    "                    'tfidf_k10': None, \n",
    "                    'tfidf_k11': None, \n",
    "                    'tfidf_k12': None, \n",
    "                    'tfidf_k13': None, \n",
    "                    'tfidf_k14': None, \n",
    "                    'tfidf_k15': None, \n",
    "                    'weight': 0, \n",
    "                    'p_val': 0, \n",
    "                    'z_score': 0, \n",
    "                    'seq': seq, \n",
    "                    'label': True, \n",
    "                    # Retrieve bowtie's selected alignment for this qname (read)\n",
    "                    'bowtie': (r1[1], r1[2], r1[3], r2[2], r2[3]) in selected_dict.get(qname, set())\n",
    "                })\n",
    "            else:\n",
    "                for r1 in r1_entries:\n",
    "                    for r2 in r2_entries:\n",
    "                        # Check mate positions\n",
    "                        if r1[4].next_reference_start == r2[2] and r2[4].next_reference_start == r1[2]:\n",
    "                            # Chromosome sanity check\n",
    "                            assert r1[1] == r2[1]\n",
    "                            seq = ref.fetch(r1[1], min(r1[2], r2[2]), max(r1[3], r2[3]))\n",
    "        \n",
    "                            paired_alns.append({\n",
    "                                'qname': qname,\n",
    "                                'chr': r1[1],\n",
    "                                'r1_start': r1[2],\n",
    "                                'r1_end': r1[3],\n",
    "                                'r2_start': r2[2],\n",
    "                                'r2_end': r2[3], \n",
    "                                'r1_mapq': r1[4].mapping_quality, \n",
    "                                'r2_mapq': r2[4].mapping_quality, \n",
    "                                'r1_flag': r1[4].flag, \n",
    "                                'r2_flag': r2[4].flag, \n",
    "                                'r1_is_reverse': r1[4].is_reverse, \n",
    "                                'r2_is_reverse': r2[4].is_reverse, \n",
    "                                'r1_primary': not (r1[4].is_secondary or r1[4].is_supplementary), \n",
    "                                'r2_primary': not (r2[4].is_secondary or r2[4].is_supplementary), \n",
    "                                'tfidf_k6': None, \n",
    "                                'tfidf_k7': None, \n",
    "                                'tfidf_k8': None, \n",
    "                                'tfidf_k9': None, \n",
    "                                'tfidf_k10': None, \n",
    "                                'tfidf_k11': None, \n",
    "                                'tfidf_k12': None, \n",
    "                                'tfidf_k13': None, \n",
    "                                'tfidf_k14': None, \n",
    "                                'tfidf_k15': None, \n",
    "                                'weight': 0, \n",
    "                                'p_val': 0, \n",
    "                                'z_score': 0, \n",
    "                                'seq': seq, \n",
    "                                'label': False, \n",
    "                                # Retrieve bowtie's selected alignment for this qname (read)\n",
    "                                'bowtie': (r1[1], r1[2], r1[3], r2[2], r2[3]) in selected_dict.get(qname, set())\n",
    "                            })\n",
    "\n",
    "    ref.close()\n",
    "    return paired_one_alns, paired_alns\n"
   ]
  },
  {
   "cell_type": "code",
   "execution_count": 17,
   "id": "1fa7aaeb",
   "metadata": {
    "execution": {
     "iopub.execute_input": "2025-09-20T04:33:36.305201Z",
     "iopub.status.busy": "2025-09-20T04:33:36.304904Z",
     "iopub.status.idle": "2025-09-20T04:33:56.366029Z",
     "shell.execute_reply": "2025-09-20T04:33:56.364956Z"
    },
    "papermill": {
     "duration": 20.085493,
     "end_time": "2025-09-20T04:33:56.367777",
     "exception": false,
     "start_time": "2025-09-20T04:33:36.282284",
     "status": "completed"
    },
    "tags": []
   },
   "outputs": [
    {
     "data": {
      "application/vnd.jupyter.widget-view+json": {
       "model_id": "d161d1a1c9bc4280be4f4c51dadc0030",
       "version_major": 2,
       "version_minor": 0
      },
      "text/plain": [
       "  0%|          | 0/667931 [00:00<?, ?it/s]"
      ]
     },
     "metadata": {},
     "output_type": "display_data"
    },
    {
     "name": "stdout",
     "output_type": "stream",
     "text": [
      "Paired: exactly=652814, ambiguous=82805\n"
     ]
    }
   ],
   "source": [
    "paired_exact_alns, paired_multi_alns = get_concordant_pairs(align_sam_path, ref_path)\n",
    "print(f'Paired: exactly={len(paired_exact_alns)}, ambiguous={len(paired_multi_alns)}')"
   ]
  },
  {
   "cell_type": "code",
   "execution_count": 18,
   "id": "8d949540",
   "metadata": {
    "execution": {
     "iopub.execute_input": "2025-09-20T04:33:56.412789Z",
     "iopub.status.busy": "2025-09-20T04:33:56.412502Z",
     "iopub.status.idle": "2025-09-20T04:33:56.418576Z",
     "shell.execute_reply": "2025-09-20T04:33:56.417809Z"
    },
    "papermill": {
     "duration": 0.030886,
     "end_time": "2025-09-20T04:33:56.420197",
     "exception": false,
     "start_time": "2025-09-20T04:33:56.389311",
     "status": "completed"
    },
    "tags": []
   },
   "outputs": [],
   "source": [
    "from difflib import SequenceMatcher\n",
    "\n",
    "def longest_common_substring(str1: str, str2: str) -> str:\n",
    "    \"\"\"\n",
    "    Returns the longest common substring between str1 and str2.\n",
    "    If no common substring exists, returns an empty string.\n",
    "    \"\"\"\n",
    "    match = SequenceMatcher(None, str1, str2).find_longest_match(0, len(str1), 0, len(str2))\n",
    "    if match.size == 0:\n",
    "        return \"\"\n",
    "    return str1[match.a: match.a + match.size]\n",
    "\n",
    "def reverse_complement(seq):\n",
    "    complement = str.maketrans('ACGTNacgtn', 'TGCANtgcan')\n",
    "    return seq.translate(complement)[::-1]\n"
   ]
  },
  {
   "cell_type": "code",
   "execution_count": 19,
   "id": "2c1c668b",
   "metadata": {
    "execution": {
     "iopub.execute_input": "2025-09-20T04:33:56.465637Z",
     "iopub.status.busy": "2025-09-20T04:33:56.464750Z",
     "iopub.status.idle": "2025-09-20T04:33:56.787261Z",
     "shell.execute_reply": "2025-09-20T04:33:56.786147Z"
    },
    "papermill": {
     "duration": 0.34673,
     "end_time": "2025-09-20T04:33:56.789248",
     "exception": false,
     "start_time": "2025-09-20T04:33:56.442518",
     "status": "completed"
    },
    "tags": []
   },
   "outputs": [],
   "source": [
    "# Assign labels against dictionary \n",
    "for aln in paired_multi_alns:\n",
    "    qname = aln['qname']\n",
    "    chromosome = aln['chr']\n",
    "    r1_start = aln['r1_start']\n",
    "    r1_end = aln['r1_end']\n",
    "    r2_start = aln['r2_start']\n",
    "    r2_end = aln['r2_end']\n",
    "    seq = aln['seq']\n",
    "\n",
    "    # Match truth?\n",
    "    truth_align = truth_dict[qname]\n",
    "    if truth_align and truth_align['chr'] == chromosome and ((seq in truth_align['seq']) or (truth_align['seq'] in seq) or (reverse_complement(seq) in truth_align['seq']) or (reverse_complement(truth_align['seq']) in seq)): # len(longest_common_substring(seq, truth_align['seq'])) >= len(seq)-100\n",
    "        aln['label'] = True\n",
    "    else:\n",
    "        aln['label'] = False\n"
   ]
  },
  {
   "cell_type": "code",
   "execution_count": 20,
   "id": "28d19718",
   "metadata": {
    "execution": {
     "iopub.execute_input": "2025-09-20T04:33:56.834002Z",
     "iopub.status.busy": "2025-09-20T04:33:56.833738Z",
     "iopub.status.idle": "2025-09-20T04:33:56.935291Z",
     "shell.execute_reply": "2025-09-20T04:33:56.934043Z"
    },
    "papermill": {
     "duration": 0.126027,
     "end_time": "2025-09-20T04:33:56.937141",
     "exception": false,
     "start_time": "2025-09-20T04:33:56.811114",
     "status": "completed"
    },
    "tags": []
   },
   "outputs": [
    {
     "name": "stdout",
     "output_type": "stream",
     "text": [
      "# Unique pairs:\n",
      "Total=652814, Correct=652814, Incorrect=0\n",
      "\n",
      "# Ambiguous pairs:\n",
      "Total=82805, Correct=53805, Incorrect=29000\n",
      "\n",
      "# Bowtie error:\n",
      "Correct=15117, Actually=14389, Error=728\n"
     ]
    }
   ],
   "source": [
    "_total_exact, _total = len(paired_exact_alns), len(paired_multi_alns)\n",
    "_incorrect_exact = len([pair for pair in paired_exact_alns if not pair['label']])\n",
    "_incorrect = len([pair for pair in paired_multi_alns if not pair['label']])\n",
    "_bowtie_error = len([pair for pair in paired_multi_alns if not pair['label'] and pair['bowtie']])\n",
    "_bowtie_correct = len([pair for pair in paired_multi_alns if pair['bowtie']])\n",
    "print('# Unique pairs:')\n",
    "print(f'Total={_total_exact}, Correct={_total_exact - _incorrect_exact}, Incorrect={_incorrect_exact}')\n",
    "print('\\n# Ambiguous pairs:')\n",
    "print(f'Total={_total}, Correct={_total - _incorrect}, Incorrect={_incorrect}')\n",
    "print('\\n# Bowtie error:')\n",
    "print(f'Correct={_bowtie_correct}, Actually={_bowtie_correct - _bowtie_error}, Error={_bowtie_error}')"
   ]
  },
  {
   "cell_type": "markdown",
   "id": "8206f262",
   "metadata": {
    "papermill": {
     "duration": 0.023808,
     "end_time": "2025-09-20T04:33:56.982483",
     "exception": false,
     "start_time": "2025-09-20T04:33:56.958675",
     "status": "completed"
    },
    "tags": []
   },
   "source": [
    "# TF-IDF Statistics"
   ]
  },
  {
   "cell_type": "code",
   "execution_count": 21,
   "id": "f9800168",
   "metadata": {
    "execution": {
     "iopub.execute_input": "2025-09-20T04:33:57.026739Z",
     "iopub.status.busy": "2025-09-20T04:33:57.026448Z",
     "iopub.status.idle": "2025-09-20T04:33:57.186269Z",
     "shell.execute_reply": "2025-09-20T04:33:57.184995Z"
    },
    "papermill": {
     "duration": 0.183805,
     "end_time": "2025-09-20T04:33:57.187810",
     "exception": false,
     "start_time": "2025-09-20T04:33:57.004005",
     "status": "completed"
    },
    "tags": []
   },
   "outputs": [
    {
     "name": "stdout",
     "output_type": "stream",
     "text": [
      "Total: 652814\n"
     ]
    }
   ],
   "source": [
    "## Extracts all sequences from the ref. and sample\n",
    "\n",
    "from sklearn.utils import resample\n",
    "import numpy as np\n",
    "\n",
    "# Reverse complement helper\n",
    "def rev_comp(seq: str) -> str:\n",
    "    comp = str.maketrans(\"ACGTN\", \"TGCAN\")\n",
    "    return seq.translate(comp)[::-1]\n",
    "\n",
    "# Pulling sequences\n",
    "exact_aln_seqs = []\n",
    "for pair in paired_exact_alns:\n",
    "    exact_aln_seqs.append(pair['seq'])\n",
    "\n",
    "print('Total:', len(exact_aln_seqs))\n",
    "\n",
    "N_SAMPLES = (len(exact_aln_seqs))"
   ]
  },
  {
   "cell_type": "code",
   "execution_count": 22,
   "id": "6b252ef2",
   "metadata": {
    "execution": {
     "iopub.execute_input": "2025-09-20T04:33:57.233097Z",
     "iopub.status.busy": "2025-09-20T04:33:57.232764Z",
     "iopub.status.idle": "2025-09-20T04:33:57.259282Z",
     "shell.execute_reply": "2025-09-20T04:33:57.258051Z"
    },
    "papermill": {
     "duration": 0.051064,
     "end_time": "2025-09-20T04:33:57.260813",
     "exception": false,
     "start_time": "2025-09-20T04:33:57.209749",
     "status": "completed"
    },
    "tags": []
   },
   "outputs": [],
   "source": [
    "import math\n",
    "from collections import Counter\n",
    "\n",
    "# ========= Helper: map a k-mer to index =========\n",
    "def map_kmer_to_index(kmer: str) -> int:\n",
    "    \"\"\"\n",
    "    Convert a k-mer (string of A/C/G/T) into an integer index (base-4 encoding).\n",
    "    A=0, C=1, G=2, T=3\n",
    "    \"\"\"\n",
    "    mapping = {'A': 0, 'C': 1, 'G': 2, 'T': 3}\n",
    "    idx = 0\n",
    "    for base in kmer:\n",
    "        idx = (idx << 2) | mapping[base]   # shift left 2 bits, add value\n",
    "    return idx\n",
    "\n",
    "# ========= Precompute DF array =========\n",
    "def compute_df_array(reads, k=10):\n",
    "    \"\"\"\n",
    "    Compute document frequency (DF) array for all possible k-mers.\n",
    "    reads: list of strings (each string = one read/sequence)\n",
    "    k: k-mer length (default 10)\n",
    "\n",
    "    Returns:\n",
    "        df_array: np.ndarray of size 4^k, where df_array[i] = #docs containing that k-mer\n",
    "    \"\"\"\n",
    "    vocab_size = 4 ** k\n",
    "    df_array = np.zeros(vocab_size, dtype=np.int32)\n",
    "\n",
    "    for read in reads:\n",
    "        kmers_in_doc = set()\n",
    "        for i in range(len(read) - k + 1):\n",
    "            kmer = read[i:i+k]\n",
    "            if 'N' in kmer:  # skip ambiguous bases\n",
    "                continue\n",
    "            idx = map_kmer_to_index(kmer)\n",
    "            kmers_in_doc.add(idx)\n",
    "\n",
    "        # Update DF counts\n",
    "        for idx in kmers_in_doc:\n",
    "            df_array[idx] += 1\n",
    "\n",
    "    return df_array\n",
    "\n",
    "def seq_kmer_tfidf_vector_array(seq: str, df_array: np.ndarray, n_docs: int, k: int) -> list[float]:\n",
    "    \"\"\"\n",
    "    Build k-mers from `seq` only, compute TF in `seq`,\n",
    "    retrieve DF from precomputed df_array, and return TF-IDF vector.\n",
    "    \"\"\"\n",
    "    kmers_seq = [seq[i:i+k] for i in range(len(seq) - k + 1) if 'N' not in seq[i:i+k]]\n",
    "    if not kmers_seq:\n",
    "        return []\n",
    "\n",
    "    # TF in seq (per unique k-mer)\n",
    "    counts = Counter(kmers_seq)\n",
    "    total = len(kmers_seq)\n",
    "    tf = {km: counts[km] / total for km in counts}\n",
    "\n",
    "    # Build TF-IDF vector aligned to each k-mer occurrence in seq\n",
    "    vec = []\n",
    "    for km in kmers_seq:\n",
    "        idx = map_kmer_to_index(km)  # use your existing method\n",
    "        df_km = df_array[idx] if idx < len(df_array) else 0\n",
    "        idf_km = math.log((n_docs + 1) / (df_km + 1)) + 1\n",
    "        vec.append(tf[km] * idf_km)\n",
    "\n",
    "    return vec\n"
   ]
  },
  {
   "cell_type": "code",
   "execution_count": 23,
   "id": "1ccd01c2",
   "metadata": {
    "execution": {
     "iopub.execute_input": "2025-09-20T04:33:57.305511Z",
     "iopub.status.busy": "2025-09-20T04:33:57.304714Z",
     "iopub.status.idle": "2025-09-20T04:42:55.275091Z",
     "shell.execute_reply": "2025-09-20T04:42:55.273981Z"
    },
    "papermill": {
     "duration": 537.995587,
     "end_time": "2025-09-20T04:42:55.277731",
     "exception": false,
     "start_time": "2025-09-20T04:33:57.282144",
     "status": "completed"
    },
    "tags": []
   },
   "outputs": [],
   "source": [
    "## Pre-compute df values for faster execution (required)\n",
    "\n",
    "df_array_k6 = compute_df_array(exact_aln_seqs, k=6)"
   ]
  },
  {
   "cell_type": "code",
   "execution_count": 24,
   "id": "737aaaa2",
   "metadata": {
    "execution": {
     "iopub.execute_input": "2025-09-20T04:42:55.323735Z",
     "iopub.status.busy": "2025-09-20T04:42:55.322803Z",
     "iopub.status.idle": "2025-09-20T04:52:22.946254Z",
     "shell.execute_reply": "2025-09-20T04:52:22.945410Z"
    },
    "papermill": {
     "duration": 567.647361,
     "end_time": "2025-09-20T04:52:22.947954",
     "exception": false,
     "start_time": "2025-09-20T04:42:55.300593",
     "status": "completed"
    },
    "tags": []
   },
   "outputs": [],
   "source": [
    "df_array_k7 = compute_df_array(exact_aln_seqs, k=7)"
   ]
  },
  {
   "cell_type": "code",
   "execution_count": 25,
   "id": "85e202cc",
   "metadata": {
    "execution": {
     "iopub.execute_input": "2025-09-20T04:52:22.992881Z",
     "iopub.status.busy": "2025-09-20T04:52:22.992601Z",
     "iopub.status.idle": "2025-09-20T05:02:13.602093Z",
     "shell.execute_reply": "2025-09-20T05:02:13.601012Z"
    },
    "papermill": {
     "duration": 590.633909,
     "end_time": "2025-09-20T05:02:13.603903",
     "exception": false,
     "start_time": "2025-09-20T04:52:22.969994",
     "status": "completed"
    },
    "tags": []
   },
   "outputs": [],
   "source": [
    "df_array_k8 = compute_df_array(exact_aln_seqs, k=8)"
   ]
  },
  {
   "cell_type": "code",
   "execution_count": 26,
   "id": "b091f724",
   "metadata": {
    "execution": {
     "iopub.execute_input": "2025-09-20T05:02:13.648762Z",
     "iopub.status.busy": "2025-09-20T05:02:13.648095Z",
     "iopub.status.idle": "2025-09-20T05:12:24.240038Z",
     "shell.execute_reply": "2025-09-20T05:12:24.238806Z"
    },
    "papermill": {
     "duration": 610.616388,
     "end_time": "2025-09-20T05:12:24.242144",
     "exception": false,
     "start_time": "2025-09-20T05:02:13.625756",
     "status": "completed"
    },
    "tags": []
   },
   "outputs": [],
   "source": [
    "df_array_k9 = compute_df_array(exact_aln_seqs, k=9)"
   ]
  },
  {
   "cell_type": "code",
   "execution_count": 27,
   "id": "d35d8c5f",
   "metadata": {
    "execution": {
     "iopub.execute_input": "2025-09-20T05:12:24.290257Z",
     "iopub.status.busy": "2025-09-20T05:12:24.289961Z",
     "iopub.status.idle": "2025-09-20T05:22:53.329648Z",
     "shell.execute_reply": "2025-09-20T05:22:53.328786Z"
    },
    "papermill": {
     "duration": 629.064142,
     "end_time": "2025-09-20T05:22:53.331137",
     "exception": false,
     "start_time": "2025-09-20T05:12:24.266995",
     "status": "completed"
    },
    "tags": []
   },
   "outputs": [],
   "source": [
    "df_array_k10 = compute_df_array(exact_aln_seqs, k=10)"
   ]
  },
  {
   "cell_type": "code",
   "execution_count": 28,
   "id": "9d051946",
   "metadata": {
    "execution": {
     "iopub.execute_input": "2025-09-20T05:22:53.377801Z",
     "iopub.status.busy": "2025-09-20T05:22:53.377220Z",
     "iopub.status.idle": "2025-09-20T05:33:34.919588Z",
     "shell.execute_reply": "2025-09-20T05:33:34.918773Z"
    },
    "papermill": {
     "duration": 641.567923,
     "end_time": "2025-09-20T05:33:34.921195",
     "exception": false,
     "start_time": "2025-09-20T05:22:53.353272",
     "status": "completed"
    },
    "tags": []
   },
   "outputs": [],
   "source": [
    "df_array_k11 = compute_df_array(exact_aln_seqs, k=11)"
   ]
  },
  {
   "cell_type": "code",
   "execution_count": 29,
   "id": "13fc8a87",
   "metadata": {
    "execution": {
     "iopub.execute_input": "2025-09-20T05:33:34.967079Z",
     "iopub.status.busy": "2025-09-20T05:33:34.966758Z",
     "iopub.status.idle": "2025-09-20T05:44:35.861557Z",
     "shell.execute_reply": "2025-09-20T05:44:35.860634Z"
    },
    "papermill": {
     "duration": 660.920041,
     "end_time": "2025-09-20T05:44:35.863594",
     "exception": false,
     "start_time": "2025-09-20T05:33:34.943553",
     "status": "completed"
    },
    "tags": []
   },
   "outputs": [],
   "source": [
    "df_array_k12 = compute_df_array(exact_aln_seqs, k=12)"
   ]
  },
  {
   "cell_type": "code",
   "execution_count": 30,
   "id": "bf92e0b1",
   "metadata": {
    "execution": {
     "iopub.execute_input": "2025-09-20T05:44:35.910815Z",
     "iopub.status.busy": "2025-09-20T05:44:35.910465Z",
     "iopub.status.idle": "2025-09-20T05:56:02.322189Z",
     "shell.execute_reply": "2025-09-20T05:56:02.321088Z"
    },
    "papermill": {
     "duration": 686.43795,
     "end_time": "2025-09-20T05:56:02.323832",
     "exception": false,
     "start_time": "2025-09-20T05:44:35.885882",
     "status": "completed"
    },
    "tags": []
   },
   "outputs": [],
   "source": [
    "df_array_k13 = compute_df_array(exact_aln_seqs, k=13)"
   ]
  },
  {
   "cell_type": "code",
   "execution_count": 31,
   "id": "44a92c28",
   "metadata": {
    "execution": {
     "iopub.execute_input": "2025-09-20T05:56:02.369070Z",
     "iopub.status.busy": "2025-09-20T05:56:02.368226Z",
     "iopub.status.idle": "2025-09-20T06:07:41.651153Z",
     "shell.execute_reply": "2025-09-20T06:07:41.650051Z"
    },
    "papermill": {
     "duration": 699.307519,
     "end_time": "2025-09-20T06:07:41.653011",
     "exception": false,
     "start_time": "2025-09-20T05:56:02.345492",
     "status": "completed"
    },
    "tags": []
   },
   "outputs": [],
   "source": [
    "df_array_k14 = compute_df_array(exact_aln_seqs, k=14)"
   ]
  },
  {
   "cell_type": "code",
   "execution_count": 32,
   "id": "509c9168",
   "metadata": {
    "execution": {
     "iopub.execute_input": "2025-09-20T06:07:41.702385Z",
     "iopub.status.busy": "2025-09-20T06:07:41.702047Z",
     "iopub.status.idle": "2025-09-20T06:19:40.246985Z",
     "shell.execute_reply": "2025-09-20T06:19:40.246081Z"
    },
    "papermill": {
     "duration": 718.572848,
     "end_time": "2025-09-20T06:19:40.248538",
     "exception": false,
     "start_time": "2025-09-20T06:07:41.675690",
     "status": "completed"
    },
    "tags": []
   },
   "outputs": [],
   "source": [
    "df_array_k15 = compute_df_array(exact_aln_seqs, k=15)"
   ]
  },
  {
   "cell_type": "code",
   "execution_count": 33,
   "id": "377494e0",
   "metadata": {
    "execution": {
     "iopub.execute_input": "2025-09-20T06:19:40.293910Z",
     "iopub.status.busy": "2025-09-20T06:19:40.293593Z",
     "iopub.status.idle": "2025-09-20T06:29:56.097014Z",
     "shell.execute_reply": "2025-09-20T06:29:56.095995Z"
    },
    "papermill": {
     "duration": 615.827445,
     "end_time": "2025-09-20T06:29:56.098563",
     "exception": false,
     "start_time": "2025-09-20T06:19:40.271118",
     "status": "completed"
    },
    "tags": []
   },
   "outputs": [
    {
     "name": "stdout",
     "output_type": "stream",
     "text": [
      "Min sequence length: 180\n"
     ]
    },
    {
     "data": {
      "application/vnd.jupyter.widget-view+json": {
       "model_id": "f826863080934af3b96b81aa6bf953b1",
       "version_major": 2,
       "version_minor": 0
      },
      "text/plain": [
       "  0%|          | 0/82805 [00:00<?, ?it/s]"
      ]
     },
     "metadata": {},
     "output_type": "display_data"
    }
   ],
   "source": [
    "def trim_seq_to_size(s: str, target_size: int) -> str:\n",
    "    start = (len(s) - target_size) // 2\n",
    "    return s[start:start + target_size]\n",
    "\n",
    "# Calculating minimum sequence length\n",
    "seq_len = min([len(pair['seq']) for pair in paired_exact_alns + paired_multi_alns]) - READ_LENGTH\n",
    "print(f'Min sequence length: {seq_len}')\n",
    "\n",
    "# Generating tfidfs from ambiguous\n",
    "with tqdm(total=len(paired_multi_alns)) as pbar: \n",
    "    for pair in paired_multi_alns:\n",
    "        pair['tfidf_k6'] = seq_kmer_tfidf_vector_array(trim_seq_to_size(pair['seq'], target_size=seq_len), df_array_k6, N_SAMPLES, k=6) \n",
    "        pair['tfidf_k7'] = seq_kmer_tfidf_vector_array(trim_seq_to_size(pair['seq'], target_size=seq_len), df_array_k7, N_SAMPLES, k=7) \n",
    "        pair['tfidf_k8'] = seq_kmer_tfidf_vector_array(trim_seq_to_size(pair['seq'], target_size=seq_len), df_array_k8, N_SAMPLES, k=8) \n",
    "        pair['tfidf_k9'] = seq_kmer_tfidf_vector_array(trim_seq_to_size(pair['seq'], target_size=seq_len), df_array_k9, N_SAMPLES, k=9) \n",
    "        pair['tfidf_k10'] = seq_kmer_tfidf_vector_array(trim_seq_to_size(pair['seq'], target_size=seq_len), df_array_k10, N_SAMPLES, k=10) \n",
    "        pair['tfidf_k11'] = seq_kmer_tfidf_vector_array(trim_seq_to_size(pair['seq'], target_size=seq_len), df_array_k11, N_SAMPLES, k=11) \n",
    "        pair['tfidf_k12'] = seq_kmer_tfidf_vector_array(trim_seq_to_size(pair['seq'], target_size=seq_len), df_array_k12, N_SAMPLES, k=12) \n",
    "        pair['tfidf_k13'] = seq_kmer_tfidf_vector_array(trim_seq_to_size(pair['seq'], target_size=seq_len), df_array_k13, N_SAMPLES, k=13) \n",
    "        pair['tfidf_k14'] = seq_kmer_tfidf_vector_array(trim_seq_to_size(pair['seq'], target_size=seq_len), df_array_k14, N_SAMPLES, k=14) \n",
    "        pair['tfidf_k15'] = seq_kmer_tfidf_vector_array(trim_seq_to_size(pair['seq'], target_size=seq_len), df_array_k15, N_SAMPLES, k=15) \n",
    "        pbar.update(1)\n"
   ]
  },
  {
   "cell_type": "code",
   "execution_count": 34,
   "id": "94986211",
   "metadata": {
    "execution": {
     "iopub.execute_input": "2025-09-20T06:29:56.144133Z",
     "iopub.status.busy": "2025-09-20T06:29:56.143752Z",
     "iopub.status.idle": "2025-09-20T06:29:56.149453Z",
     "shell.execute_reply": "2025-09-20T06:29:56.147934Z"
    },
    "papermill": {
     "duration": 0.030923,
     "end_time": "2025-09-20T06:29:56.151294",
     "exception": false,
     "start_time": "2025-09-20T06:29:56.120371",
     "status": "completed"
    },
    "tags": []
   },
   "outputs": [
    {
     "name": "stdout",
     "output_type": "stream",
     "text": [
      "NC_000913.3-1392422\n",
      "length: 291 171\n",
      "NC_000913.3-1392422\n",
      "length: 291 171\n",
      "NC_000913.3-1392422\n",
      "length: 291 171\n",
      "NC_000913.3-1392422\n",
      "length: 291 171\n",
      "NC_000913.3-1392422\n",
      "length: 291 171\n"
     ]
    }
   ],
   "source": [
    "#===========================================================================================\n",
    "#======================================== EXAMPLE ==========================================\n",
    "#===========================================================================================\n",
    "\n",
    "for pair in paired_multi_alns[:5]: \n",
    "    print(pair['qname'])\n",
    "    v = pair['tfidf_k10']\n",
    "    print('length:', len(pair['seq']), len(v))\n"
   ]
  },
  {
   "cell_type": "markdown",
   "id": "ddba4e98",
   "metadata": {
    "papermill": {
     "duration": 0.023243,
     "end_time": "2025-09-20T06:29:56.196926",
     "exception": false,
     "start_time": "2025-09-20T06:29:56.173683",
     "status": "completed"
    },
    "tags": []
   },
   "source": [
    "# Weighting: Probability of Reads"
   ]
  },
  {
   "cell_type": "code",
   "execution_count": 35,
   "id": "d01b16d8",
   "metadata": {
    "execution": {
     "iopub.execute_input": "2025-09-20T06:29:56.243329Z",
     "iopub.status.busy": "2025-09-20T06:29:56.242654Z",
     "iopub.status.idle": "2025-09-20T06:29:56.256528Z",
     "shell.execute_reply": "2025-09-20T06:29:56.255647Z"
    },
    "papermill": {
     "duration": 0.039378,
     "end_time": "2025-09-20T06:29:56.258174",
     "exception": false,
     "start_time": "2025-09-20T06:29:56.218796",
     "status": "completed"
    },
    "tags": []
   },
   "outputs": [],
   "source": [
    "def build_coverage_array(ref_path, mapped_pairs):\n",
    "    ref = pysam.FastaFile(ref_path)\n",
    "    chrom_len = {chrom: ref.get_reference_length(chrom) for chrom in ref.references}['NC_000913.3']\n",
    "    cvg_arr = np.zeros(chrom_len, dtype=np.int32)\n",
    "    \n",
    "    for pair in mapped_pairs:\n",
    "        # Get start of fragment = min of both starts\n",
    "        frag_start = min(pair['r1_start'], pair['r2_start'])\n",
    "        # Get end of fragment = max of both ends\n",
    "        frag_end = max(pair['r1_end'], pair['r2_end'])\n",
    "        \n",
    "        # Add coverage (end is exclusive in numpy slicing)\n",
    "        cvg_arr[frag_start:frag_end] += 1\n",
    "    \n",
    "    return cvg_arr\n",
    "\n",
    "def plot_hist_from_counts(cvg_arr, step=100):\n",
    "    plt.figure(figsize=(12,4))\n",
    "    plt.plot(cvg_arr, linewidth=0.5)\n",
    "    plt.xlabel(\"Genomic Position\")\n",
    "    plt.ylabel(\"Coverage\")\n",
    "    plt.title(\"Coverage along the genome\")\n",
    "    plt.show()\n",
    "\n",
    "import numpy as np\n",
    "import matplotlib.pyplot as plt\n",
    "from scipy.stats import norm\n",
    "\n",
    "def plot_coverage_heatmap(cvg_arr, bin_size=100, cmap='viridis'):\n",
    "    \"\"\"\n",
    "    Plots coverage as a binned heatmap.\n",
    "    \n",
    "    Parameters:\n",
    "        cvg_arr : array-like\n",
    "            Coverage values along the genome.\n",
    "        bin_size : int\n",
    "            Number of genomic positions per bin.\n",
    "        cmap : str\n",
    "            Colormap for heatmap.\n",
    "    \"\"\"\n",
    "    # Calculate number of bins\n",
    "    n_bins = int(np.ceil(len(cvg_arr) / bin_size))\n",
    "    \n",
    "    # Aggregate coverage within bins (mean)\n",
    "    binned = [np.max(cvg_arr[i*bin_size:(i+1)*bin_size]) for i in range(n_bins)]\n",
    "    binned = np.array(binned)\n",
    "    \n",
    "    # Reshape to 2D for heatmap (1 row)\n",
    "    heatmap_data = binned[np.newaxis, :]\n",
    "    \n",
    "    plt.figure(figsize=(15, 1))\n",
    "    plt.imshow(heatmap_data, aspect='auto', cmap=cmap, origin='lower',\n",
    "               vmin=0, vmax=np.max(binned))\n",
    "    plt.colorbar(label=\"Coverage\")\n",
    "    plt.xlabel(f\"Genomic Position (bin size = {bin_size} bases)\")\n",
    "    plt.yticks([])  # hide y-axis\n",
    "    plt.title(\"Read Coverage\")\n",
    "    plt.show()\n",
    "\n",
    "def aggregate_region_stats_weighted(df, region_start, region_end):\n",
    "    overlaps = df[(df['start'] <= region_end) & (df['end'] >= region_start)].copy()\n",
    "    if overlaps.empty:\n",
    "        return {\"total_overlap\": 0, \"gene_ids\": [], \"z_score\": np.nan, \"p_value\": np.nan}\n",
    "    \n",
    "    overlaps['overlap_len'] = overlaps.apply(\n",
    "        lambda row: max(0, min(row['end'], region_end) - max(row['start'], region_start)),\n",
    "        axis=1\n",
    "    )\n",
    "    total_overlap = overlaps['overlap_len'].sum()\n",
    "    if total_overlap == 0:\n",
    "        return {\"total_overlap\": 0, \"gene_ids\": [], \"z_score\": np.nan, \"p_value\": np.nan}\n",
    "\n",
    "    # Weighted z-score aggregation\n",
    "    z_agg = np.average(overlaps['z_score'], weights=overlaps['overlap_len'])\n",
    "    p_agg = 1 - norm.cdf(z_agg)\n",
    "\n",
    "    return {\n",
    "        \"total_overlap\": total_overlap,\n",
    "        \"gene_ids\": overlaps['gene_id'].tolist(),\n",
    "        \"z_score\": z_agg,\n",
    "        \"p_value\": p_agg\n",
    "    }\n"
   ]
  },
  {
   "cell_type": "code",
   "execution_count": 36,
   "id": "9026ba6d",
   "metadata": {
    "execution": {
     "iopub.execute_input": "2025-09-20T06:29:56.304620Z",
     "iopub.status.busy": "2025-09-20T06:29:56.304301Z",
     "iopub.status.idle": "2025-09-20T06:29:59.290892Z",
     "shell.execute_reply": "2025-09-20T06:29:59.289846Z"
    },
    "papermill": {
     "duration": 3.011625,
     "end_time": "2025-09-20T06:29:59.292206",
     "exception": false,
     "start_time": "2025-09-20T06:29:56.280581",
     "status": "completed"
    },
    "tags": []
   },
   "outputs": [
    {
     "name": "stdout",
     "output_type": "stream",
     "text": [
      "Min: 0, Max: 75\n"
     ]
    },
    {
     "data": {
      "image/png": "[encoded data removed]",
      "text/plain": [
       "<Figure size 1500x100 with 2 Axes>"
      ]
     },
     "metadata": {},
     "output_type": "display_data"
    },
    {
     "data": {
      "image/png": "[encoded data removed]",
      "text/plain": [
       "<Figure size 1500x100 with 2 Axes>"
      ]
     },
     "metadata": {},
     "output_type": "display_data"
    },
    {
     "data": {
      "image/png": "[encoded data removed]",
      "text/plain": [
       "<Figure size 1500x100 with 2 Axes>"
      ]
     },
     "metadata": {},
     "output_type": "display_data"
    },
    {
     "data": {
      "image/png": "[encoded data removed]",
      "text/plain": [
       "<Figure size 1500x100 with 2 Axes>"
      ]
     },
     "metadata": {},
     "output_type": "display_data"
    }
   ],
   "source": [
    "# Prepare read coverage array\n",
    "\n",
    "cvg_arr = build_coverage_array(ref_path=os.path.join(REF_DIR, 'ecoli_ref.fa'), mapped_pairs=paired_exact_alns)\n",
    "print(f'Min: {np.min(cvg_arr)}, Max: {np.max(cvg_arr)}')\n",
    "\n",
    "plot_coverage_heatmap(cvg_arr, bin_size=100)\n",
    "plot_coverage_heatmap(cvg_arr, bin_size=1000)\n",
    "plot_coverage_heatmap(cvg_arr, bin_size=10000)\n",
    "plot_coverage_heatmap(cvg_arr, bin_size=100000)"
   ]
  },
  {
   "cell_type": "code",
   "execution_count": 37,
   "id": "7082fbcd",
   "metadata": {
    "execution": {
     "iopub.execute_input": "2025-09-20T06:29:59.341465Z",
     "iopub.status.busy": "2025-09-20T06:29:59.341165Z",
     "iopub.status.idle": "2025-09-20T06:29:59.399549Z",
     "shell.execute_reply": "2025-09-20T06:29:59.398770Z"
    },
    "papermill": {
     "duration": 0.085196,
     "end_time": "2025-09-20T06:29:59.401305",
     "exception": false,
     "start_time": "2025-09-20T06:29:59.316109",
     "status": "completed"
    },
    "tags": []
   },
   "outputs": [
    {
     "data": {
      "text/html": [
       "<div>\n",
       "<style scoped>\n",
       "    .dataframe tbody tr th:only-of-type {\n",
       "        vertical-align: middle;\n",
       "    }\n",
       "\n",
       "    .dataframe tbody tr th {\n",
       "        vertical-align: top;\n",
       "    }\n",
       "\n",
       "    .dataframe thead th {\n",
       "        text-align: right;\n",
       "    }\n",
       "</style>\n",
       "<table border=\"1\" class=\"dataframe\">\n",
       "  <thead>\n",
       "    <tr style=\"text-align: right;\">\n",
       "      <th></th>\n",
       "      <th>Unnamed: 0</th>\n",
       "      <th>gene_id</th>\n",
       "      <th>start</th>\n",
       "      <th>end</th>\n",
       "      <th>expression</th>\n",
       "      <th>z_score</th>\n",
       "      <th>p_value</th>\n",
       "      <th>significant</th>\n",
       "    </tr>\n",
       "  </thead>\n",
       "  <tbody>\n",
       "    <tr>\n",
       "      <th>0</th>\n",
       "      <td>0</td>\n",
       "      <td>gene-b0001</td>\n",
       "      <td>190</td>\n",
       "      <td>255</td>\n",
       "      <td>1095.808969</td>\n",
       "      <td>-0.131232</td>\n",
       "      <td>0.552204</td>\n",
       "      <td>False</td>\n",
       "    </tr>\n",
       "    <tr>\n",
       "      <th>1</th>\n",
       "      <td>1</td>\n",
       "      <td>gene-b0002</td>\n",
       "      <td>337</td>\n",
       "      <td>2799</td>\n",
       "      <td>11621.629880</td>\n",
       "      <td>0.319856</td>\n",
       "      <td>0.374539</td>\n",
       "      <td>False</td>\n",
       "    </tr>\n",
       "    <tr>\n",
       "      <th>2</th>\n",
       "      <td>2</td>\n",
       "      <td>gene-b0003</td>\n",
       "      <td>2801</td>\n",
       "      <td>3733</td>\n",
       "      <td>3581.617976</td>\n",
       "      <td>-0.024701</td>\n",
       "      <td>0.509853</td>\n",
       "      <td>False</td>\n",
       "    </tr>\n",
       "    <tr>\n",
       "      <th>3</th>\n",
       "      <td>3</td>\n",
       "      <td>gene-b0004</td>\n",
       "      <td>3734</td>\n",
       "      <td>5020</td>\n",
       "      <td>5462.200000</td>\n",
       "      <td>0.055892</td>\n",
       "      <td>0.477714</td>\n",
       "      <td>False</td>\n",
       "    </tr>\n",
       "    <tr>\n",
       "      <th>4</th>\n",
       "      <td>4</td>\n",
       "      <td>gene-b0005</td>\n",
       "      <td>5234</td>\n",
       "      <td>5530</td>\n",
       "      <td>204.196429</td>\n",
       "      <td>-0.169442</td>\n",
       "      <td>0.567275</td>\n",
       "      <td>False</td>\n",
       "    </tr>\n",
       "  </tbody>\n",
       "</table>\n",
       "</div>"
      ],
      "text/plain": [
       "   Unnamed: 0     gene_id  start   end    expression   z_score   p_value  \\\n",
       "0           0  gene-b0001    190   255   1095.808969 -0.131232  0.552204   \n",
       "1           1  gene-b0002    337  2799  11621.629880  0.319856  0.374539   \n",
       "2           2  gene-b0003   2801  3733   3581.617976 -0.024701  0.509853   \n",
       "3           3  gene-b0004   3734  5020   5462.200000  0.055892  0.477714   \n",
       "4           4  gene-b0005   5234  5530    204.196429 -0.169442  0.567275   \n",
       "\n",
       "   significant  \n",
       "0        False  \n",
       "1        False  \n",
       "2        False  \n",
       "3        False  \n",
       "4        False  "
      ]
     },
     "execution_count": 37,
     "metadata": {},
     "output_type": "execute_result"
    }
   ],
   "source": [
    "# Load gene expression file \n",
    "\n",
    "df_gene = pd.read_csv('/kaggle/input/mmr-gene-ecoli/final_ecoli.csv')\n",
    "df_gene.head()"
   ]
  },
  {
   "cell_type": "code",
   "execution_count": 38,
   "id": "fe396469",
   "metadata": {
    "execution": {
     "iopub.execute_input": "2025-09-20T06:29:59.451823Z",
     "iopub.status.busy": "2025-09-20T06:29:59.451552Z",
     "iopub.status.idle": "2025-09-20T06:31:59.190252Z",
     "shell.execute_reply": "2025-09-20T06:31:59.189379Z"
    },
    "papermill": {
     "duration": 119.766565,
     "end_time": "2025-09-20T06:31:59.192037",
     "exception": false,
     "start_time": "2025-09-20T06:29:59.425472",
     "status": "completed"
    },
    "tags": []
   },
   "outputs": [
    {
     "data": {
      "application/vnd.jupyter.widget-view+json": {
       "model_id": "9159bbc28a6d4c19b2f50a0358cc093f",
       "version_major": 2,
       "version_minor": 0
      },
      "text/plain": [
       "  0%|          | 0/82805 [00:00<?, ?it/s]"
      ]
     },
     "metadata": {},
     "output_type": "display_data"
    }
   ],
   "source": [
    "# Now weighting unambiguous pairs \n",
    "\n",
    "with tqdm(total=len(paired_multi_alns)) as pbar:\n",
    "    for pair in paired_multi_alns:\n",
    "        r1_start, r1_end = pair['r1_start'], pair['r1_end']\n",
    "        r2_start, r2_end = pair['r2_start'], pair['r2_end']\n",
    "        start, end = min(r1_start, r2_start), max(r1_end, r2_end)\n",
    "\n",
    "        scores = aggregate_region_stats_weighted(df_gene, start, end)\n",
    "\n",
    "        if scores['total_overlap'] == 0 or pd.isna(scores['p_value']) or pd.isna(scores['z_score']):\n",
    "            pair['p_val'] = np.nan\n",
    "            pair['z_score'] = np.nan\n",
    "        else:\n",
    "            pair['p_val'] = scores['p_value']\n",
    "            pair['z_score'] = scores['z_score']\n",
    "\n",
    "        region = cvg_arr[start:end]  # adjust if needed\n",
    "        pair['weight'] = np.mean(region) if len(region) > 0 else np.nan\n",
    "\n",
    "        pbar.update(1)\n"
   ]
  },
  {
   "cell_type": "code",
   "execution_count": 39,
   "id": "4f373a44",
   "metadata": {
    "execution": {
     "iopub.execute_input": "2025-09-20T06:31:59.242047Z",
     "iopub.status.busy": "2025-09-20T06:31:59.241750Z",
     "iopub.status.idle": "2025-09-20T06:31:59.249926Z",
     "shell.execute_reply": "2025-09-20T06:31:59.248828Z"
    },
    "papermill": {
     "duration": 0.03513,
     "end_time": "2025-09-20T06:31:59.251437",
     "exception": false,
     "start_time": "2025-09-20T06:31:59.216307",
     "status": "completed"
    },
    "tags": []
   },
   "outputs": [
    {
     "name": "stdout",
     "output_type": "stream",
     "text": [
      "{'qname': 'NC_000913.3-1392422', 'chr': 'NC_000913.3', 'r1_start': 2727796, 'r1_end': 2727896, 'r2_start': 2727605, 'r2_end': 2727705, 'r1_mapq': 1, 'r2_mapq': 1, 'r1_flag': 83, 'r2_flag': 163, 'r1_is_reverse': True, 'r2_is_reverse': False, 'r1_primary': True, 'r2_primary': True, 'tfidf_k6': [0.017594139676488235, 0.020011562439716853, 0.017933702079178524, 0.01794552466657446, 0.0399258761542822, 0.02278390302462206, 0.025071846282542224, 0.027199990591284882, 0.023131891829902388, 0.018422016893120927, 0.04076062249605383, 0.04476911439268387, 0.024050726797319167, 0.024720469675587265, 0.021757012599372537, 0.01882670824569036, 0.017043659055551334, 0.01666171664281081, 0.017043404799140058, 0.017113111571752413, 0.01843740968159499, 0.017126575069131587, 0.022456878521344058, 0.018352778294561854, 0.02020842572276489, 0.01920955092526123, 0.019982465770521225, 0.017696898950664643, 0.015468313286419084, 0.020065671738169054, 0.01751462271613409, 0.017284624204201106, 0.0208161783\n",
      "...\n",
      "0.08668101843559774, 0.08668101843559774, 0.08668101843559774, 0.08668101843559774, 0.08668101843559774, 0.08668101843559774, 0.08668101843559774, 0.08668101843559774, 0.08668101843559774, 0.08668101843559774, 0.08668101843559774, 0.08668101843559774, 0.08668101843559774, 0.08668101843559774, 0.08668101843559774, 0.08668101843559774, 0.08668101843559774, 0.08668101843559774, 0.08668101843559774, 0.08668101843559774, 0.08668101843559774, 0.08668101843559774, 0.08668101843559774, 0.08668101843559774, 0.08668101843559774, 0.08668101843559774, 0.08668101843559774, 0.08668101843559774], 'weight': 0.0, 'p_val': 2.9976021664879227e-15, 'z_score': 7.804856391156809, 'seq': 'TAGAGGCTTTTCCTGGAAGCAGGGCATTTGTTGCTTCAGCACCGTAGTGCCTCGTCATCACGCCTCAGCCTTGATTTTCCGGATTTGCCTGGAAAACCAGCCTACACGCTTAAACCGGGACAACCGTCGCCCGGCCAACATAGCCTTCTCCGTCCCCCCTTCGCAGTAACACCAAGTACAGGAATATTAACCTGTTTCCCATCGACTACGCCTTTCGGCCTCGCCTTAGGGGTCGACTCACCCTGCCCCGATTAACGTTGGACAGGAACCCTTGGTCTTCCGGCGAGCGGG', 'label': True, 'bowtie': True}\n"
     ]
    }
   ],
   "source": [
    "# Print format\n",
    "\n",
    "def ellipsize_middle(s, width):\n",
    "    return s if len(s) <= width else s[: (width-3)//2] + \"\\n...\\n\" + s[-(width-3)//2:]\n",
    "\n",
    "print(ellipsize_middle(str(paired_multi_alns[0]), 2000))"
   ]
  },
  {
   "cell_type": "markdown",
   "id": "b22985d0",
   "metadata": {
    "papermill": {
     "duration": 0.024844,
     "end_time": "2025-09-20T06:31:59.301490",
     "exception": false,
     "start_time": "2025-09-20T06:31:59.276646",
     "status": "completed"
    },
    "tags": []
   },
   "source": [
    "# Storing Data"
   ]
  },
  {
   "cell_type": "code",
   "execution_count": 40,
   "id": "d92e7b90",
   "metadata": {
    "execution": {
     "iopub.execute_input": "2025-09-20T06:31:59.350680Z",
     "iopub.status.busy": "2025-09-20T06:31:59.350391Z",
     "iopub.status.idle": "2025-09-20T06:34:14.015647Z",
     "shell.execute_reply": "2025-09-20T06:34:14.013367Z"
    },
    "papermill": {
     "duration": 134.694834,
     "end_time": "2025-09-20T06:34:14.020309",
     "exception": false,
     "start_time": "2025-09-20T06:31:59.325475",
     "status": "completed"
    },
    "tags": []
   },
   "outputs": [],
   "source": [
    "# Flatten directly to DataFrame\n",
    "\n",
    "df_full = pd.DataFrame(paired_multi_alns)\n",
    "df_full.to_csv(os.path.join(DATA_DIR, \"all.csv\"), index=False)"
   ]
  },
  {
   "cell_type": "code",
   "execution_count": 41,
   "id": "3f000316",
   "metadata": {
    "execution": {
     "iopub.execute_input": "2025-09-20T06:34:14.082842Z",
     "iopub.status.busy": "2025-09-20T06:34:14.082433Z",
     "iopub.status.idle": "2025-09-20T06:34:14.100428Z",
     "shell.execute_reply": "2025-09-20T06:34:14.099539Z"
    },
    "papermill": {
     "duration": 0.047442,
     "end_time": "2025-09-20T06:34:14.102193",
     "exception": false,
     "start_time": "2025-09-20T06:34:14.054751",
     "status": "completed"
    },
    "tags": []
   },
   "outputs": [],
   "source": [
    "from sklearn.preprocessing import StandardScaler, OneHotEncoder\n",
    "from sklearn.model_selection import train_test_split\n",
    "from sklearn.compose import ColumnTransformer\n",
    "\n",
    "def prepare_and_save_data(df, data_dir=DATA_DIR, seed=1234, embed_features=['tfidf_k6', 'tfidf_k7', 'tfidf_k8', 'tfidf_k9', 'tfidf_k10', 'tfidf_k11', 'tfidf_k12', 'tfidf_k13', 'tfidf_k14', 'tfidf_k15']):\n",
    "    \"\"\"\n",
    "    Prepares dataset keeping all features intact (per dictionary):\n",
    "      - numeric features scaled\n",
    "      - categorical features one-hot encoded\n",
    "      - NaNs in numeric columns filled with 0\n",
    "      - saves train/val/test splits\n",
    "    \"\"\"\n",
    "    # --- Features ---\n",
    "    numeric_features = [\n",
    "        'r1_start', 'r1_end', 'r1_mapq', 'r1_is_reverse', \n",
    "        'r2_start', 'r2_end', 'r2_mapq', 'r2_is_reverse', \n",
    "        'weight', 'p_val', 'z_score'\n",
    "    ]\n",
    "    categorical_features = ['chr', 'r1_flag', 'r2_flag']\n",
    "    target = 'label'\n",
    "\n",
    "    df[target] = df[target].astype(int)\n",
    "    \n",
    "    # Fill NaNs in numeric columns and p_val separately\n",
    "    df[[f for f in numeric_features if f != 'p_val']] = df[[f for f in numeric_features if f != 'p_val']].fillna(0)\n",
    "    df['p_val'] = df['p_val'].fillna(-1)\n",
    "    \n",
    "    # Convert booleans to int if not already\n",
    "    df['r1_is_reverse'] = df['r1_is_reverse'].astype(int)\n",
    "    df['r2_is_reverse'] = df['r2_is_reverse'].astype(int)\n",
    "    df['bowtie'] = df['bowtie'].astype(int)\n",
    "\n",
    "    # --- Expand embedding arrays into columns ---\n",
    "    embed_cols = []\n",
    "    for col in embed_features:\n",
    "        emb_dim = len(df[col].iloc[0])   # dimension of embedding\n",
    "        emb_df = pd.DataFrame(df[col].tolist(),\n",
    "                              index=df.index,\n",
    "                              columns=[f\"{col}_{i}\" for i in range(emb_dim)])\n",
    "        df = pd.concat([df.drop(columns=[col]), emb_df], axis=1)\n",
    "        embed_cols.extend(emb_df.columns.tolist())\n",
    "\n",
    "    # --- Split train/val/test ---\n",
    "    train_val_df, test_df = train_test_split(df, test_size=0.20, random_state=seed, stratify=df[target])\n",
    "    train_df, val_df = train_test_split(train_val_df, test_size=0.125, random_state=seed, stratify=train_val_df[target])\n",
    "\n",
    "    X_train = train_df[numeric_features + categorical_features + embed_cols + ['bowtie',]]\n",
    "    y_train = train_df[target]\n",
    "    X_val = val_df[numeric_features + categorical_features + embed_cols + ['bowtie',]]\n",
    "    y_val = val_df[target]\n",
    "    X_test = test_df[numeric_features + categorical_features + embed_cols + ['bowtie',]]\n",
    "    y_test = test_df[target]\n",
    "\n",
    "    # --- Preprocessing ---\n",
    "    preprocessor = ColumnTransformer(\n",
    "        transformers=[\n",
    "            ('num', StandardScaler(), numeric_features),\n",
    "            ('cat', OneHotEncoder(handle_unknown='ignore', sparse_output=False), categorical_features)\n",
    "        ],\n",
    "        remainder='passthrough'\n",
    "    )\n",
    "\n",
    "    X_train_processed = preprocessor.fit_transform(X_train)\n",
    "    X_val_processed = preprocessor.transform(X_val)\n",
    "    X_test_processed = preprocessor.transform(X_test)\n",
    "\n",
    "    # --- Feature names ---\n",
    "    cat_feature_names = list(preprocessor.named_transformers_['cat'].get_feature_names_out(categorical_features))\n",
    "    feature_names = numeric_features + cat_feature_names + embed_cols + ['bowtie',]\n",
    "\n",
    "    X_train_df = pd.DataFrame(X_train_processed, columns=feature_names, index=train_df.index)\n",
    "    X_val_df = pd.DataFrame(X_val_processed, columns=feature_names, index=val_df.index)\n",
    "    X_test_df = pd.DataFrame(X_test_processed, columns=feature_names, index=test_df.index)\n",
    "\n",
    "    # --- Save ---\n",
    "    seed_dir = os.path.join(data_dir, f'seed{seed}')\n",
    "    os.makedirs(seed_dir, exist_ok=True)\n",
    "\n",
    "    X_train_df.to_csv(os.path.join(seed_dir, 'x_train.csv'), index=False)\n",
    "    X_val_df.to_csv(os.path.join(seed_dir, 'x_val.csv'), index=False)\n",
    "    X_test_df.to_csv(os.path.join(seed_dir, 'x_test.csv'), index=False)\n",
    "    y_train.to_csv(os.path.join(seed_dir, 'y_train.csv'), index=False)\n",
    "    y_val.to_csv(os.path.join(seed_dir, 'y_val.csv'), index=False)\n",
    "    y_test.to_csv(os.path.join(seed_dir, 'y_test.csv'), index=False)\n",
    "\n",
    "    print(f\"Saved into: {seed_dir}\")\n",
    "    print(f\"Numeric features scaled: {numeric_features}\")\n",
    "    print(f\"Categorical features one-hot encoded: {categorical_features}\")\n",
    "    print(f\"Embedding features expanded: {embed_cols}\")\n"
   ]
  },
  {
   "cell_type": "code",
   "execution_count": 42,
   "id": "89ffb79a",
   "metadata": {
    "execution": {
     "iopub.execute_input": "2025-09-20T06:34:14.153976Z",
     "iopub.status.busy": "2025-09-20T06:34:14.153656Z",
     "iopub.status.idle": "2025-09-20T06:38:10.620491Z",
     "shell.execute_reply": "2025-09-20T06:38:10.619451Z"
    },
    "papermill": {
     "duration": 236.523784,
     "end_time": "2025-09-20T06:38:10.652065",
     "exception": false,
     "start_time": "2025-09-20T06:34:14.128281",
     "status": "completed"
    },
    "tags": []
   },
   "outputs": [
    {
     "name": "stdout",
     "output_type": "stream",
     "text": [
      "Saved into: /kaggle/working/ecoli/data/seed128\n",
      "Numeric features scaled: ['r1_start', 'r1_end', 'r1_mapq', 'r1_is_reverse', 'r2_start', 'r2_end', 'r2_mapq', 'r2_is_reverse', 'weight', 'p_val', 'z_score']\n",
      "Categorical features one-hot encoded: ['chr', 'r1_flag', 'r2_flag']\n",
      "Embedding features expanded: ['tfidf_k6_0', 'tfidf_k6_1', 'tfidf_k6_2', 'tfidf_k6_3', 'tfidf_k6_4', 'tfidf_k6_5', 'tfidf_k6_6', 'tfidf_k6_7', 'tfidf_k6_8', 'tfidf_k6_9', 'tfidf_k6_10', 'tfidf_k6_11', 'tfidf_k6_12', 'tfidf_k6_13', 'tfidf_k6_14', 'tfidf_k6_15', 'tfidf_k6_16', 'tfidf_k6_17', 'tfidf_k6_18', 'tfidf_k6_19', 'tfidf_k6_20', 'tfidf_k6_21', 'tfidf_k6_22', 'tfidf_k6_23', 'tfidf_k6_24', 'tfidf_k6_25', 'tfidf_k6_26', 'tfidf_k6_27', 'tfidf_k6_28', 'tfidf_k6_29', 'tfidf_k6_30', 'tfidf_k6_31', 'tfidf_k6_32', 'tfidf_k6_33', 'tfidf_k6_34', 'tfidf_k6_35', 'tfidf_k6_36', 'tfidf_k6_37', 'tfidf_k6_38', 'tfidf_k6_39', 'tfidf_k6_40', 'tfidf_k6_41', 'tfidf_k6_42', 'tfidf_k6_43', 'tfidf_k6_44', 'tfidf_k6_45', 'tfidf_k6_46', 'tfidf_k6_47', 'tfidf_k6_48', 'tfidf_k6_49', 'tfidf_k6_50', 'tfidf_k6_51', 'tfidf_k6_52', 'tfidf_k6_53', 'tfidf_k6_54', 'tfidf_k6_55', 'tfidf_k6_56', 'tfidf_k6_57', 'tfidf_k6_58', 'tfidf_k6_59', 'tfidf_k6_60', 'tfidf_k6_61', 'tfidf_k6_62', 'tfidf_k6_63', 'tfidf_k6_64', 'tfidf_k6_65', 'tfidf_k6_66', 'tfidf_k6_67', 'tfidf_k6_68', 'tfidf_k6_69', 'tfidf_k6_70', 'tfidf_k6_71', 'tfidf_k6_72', 'tfidf_k6_73', 'tfidf_k6_74', 'tfidf_k6_75', 'tfidf_k6_76', 'tfidf_k6_77', 'tfidf_k6_78', 'tfidf_k6_79', 'tfidf_k6_80', 'tfidf_k6_81', 'tfidf_k6_82', 'tfidf_k6_83', 'tfidf_k6_84', 'tfidf_k6_85', 'tfidf_k6_86', 'tfidf_k6_87', 'tfidf_k6_88', 'tfidf_k6_89', 'tfidf_k6_90', 'tfidf_k6_91', 'tfidf_k6_92', 'tfidf_k6_93', 'tfidf_k6_94', 'tfidf_k6_95', 'tfidf_k6_96', 'tfidf_k6_97', 'tfidf_k6_98', 'tfidf_k6_99', 'tfidf_k6_100', 'tfidf_k6_101', 'tfidf_k6_102', 'tfidf_k6_103', 'tfidf_k6_104', 'tfidf_k6_105', 'tfidf_k6_106', 'tfidf_k6_107', 'tfidf_k6_108', 'tfidf_k6_109', 'tfidf_k6_110', 'tfidf_k6_111', 'tfidf_k6_112', 'tfidf_k6_113', 'tfidf_k6_114', 'tfidf_k6_115', 'tfidf_k6_116', 'tfidf_k6_117', 'tfidf_k6_118', 'tfidf_k6_119', 'tfidf_k6_120', 'tfidf_k6_121', 'tfidf_k6_122', 'tfidf_k6_123', 'tfidf_k6_124', 'tfidf_k6_125', 'tfidf_k6_126', 'tfidf_k6_127', 'tfidf_k6_128', 'tfidf_k6_129', 'tfidf_k6_130', 'tfidf_k6_131', 'tfidf_k6_132', 'tfidf_k6_133', 'tfidf_k6_134', 'tfidf_k6_135', 'tfidf_k6_136', 'tfidf_k6_137', 'tfidf_k6_138', 'tfidf_k6_139', 'tfidf_k6_140', 'tfidf_k6_141', 'tfidf_k6_142', 'tfidf_k6_143', 'tfidf_k6_144', 'tfidf_k6_145', 'tfidf_k6_146', 'tfidf_k6_147', 'tfidf_k6_148', 'tfidf_k6_149', 'tfidf_k6_150', 'tfidf_k6_151', 'tfidf_k6_152', 'tfidf_k6_153', 'tfidf_k6_154', 'tfidf_k6_155', 'tfidf_k6_156', 'tfidf_k6_157', 'tfidf_k6_158', 'tfidf_k6_159', 'tfidf_k6_160', 'tfidf_k6_161', 'tfidf_k6_162', 'tfidf_k6_163', 'tfidf_k6_164', 'tfidf_k6_165', 'tfidf_k6_166', 'tfidf_k6_167', 'tfidf_k6_168', 'tfidf_k6_169', 'tfidf_k6_170', 'tfidf_k6_171', 'tfidf_k6_172', 'tfidf_k6_173', 'tfidf_k6_174', 'tfidf_k7_0', 'tfidf_k7_1', 'tfidf_k7_2', 'tfidf_k7_3', 'tfidf_k7_4', 'tfidf_k7_5', 'tfidf_k7_6', 'tfidf_k7_7', 'tfidf_k7_8', 'tfidf_k7_9', 'tfidf_k7_10', 'tfidf_k7_11', 'tfidf_k7_12', 'tfidf_k7_13', 'tfidf_k7_14', 'tfidf_k7_15', 'tfidf_k7_16', 'tfidf_k7_17', 'tfidf_k7_18', 'tfidf_k7_19', 'tfidf_k7_20', 'tfidf_k7_21', 'tfidf_k7_22', 'tfidf_k7_23', 'tfidf_k7_24', 'tfidf_k7_25', 'tfidf_k7_26', 'tfidf_k7_27', 'tfidf_k7_28', 'tfidf_k7_29', 'tfidf_k7_30', 'tfidf_k7_31', 'tfidf_k7_32', 'tfidf_k7_33', 'tfidf_k7_34', 'tfidf_k7_35', 'tfidf_k7_36', 'tfidf_k7_37', 'tfidf_k7_38', 'tfidf_k7_39', 'tfidf_k7_40', 'tfidf_k7_41', 'tfidf_k7_42', 'tfidf_k7_43', 'tfidf_k7_44', 'tfidf_k7_45', 'tfidf_k7_46', 'tfidf_k7_47', 'tfidf_k7_48', 'tfidf_k7_49', 'tfidf_k7_50', 'tfidf_k7_51', 'tfidf_k7_52', 'tfidf_k7_53', 'tfidf_k7_54', 'tfidf_k7_55', 'tfidf_k7_56', 'tfidf_k7_57', 'tfidf_k7_58', 'tfidf_k7_59', 'tfidf_k7_60', 'tfidf_k7_61', 'tfidf_k7_62', 'tfidf_k7_63', 'tfidf_k7_64', 'tfidf_k7_65', 'tfidf_k7_66', 'tfidf_k7_67', 'tfidf_k7_68', 'tfidf_k7_69', 'tfidf_k7_70', 'tfidf_k7_71', 'tfidf_k7_72', 'tfidf_k7_73', 'tfidf_k7_74', 'tfidf_k7_75', 'tfidf_k7_76', 'tfidf_k7_77', 'tfidf_k7_78', 'tfidf_k7_79', 'tfidf_k7_80', 'tfidf_k7_81', 'tfidf_k7_82', 'tfidf_k7_83', 'tfidf_k7_84', 'tfidf_k7_85', 'tfidf_k7_86', 'tfidf_k7_87', 'tfidf_k7_88', 'tfidf_k7_89', 'tfidf_k7_90', 'tfidf_k7_91', 'tfidf_k7_92', 'tfidf_k7_93', 'tfidf_k7_94', 'tfidf_k7_95', 'tfidf_k7_96', 'tfidf_k7_97', 'tfidf_k7_98', 'tfidf_k7_99', 'tfidf_k7_100', 'tfidf_k7_101', 'tfidf_k7_102', 'tfidf_k7_103', 'tfidf_k7_104', 'tfidf_k7_105', 'tfidf_k7_106', 'tfidf_k7_107', 'tfidf_k7_108', 'tfidf_k7_109', 'tfidf_k7_110', 'tfidf_k7_111', 'tfidf_k7_112', 'tfidf_k7_113', 'tfidf_k7_114', 'tfidf_k7_115', 'tfidf_k7_116', 'tfidf_k7_117', 'tfidf_k7_118', 'tfidf_k7_119', 'tfidf_k7_120', 'tfidf_k7_121', 'tfidf_k7_122', 'tfidf_k7_123', 'tfidf_k7_124', 'tfidf_k7_125', 'tfidf_k7_126', 'tfidf_k7_127', 'tfidf_k7_128', 'tfidf_k7_129', 'tfidf_k7_130', 'tfidf_k7_131', 'tfidf_k7_132', 'tfidf_k7_133', 'tfidf_k7_134', 'tfidf_k7_135', 'tfidf_k7_136', 'tfidf_k7_137', 'tfidf_k7_138', 'tfidf_k7_139', 'tfidf_k7_140', 'tfidf_k7_141', 'tfidf_k7_142', 'tfidf_k7_143', 'tfidf_k7_144', 'tfidf_k7_145', 'tfidf_k7_146', 'tfidf_k7_147', 'tfidf_k7_148', 'tfidf_k7_149', 'tfidf_k7_150', 'tfidf_k7_151', 'tfidf_k7_152', 'tfidf_k7_153', 'tfidf_k7_154', 'tfidf_k7_155', 'tfidf_k7_156', 'tfidf_k7_157', 'tfidf_k7_158', 'tfidf_k7_159', 'tfidf_k7_160', 'tfidf_k7_161', 'tfidf_k7_162', 'tfidf_k7_163', 'tfidf_k7_164', 'tfidf_k7_165', 'tfidf_k7_166', 'tfidf_k7_167', 'tfidf_k7_168', 'tfidf_k7_169', 'tfidf_k7_170', 'tfidf_k7_171', 'tfidf_k7_172', 'tfidf_k7_173', 'tfidf_k8_0', 'tfidf_k8_1', 'tfidf_k8_2', 'tfidf_k8_3', 'tfidf_k8_4', 'tfidf_k8_5', 'tfidf_k8_6', 'tfidf_k8_7', 'tfidf_k8_8', 'tfidf_k8_9', 'tfidf_k8_10', 'tfidf_k8_11', 'tfidf_k8_12', 'tfidf_k8_13', 'tfidf_k8_14', 'tfidf_k8_15', 'tfidf_k8_16', 'tfidf_k8_17', 'tfidf_k8_18', 'tfidf_k8_19', 'tfidf_k8_20', 'tfidf_k8_21', 'tfidf_k8_22', 'tfidf_k8_23', 'tfidf_k8_24', 'tfidf_k8_25', 'tfidf_k8_26', 'tfidf_k8_27', 'tfidf_k8_28', 'tfidf_k8_29', 'tfidf_k8_30', 'tfidf_k8_31', 'tfidf_k8_32', 'tfidf_k8_33', 'tfidf_k8_34', 'tfidf_k8_35', 'tfidf_k8_36', 'tfidf_k8_37', 'tfidf_k8_38', 'tfidf_k8_39', 'tfidf_k8_40', 'tfidf_k8_41', 'tfidf_k8_42', 'tfidf_k8_43', 'tfidf_k8_44', 'tfidf_k8_45', 'tfidf_k8_46', 'tfidf_k8_47', 'tfidf_k8_48', 'tfidf_k8_49', 'tfidf_k8_50', 'tfidf_k8_51', 'tfidf_k8_52', 'tfidf_k8_53', 'tfidf_k8_54', 'tfidf_k8_55', 'tfidf_k8_56', 'tfidf_k8_57', 'tfidf_k8_58', 'tfidf_k8_59', 'tfidf_k8_60', 'tfidf_k8_61', 'tfidf_k8_62', 'tfidf_k8_63', 'tfidf_k8_64', 'tfidf_k8_65', 'tfidf_k8_66', 'tfidf_k8_67', 'tfidf_k8_68', 'tfidf_k8_69', 'tfidf_k8_70', 'tfidf_k8_71', 'tfidf_k8_72', 'tfidf_k8_73', 'tfidf_k8_74', 'tfidf_k8_75', 'tfidf_k8_76', 'tfidf_k8_77', 'tfidf_k8_78', 'tfidf_k8_79', 'tfidf_k8_80', 'tfidf_k8_81', 'tfidf_k8_82', 'tfidf_k8_83', 'tfidf_k8_84', 'tfidf_k8_85', 'tfidf_k8_86', 'tfidf_k8_87', 'tfidf_k8_88', 'tfidf_k8_89', 'tfidf_k8_90', 'tfidf_k8_91', 'tfidf_k8_92', 'tfidf_k8_93', 'tfidf_k8_94', 'tfidf_k8_95', 'tfidf_k8_96', 'tfidf_k8_97', 'tfidf_k8_98', 'tfidf_k8_99', 'tfidf_k8_100', 'tfidf_k8_101', 'tfidf_k8_102', 'tfidf_k8_103', 'tfidf_k8_104', 'tfidf_k8_105', 'tfidf_k8_106', 'tfidf_k8_107', 'tfidf_k8_108', 'tfidf_k8_109', 'tfidf_k8_110', 'tfidf_k8_111', 'tfidf_k8_112', 'tfidf_k8_113', 'tfidf_k8_114', 'tfidf_k8_115', 'tfidf_k8_116', 'tfidf_k8_117', 'tfidf_k8_118', 'tfidf_k8_119', 'tfidf_k8_120', 'tfidf_k8_121', 'tfidf_k8_122', 'tfidf_k8_123', 'tfidf_k8_124', 'tfidf_k8_125', 'tfidf_k8_126', 'tfidf_k8_127', 'tfidf_k8_128', 'tfidf_k8_129', 'tfidf_k8_130', 'tfidf_k8_131', 'tfidf_k8_132', 'tfidf_k8_133', 'tfidf_k8_134', 'tfidf_k8_135', 'tfidf_k8_136', 'tfidf_k8_137', 'tfidf_k8_138', 'tfidf_k8_139', 'tfidf_k8_140', 'tfidf_k8_141', 'tfidf_k8_142', 'tfidf_k8_143', 'tfidf_k8_144', 'tfidf_k8_145', 'tfidf_k8_146', 'tfidf_k8_147', 'tfidf_k8_148', 'tfidf_k8_149', 'tfidf_k8_150', 'tfidf_k8_151', 'tfidf_k8_152', 'tfidf_k8_153', 'tfidf_k8_154', 'tfidf_k8_155', 'tfidf_k8_156', 'tfidf_k8_157', 'tfidf_k8_158', 'tfidf_k8_159', 'tfidf_k8_160', 'tfidf_k8_161', 'tfidf_k8_162', 'tfidf_k8_163', 'tfidf_k8_164', 'tfidf_k8_165', 'tfidf_k8_166', 'tfidf_k8_167', 'tfidf_k8_168', 'tfidf_k8_169', 'tfidf_k8_170', 'tfidf_k8_171', 'tfidf_k8_172', 'tfidf_k9_0', 'tfidf_k9_1', 'tfidf_k9_2', 'tfidf_k9_3', 'tfidf_k9_4', 'tfidf_k9_5', 'tfidf_k9_6', 'tfidf_k9_7', 'tfidf_k9_8', 'tfidf_k9_9', 'tfidf_k9_10', 'tfidf_k9_11', 'tfidf_k9_12', 'tfidf_k9_13', 'tfidf_k9_14', 'tfidf_k9_15', 'tfidf_k9_16', 'tfidf_k9_17', 'tfidf_k9_18', 'tfidf_k9_19', 'tfidf_k9_20', 'tfidf_k9_21', 'tfidf_k9_22', 'tfidf_k9_23', 'tfidf_k9_24', 'tfidf_k9_25', 'tfidf_k9_26', 'tfidf_k9_27', 'tfidf_k9_28', 'tfidf_k9_29', 'tfidf_k9_30', 'tfidf_k9_31', 'tfidf_k9_32', 'tfidf_k9_33', 'tfidf_k9_34', 'tfidf_k9_35', 'tfidf_k9_36', 'tfidf_k9_37', 'tfidf_k9_38', 'tfidf_k9_39', 'tfidf_k9_40', 'tfidf_k9_41', 'tfidf_k9_42', 'tfidf_k9_43', 'tfidf_k9_44', 'tfidf_k9_45', 'tfidf_k9_46', 'tfidf_k9_47', 'tfidf_k9_48', 'tfidf_k9_49', 'tfidf_k9_50', 'tfidf_k9_51', 'tfidf_k9_52', 'tfidf_k9_53', 'tfidf_k9_54', 'tfidf_k9_55', 'tfidf_k9_56', 'tfidf_k9_57', 'tfidf_k9_58', 'tfidf_k9_59', 'tfidf_k9_60', 'tfidf_k9_61', 'tfidf_k9_62', 'tfidf_k9_63', 'tfidf_k9_64', 'tfidf_k9_65', 'tfidf_k9_66', 'tfidf_k9_67', 'tfidf_k9_68', 'tfidf_k9_69', 'tfidf_k9_70', 'tfidf_k9_71', 'tfidf_k9_72', 'tfidf_k9_73', 'tfidf_k9_74', 'tfidf_k9_75', 'tfidf_k9_76', 'tfidf_k9_77', 'tfidf_k9_78', 'tfidf_k9_79', 'tfidf_k9_80', 'tfidf_k9_81', 'tfidf_k9_82', 'tfidf_k9_83', 'tfidf_k9_84', 'tfidf_k9_85', 'tfidf_k9_86', 'tfidf_k9_87', 'tfidf_k9_88', 'tfidf_k9_89', 'tfidf_k9_90', 'tfidf_k9_91', 'tfidf_k9_92', 'tfidf_k9_93', 'tfidf_k9_94', 'tfidf_k9_95', 'tfidf_k9_96', 'tfidf_k9_97', 'tfidf_k9_98', 'tfidf_k9_99', 'tfidf_k9_100', 'tfidf_k9_101', 'tfidf_k9_102', 'tfidf_k9_103', 'tfidf_k9_104', 'tfidf_k9_105', 'tfidf_k9_106', 'tfidf_k9_107', 'tfidf_k9_108', 'tfidf_k9_109', 'tfidf_k9_110', 'tfidf_k9_111', 'tfidf_k9_112', 'tfidf_k9_113', 'tfidf_k9_114', 'tfidf_k9_115', 'tfidf_k9_116', 'tfidf_k9_117', 'tfidf_k9_118', 'tfidf_k9_119', 'tfidf_k9_120', 'tfidf_k9_121', 'tfidf_k9_122', 'tfidf_k9_123', 'tfidf_k9_124', 'tfidf_k9_125', 'tfidf_k9_126', 'tfidf_k9_127', 'tfidf_k9_128', 'tfidf_k9_129', 'tfidf_k9_130', 'tfidf_k9_131', 'tfidf_k9_132', 'tfidf_k9_133', 'tfidf_k9_134', 'tfidf_k9_135', 'tfidf_k9_136', 'tfidf_k9_137', 'tfidf_k9_138', 'tfidf_k9_139', 'tfidf_k9_140', 'tfidf_k9_141', 'tfidf_k9_142', 'tfidf_k9_143', 'tfidf_k9_144', 'tfidf_k9_145', 'tfidf_k9_146', 'tfidf_k9_147', 'tfidf_k9_148', 'tfidf_k9_149', 'tfidf_k9_150', 'tfidf_k9_151', 'tfidf_k9_152', 'tfidf_k9_153', 'tfidf_k9_154', 'tfidf_k9_155', 'tfidf_k9_156', 'tfidf_k9_157', 'tfidf_k9_158', 'tfidf_k9_159', 'tfidf_k9_160', 'tfidf_k9_161', 'tfidf_k9_162', 'tfidf_k9_163', 'tfidf_k9_164', 'tfidf_k9_165', 'tfidf_k9_166', 'tfidf_k9_167', 'tfidf_k9_168', 'tfidf_k9_169', 'tfidf_k9_170', 'tfidf_k9_171', 'tfidf_k10_0', 'tfidf_k10_1', 'tfidf_k10_2', 'tfidf_k10_3', 'tfidf_k10_4', 'tfidf_k10_5', 'tfidf_k10_6', 'tfidf_k10_7', 'tfidf_k10_8', 'tfidf_k10_9', 'tfidf_k10_10', 'tfidf_k10_11', 'tfidf_k10_12', 'tfidf_k10_13', 'tfidf_k10_14', 'tfidf_k10_15', 'tfidf_k10_16', 'tfidf_k10_17', 'tfidf_k10_18', 'tfidf_k10_19', 'tfidf_k10_20', 'tfidf_k10_21', 'tfidf_k10_22', 'tfidf_k10_23', 'tfidf_k10_24', 'tfidf_k10_25', 'tfidf_k10_26', 'tfidf_k10_27', 'tfidf_k10_28', 'tfidf_k10_29', 'tfidf_k10_30', 'tfidf_k10_31', 'tfidf_k10_32', 'tfidf_k10_33', 'tfidf_k10_34', 'tfidf_k10_35', 'tfidf_k10_36', 'tfidf_k10_37', 'tfidf_k10_38', 'tfidf_k10_39', 'tfidf_k10_40', 'tfidf_k10_41', 'tfidf_k10_42', 'tfidf_k10_43', 'tfidf_k10_44', 'tfidf_k10_45', 'tfidf_k10_46', 'tfidf_k10_47', 'tfidf_k10_48', 'tfidf_k10_49', 'tfidf_k10_50', 'tfidf_k10_51', 'tfidf_k10_52', 'tfidf_k10_53', 'tfidf_k10_54', 'tfidf_k10_55', 'tfidf_k10_56', 'tfidf_k10_57', 'tfidf_k10_58', 'tfidf_k10_59', 'tfidf_k10_60', 'tfidf_k10_61', 'tfidf_k10_62', 'tfidf_k10_63', 'tfidf_k10_64', 'tfidf_k10_65', 'tfidf_k10_66', 'tfidf_k10_67', 'tfidf_k10_68', 'tfidf_k10_69', 'tfidf_k10_70', 'tfidf_k10_71', 'tfidf_k10_72', 'tfidf_k10_73', 'tfidf_k10_74', 'tfidf_k10_75', 'tfidf_k10_76', 'tfidf_k10_77', 'tfidf_k10_78', 'tfidf_k10_79', 'tfidf_k10_80', 'tfidf_k10_81', 'tfidf_k10_82', 'tfidf_k10_83', 'tfidf_k10_84', 'tfidf_k10_85', 'tfidf_k10_86', 'tfidf_k10_87', 'tfidf_k10_88', 'tfidf_k10_89', 'tfidf_k10_90', 'tfidf_k10_91', 'tfidf_k10_92', 'tfidf_k10_93', 'tfidf_k10_94', 'tfidf_k10_95', 'tfidf_k10_96', 'tfidf_k10_97', 'tfidf_k10_98', 'tfidf_k10_99', 'tfidf_k10_100', 'tfidf_k10_101', 'tfidf_k10_102', 'tfidf_k10_103', 'tfidf_k10_104', 'tfidf_k10_105', 'tfidf_k10_106', 'tfidf_k10_107', 'tfidf_k10_108', 'tfidf_k10_109', 'tfidf_k10_110', 'tfidf_k10_111', 'tfidf_k10_112', 'tfidf_k10_113', 'tfidf_k10_114', 'tfidf_k10_115', 'tfidf_k10_116', 'tfidf_k10_117', 'tfidf_k10_118', 'tfidf_k10_119', 'tfidf_k10_120', 'tfidf_k10_121', 'tfidf_k10_122', 'tfidf_k10_123', 'tfidf_k10_124', 'tfidf_k10_125', 'tfidf_k10_126', 'tfidf_k10_127', 'tfidf_k10_128', 'tfidf_k10_129', 'tfidf_k10_130', 'tfidf_k10_131', 'tfidf_k10_132', 'tfidf_k10_133', 'tfidf_k10_134', 'tfidf_k10_135', 'tfidf_k10_136', 'tfidf_k10_137', 'tfidf_k10_138', 'tfidf_k10_139', 'tfidf_k10_140', 'tfidf_k10_141', 'tfidf_k10_142', 'tfidf_k10_143', 'tfidf_k10_144', 'tfidf_k10_145', 'tfidf_k10_146', 'tfidf_k10_147', 'tfidf_k10_148', 'tfidf_k10_149', 'tfidf_k10_150', 'tfidf_k10_151', 'tfidf_k10_152', 'tfidf_k10_153', 'tfidf_k10_154', 'tfidf_k10_155', 'tfidf_k10_156', 'tfidf_k10_157', 'tfidf_k10_158', 'tfidf_k10_159', 'tfidf_k10_160', 'tfidf_k10_161', 'tfidf_k10_162', 'tfidf_k10_163', 'tfidf_k10_164', 'tfidf_k10_165', 'tfidf_k10_166', 'tfidf_k10_167', 'tfidf_k10_168', 'tfidf_k10_169', 'tfidf_k10_170', 'tfidf_k11_0', 'tfidf_k11_1', 'tfidf_k11_2', 'tfidf_k11_3', 'tfidf_k11_4', 'tfidf_k11_5', 'tfidf_k11_6', 'tfidf_k11_7', 'tfidf_k11_8', 'tfidf_k11_9', 'tfidf_k11_10', 'tfidf_k11_11', 'tfidf_k11_12', 'tfidf_k11_13', 'tfidf_k11_14', 'tfidf_k11_15', 'tfidf_k11_16', 'tfidf_k11_17', 'tfidf_k11_18', 'tfidf_k11_19', 'tfidf_k11_20', 'tfidf_k11_21', 'tfidf_k11_22', 'tfidf_k11_23', 'tfidf_k11_24', 'tfidf_k11_25', 'tfidf_k11_26', 'tfidf_k11_27', 'tfidf_k11_28', 'tfidf_k11_29', 'tfidf_k11_30', 'tfidf_k11_31', 'tfidf_k11_32', 'tfidf_k11_33', 'tfidf_k11_34', 'tfidf_k11_35', 'tfidf_k11_36', 'tfidf_k11_37', 'tfidf_k11_38', 'tfidf_k11_39', 'tfidf_k11_40', 'tfidf_k11_41', 'tfidf_k11_42', 'tfidf_k11_43', 'tfidf_k11_44', 'tfidf_k11_45', 'tfidf_k11_46', 'tfidf_k11_47', 'tfidf_k11_48', 'tfidf_k11_49', 'tfidf_k11_50', 'tfidf_k11_51', 'tfidf_k11_52', 'tfidf_k11_53', 'tfidf_k11_54', 'tfidf_k11_55', 'tfidf_k11_56', 'tfidf_k11_57', 'tfidf_k11_58', 'tfidf_k11_59', 'tfidf_k11_60', 'tfidf_k11_61', 'tfidf_k11_62', 'tfidf_k11_63', 'tfidf_k11_64', 'tfidf_k11_65', 'tfidf_k11_66', 'tfidf_k11_67', 'tfidf_k11_68', 'tfidf_k11_69', 'tfidf_k11_70', 'tfidf_k11_71', 'tfidf_k11_72', 'tfidf_k11_73', 'tfidf_k11_74', 'tfidf_k11_75', 'tfidf_k11_76', 'tfidf_k11_77', 'tfidf_k11_78', 'tfidf_k11_79', 'tfidf_k11_80', 'tfidf_k11_81', 'tfidf_k11_82', 'tfidf_k11_83', 'tfidf_k11_84', 'tfidf_k11_85', 'tfidf_k11_86', 'tfidf_k11_87', 'tfidf_k11_88', 'tfidf_k11_89', 'tfidf_k11_90', 'tfidf_k11_91', 'tfidf_k11_92', 'tfidf_k11_93', 'tfidf_k11_94', 'tfidf_k11_95', 'tfidf_k11_96', 'tfidf_k11_97', 'tfidf_k11_98', 'tfidf_k11_99', 'tfidf_k11_100', 'tfidf_k11_101', 'tfidf_k11_102', 'tfidf_k11_103', 'tfidf_k11_104', 'tfidf_k11_105', 'tfidf_k11_106', 'tfidf_k11_107', 'tfidf_k11_108', 'tfidf_k11_109', 'tfidf_k11_110', 'tfidf_k11_111', 'tfidf_k11_112', 'tfidf_k11_113', 'tfidf_k11_114', 'tfidf_k11_115', 'tfidf_k11_116', 'tfidf_k11_117', 'tfidf_k11_118', 'tfidf_k11_119', 'tfidf_k11_120', 'tfidf_k11_121', 'tfidf_k11_122', 'tfidf_k11_123', 'tfidf_k11_124', 'tfidf_k11_125', 'tfidf_k11_126', 'tfidf_k11_127', 'tfidf_k11_128', 'tfidf_k11_129', 'tfidf_k11_130', 'tfidf_k11_131', 'tfidf_k11_132', 'tfidf_k11_133', 'tfidf_k11_134', 'tfidf_k11_135', 'tfidf_k11_136', 'tfidf_k11_137', 'tfidf_k11_138', 'tfidf_k11_139', 'tfidf_k11_140', 'tfidf_k11_141', 'tfidf_k11_142', 'tfidf_k11_143', 'tfidf_k11_144', 'tfidf_k11_145', 'tfidf_k11_146', 'tfidf_k11_147', 'tfidf_k11_148', 'tfidf_k11_149', 'tfidf_k11_150', 'tfidf_k11_151', 'tfidf_k11_152', 'tfidf_k11_153', 'tfidf_k11_154', 'tfidf_k11_155', 'tfidf_k11_156', 'tfidf_k11_157', 'tfidf_k11_158', 'tfidf_k11_159', 'tfidf_k11_160', 'tfidf_k11_161', 'tfidf_k11_162', 'tfidf_k11_163', 'tfidf_k11_164', 'tfidf_k11_165', 'tfidf_k11_166', 'tfidf_k11_167', 'tfidf_k11_168', 'tfidf_k11_169', 'tfidf_k12_0', 'tfidf_k12_1', 'tfidf_k12_2', 'tfidf_k12_3', 'tfidf_k12_4', 'tfidf_k12_5', 'tfidf_k12_6', 'tfidf_k12_7', 'tfidf_k12_8', 'tfidf_k12_9', 'tfidf_k12_10', 'tfidf_k12_11', 'tfidf_k12_12', 'tfidf_k12_13', 'tfidf_k12_14', 'tfidf_k12_15', 'tfidf_k12_16', 'tfidf_k12_17', 'tfidf_k12_18', 'tfidf_k12_19', 'tfidf_k12_20', 'tfidf_k12_21', 'tfidf_k12_22', 'tfidf_k12_23', 'tfidf_k12_24', 'tfidf_k12_25', 'tfidf_k12_26', 'tfidf_k12_27', 'tfidf_k12_28', 'tfidf_k12_29', 'tfidf_k12_30', 'tfidf_k12_31', 'tfidf_k12_32', 'tfidf_k12_33', 'tfidf_k12_34', 'tfidf_k12_35', 'tfidf_k12_36', 'tfidf_k12_37', 'tfidf_k12_38', 'tfidf_k12_39', 'tfidf_k12_40', 'tfidf_k12_41', 'tfidf_k12_42', 'tfidf_k12_43', 'tfidf_k12_44', 'tfidf_k12_45', 'tfidf_k12_46', 'tfidf_k12_47', 'tfidf_k12_48', 'tfidf_k12_49', 'tfidf_k12_50', 'tfidf_k12_51', 'tfidf_k12_52', 'tfidf_k12_53', 'tfidf_k12_54', 'tfidf_k12_55', 'tfidf_k12_56', 'tfidf_k12_57', 'tfidf_k12_58', 'tfidf_k12_59', 'tfidf_k12_60', 'tfidf_k12_61', 'tfidf_k12_62', 'tfidf_k12_63', 'tfidf_k12_64', 'tfidf_k12_65', 'tfidf_k12_66', 'tfidf_k12_67', 'tfidf_k12_68', 'tfidf_k12_69', 'tfidf_k12_70', 'tfidf_k12_71', 'tfidf_k12_72', 'tfidf_k12_73', 'tfidf_k12_74', 'tfidf_k12_75', 'tfidf_k12_76', 'tfidf_k12_77', 'tfidf_k12_78', 'tfidf_k12_79', 'tfidf_k12_80', 'tfidf_k12_81', 'tfidf_k12_82', 'tfidf_k12_83', 'tfidf_k12_84', 'tfidf_k12_85', 'tfidf_k12_86', 'tfidf_k12_87', 'tfidf_k12_88', 'tfidf_k12_89', 'tfidf_k12_90', 'tfidf_k12_91', 'tfidf_k12_92', 'tfidf_k12_93', 'tfidf_k12_94', 'tfidf_k12_95', 'tfidf_k12_96', 'tfidf_k12_97', 'tfidf_k12_98', 'tfidf_k12_99', 'tfidf_k12_100', 'tfidf_k12_101', 'tfidf_k12_102', 'tfidf_k12_103', 'tfidf_k12_104', 'tfidf_k12_105', 'tfidf_k12_106', 'tfidf_k12_107', 'tfidf_k12_108', 'tfidf_k12_109', 'tfidf_k12_110', 'tfidf_k12_111', 'tfidf_k12_112', 'tfidf_k12_113', 'tfidf_k12_114', 'tfidf_k12_115', 'tfidf_k12_116', 'tfidf_k12_117', 'tfidf_k12_118', 'tfidf_k12_119', 'tfidf_k12_120', 'tfidf_k12_121', 'tfidf_k12_122', 'tfidf_k12_123', 'tfidf_k12_124', 'tfidf_k12_125', 'tfidf_k12_126', 'tfidf_k12_127', 'tfidf_k12_128', 'tfidf_k12_129', 'tfidf_k12_130', 'tfidf_k12_131', 'tfidf_k12_132', 'tfidf_k12_133', 'tfidf_k12_134', 'tfidf_k12_135', 'tfidf_k12_136', 'tfidf_k12_137', 'tfidf_k12_138', 'tfidf_k12_139', 'tfidf_k12_140', 'tfidf_k12_141', 'tfidf_k12_142', 'tfidf_k12_143', 'tfidf_k12_144', 'tfidf_k12_145', 'tfidf_k12_146', 'tfidf_k12_147', 'tfidf_k12_148', 'tfidf_k12_149', 'tfidf_k12_150', 'tfidf_k12_151', 'tfidf_k12_152', 'tfidf_k12_153', 'tfidf_k12_154', 'tfidf_k12_155', 'tfidf_k12_156', 'tfidf_k12_157', 'tfidf_k12_158', 'tfidf_k12_159', 'tfidf_k12_160', 'tfidf_k12_161', 'tfidf_k12_162', 'tfidf_k12_163', 'tfidf_k12_164', 'tfidf_k12_165', 'tfidf_k12_166', 'tfidf_k12_167', 'tfidf_k12_168', 'tfidf_k13_0', 'tfidf_k13_1', 'tfidf_k13_2', 'tfidf_k13_3', 'tfidf_k13_4', 'tfidf_k13_5', 'tfidf_k13_6', 'tfidf_k13_7', 'tfidf_k13_8', 'tfidf_k13_9', 'tfidf_k13_10', 'tfidf_k13_11', 'tfidf_k13_12', 'tfidf_k13_13', 'tfidf_k13_14', 'tfidf_k13_15', 'tfidf_k13_16', 'tfidf_k13_17', 'tfidf_k13_18', 'tfidf_k13_19', 'tfidf_k13_20', 'tfidf_k13_21', 'tfidf_k13_22', 'tfidf_k13_23', 'tfidf_k13_24', 'tfidf_k13_25', 'tfidf_k13_26', 'tfidf_k13_27', 'tfidf_k13_28', 'tfidf_k13_29', 'tfidf_k13_30', 'tfidf_k13_31', 'tfidf_k13_32', 'tfidf_k13_33', 'tfidf_k13_34', 'tfidf_k13_35', 'tfidf_k13_36', 'tfidf_k13_37', 'tfidf_k13_38', 'tfidf_k13_39', 'tfidf_k13_40', 'tfidf_k13_41', 'tfidf_k13_42', 'tfidf_k13_43', 'tfidf_k13_44', 'tfidf_k13_45', 'tfidf_k13_46', 'tfidf_k13_47', 'tfidf_k13_48', 'tfidf_k13_49', 'tfidf_k13_50', 'tfidf_k13_51', 'tfidf_k13_52', 'tfidf_k13_53', 'tfidf_k13_54', 'tfidf_k13_55', 'tfidf_k13_56', 'tfidf_k13_57', 'tfidf_k13_58', 'tfidf_k13_59', 'tfidf_k13_60', 'tfidf_k13_61', 'tfidf_k13_62', 'tfidf_k13_63', 'tfidf_k13_64', 'tfidf_k13_65', 'tfidf_k13_66', 'tfidf_k13_67', 'tfidf_k13_68', 'tfidf_k13_69', 'tfidf_k13_70', 'tfidf_k13_71', 'tfidf_k13_72', 'tfidf_k13_73', 'tfidf_k13_74', 'tfidf_k13_75', 'tfidf_k13_76', 'tfidf_k13_77', 'tfidf_k13_78', 'tfidf_k13_79', 'tfidf_k13_80', 'tfidf_k13_81', 'tfidf_k13_82', 'tfidf_k13_83', 'tfidf_k13_84', 'tfidf_k13_85', 'tfidf_k13_86', 'tfidf_k13_87', 'tfidf_k13_88', 'tfidf_k13_89', 'tfidf_k13_90', 'tfidf_k13_91', 'tfidf_k13_92', 'tfidf_k13_93', 'tfidf_k13_94', 'tfidf_k13_95', 'tfidf_k13_96', 'tfidf_k13_97', 'tfidf_k13_98', 'tfidf_k13_99', 'tfidf_k13_100', 'tfidf_k13_101', 'tfidf_k13_102', 'tfidf_k13_103', 'tfidf_k13_104', 'tfidf_k13_105', 'tfidf_k13_106', 'tfidf_k13_107', 'tfidf_k13_108', 'tfidf_k13_109', 'tfidf_k13_110', 'tfidf_k13_111', 'tfidf_k13_112', 'tfidf_k13_113', 'tfidf_k13_114', 'tfidf_k13_115', 'tfidf_k13_116', 'tfidf_k13_117', 'tfidf_k13_118', 'tfidf_k13_119', 'tfidf_k13_120', 'tfidf_k13_121', 'tfidf_k13_122', 'tfidf_k13_123', 'tfidf_k13_124', 'tfidf_k13_125', 'tfidf_k13_126', 'tfidf_k13_127', 'tfidf_k13_128', 'tfidf_k13_129', 'tfidf_k13_130', 'tfidf_k13_131', 'tfidf_k13_132', 'tfidf_k13_133', 'tfidf_k13_134', 'tfidf_k13_135', 'tfidf_k13_136', 'tfidf_k13_137', 'tfidf_k13_138', 'tfidf_k13_139', 'tfidf_k13_140', 'tfidf_k13_141', 'tfidf_k13_142', 'tfidf_k13_143', 'tfidf_k13_144', 'tfidf_k13_145', 'tfidf_k13_146', 'tfidf_k13_147', 'tfidf_k13_148', 'tfidf_k13_149', 'tfidf_k13_150', 'tfidf_k13_151', 'tfidf_k13_152', 'tfidf_k13_153', 'tfidf_k13_154', 'tfidf_k13_155', 'tfidf_k13_156', 'tfidf_k13_157', 'tfidf_k13_158', 'tfidf_k13_159', 'tfidf_k13_160', 'tfidf_k13_161', 'tfidf_k13_162', 'tfidf_k13_163', 'tfidf_k13_164', 'tfidf_k13_165', 'tfidf_k13_166', 'tfidf_k13_167', 'tfidf_k14_0', 'tfidf_k14_1', 'tfidf_k14_2', 'tfidf_k14_3', 'tfidf_k14_4', 'tfidf_k14_5', 'tfidf_k14_6', 'tfidf_k14_7', 'tfidf_k14_8', 'tfidf_k14_9', 'tfidf_k14_10', 'tfidf_k14_11', 'tfidf_k14_12', 'tfidf_k14_13', 'tfidf_k14_14', 'tfidf_k14_15', 'tfidf_k14_16', 'tfidf_k14_17', 'tfidf_k14_18', 'tfidf_k14_19', 'tfidf_k14_20', 'tfidf_k14_21', 'tfidf_k14_22', 'tfidf_k14_23', 'tfidf_k14_24', 'tfidf_k14_25', 'tfidf_k14_26', 'tfidf_k14_27', 'tfidf_k14_28', 'tfidf_k14_29', 'tfidf_k14_30', 'tfidf_k14_31', 'tfidf_k14_32', 'tfidf_k14_33', 'tfidf_k14_34', 'tfidf_k14_35', 'tfidf_k14_36', 'tfidf_k14_37', 'tfidf_k14_38', 'tfidf_k14_39', 'tfidf_k14_40', 'tfidf_k14_41', 'tfidf_k14_42', 'tfidf_k14_43', 'tfidf_k14_44', 'tfidf_k14_45', 'tfidf_k14_46', 'tfidf_k14_47', 'tfidf_k14_48', 'tfidf_k14_49', 'tfidf_k14_50', 'tfidf_k14_51', 'tfidf_k14_52', 'tfidf_k14_53', 'tfidf_k14_54', 'tfidf_k14_55', 'tfidf_k14_56', 'tfidf_k14_57', 'tfidf_k14_58', 'tfidf_k14_59', 'tfidf_k14_60', 'tfidf_k14_61', 'tfidf_k14_62', 'tfidf_k14_63', 'tfidf_k14_64', 'tfidf_k14_65', 'tfidf_k14_66', 'tfidf_k14_67', 'tfidf_k14_68', 'tfidf_k14_69', 'tfidf_k14_70', 'tfidf_k14_71', 'tfidf_k14_72', 'tfidf_k14_73', 'tfidf_k14_74', 'tfidf_k14_75', 'tfidf_k14_76', 'tfidf_k14_77', 'tfidf_k14_78', 'tfidf_k14_79', 'tfidf_k14_80', 'tfidf_k14_81', 'tfidf_k14_82', 'tfidf_k14_83', 'tfidf_k14_84', 'tfidf_k14_85', 'tfidf_k14_86', 'tfidf_k14_87', 'tfidf_k14_88', 'tfidf_k14_89', 'tfidf_k14_90', 'tfidf_k14_91', 'tfidf_k14_92', 'tfidf_k14_93', 'tfidf_k14_94', 'tfidf_k14_95', 'tfidf_k14_96', 'tfidf_k14_97', 'tfidf_k14_98', 'tfidf_k14_99', 'tfidf_k14_100', 'tfidf_k14_101', 'tfidf_k14_102', 'tfidf_k14_103', 'tfidf_k14_104', 'tfidf_k14_105', 'tfidf_k14_106', 'tfidf_k14_107', 'tfidf_k14_108', 'tfidf_k14_109', 'tfidf_k14_110', 'tfidf_k14_111', 'tfidf_k14_112', 'tfidf_k14_113', 'tfidf_k14_114', 'tfidf_k14_115', 'tfidf_k14_116', 'tfidf_k14_117', 'tfidf_k14_118', 'tfidf_k14_119', 'tfidf_k14_120', 'tfidf_k14_121', 'tfidf_k14_122', 'tfidf_k14_123', 'tfidf_k14_124', 'tfidf_k14_125', 'tfidf_k14_126', 'tfidf_k14_127', 'tfidf_k14_128', 'tfidf_k14_129', 'tfidf_k14_130', 'tfidf_k14_131', 'tfidf_k14_132', 'tfidf_k14_133', 'tfidf_k14_134', 'tfidf_k14_135', 'tfidf_k14_136', 'tfidf_k14_137', 'tfidf_k14_138', 'tfidf_k14_139', 'tfidf_k14_140', 'tfidf_k14_141', 'tfidf_k14_142', 'tfidf_k14_143', 'tfidf_k14_144', 'tfidf_k14_145', 'tfidf_k14_146', 'tfidf_k14_147', 'tfidf_k14_148', 'tfidf_k14_149', 'tfidf_k14_150', 'tfidf_k14_151', 'tfidf_k14_152', 'tfidf_k14_153', 'tfidf_k14_154', 'tfidf_k14_155', 'tfidf_k14_156', 'tfidf_k14_157', 'tfidf_k14_158', 'tfidf_k14_159', 'tfidf_k14_160', 'tfidf_k14_161', 'tfidf_k14_162', 'tfidf_k14_163', 'tfidf_k14_164', 'tfidf_k14_165', 'tfidf_k14_166', 'tfidf_k15_0', 'tfidf_k15_1', 'tfidf_k15_2', 'tfidf_k15_3', 'tfidf_k15_4', 'tfidf_k15_5', 'tfidf_k15_6', 'tfidf_k15_7', 'tfidf_k15_8', 'tfidf_k15_9', 'tfidf_k15_10', 'tfidf_k15_11', 'tfidf_k15_12', 'tfidf_k15_13', 'tfidf_k15_14', 'tfidf_k15_15', 'tfidf_k15_16', 'tfidf_k15_17', 'tfidf_k15_18', 'tfidf_k15_19', 'tfidf_k15_20', 'tfidf_k15_21', 'tfidf_k15_22', 'tfidf_k15_23', 'tfidf_k15_24', 'tfidf_k15_25', 'tfidf_k15_26', 'tfidf_k15_27', 'tfidf_k15_28', 'tfidf_k15_29', 'tfidf_k15_30', 'tfidf_k15_31', 'tfidf_k15_32', 'tfidf_k15_33', 'tfidf_k15_34', 'tfidf_k15_35', 'tfidf_k15_36', 'tfidf_k15_37', 'tfidf_k15_38', 'tfidf_k15_39', 'tfidf_k15_40', 'tfidf_k15_41', 'tfidf_k15_42', 'tfidf_k15_43', 'tfidf_k15_44', 'tfidf_k15_45', 'tfidf_k15_46', 'tfidf_k15_47', 'tfidf_k15_48', 'tfidf_k15_49', 'tfidf_k15_50', 'tfidf_k15_51', 'tfidf_k15_52', 'tfidf_k15_53', 'tfidf_k15_54', 'tfidf_k15_55', 'tfidf_k15_56', 'tfidf_k15_57', 'tfidf_k15_58', 'tfidf_k15_59', 'tfidf_k15_60', 'tfidf_k15_61', 'tfidf_k15_62', 'tfidf_k15_63', 'tfidf_k15_64', 'tfidf_k15_65', 'tfidf_k15_66', 'tfidf_k15_67', 'tfidf_k15_68', 'tfidf_k15_69', 'tfidf_k15_70', 'tfidf_k15_71', 'tfidf_k15_72', 'tfidf_k15_73', 'tfidf_k15_74', 'tfidf_k15_75', 'tfidf_k15_76', 'tfidf_k15_77', 'tfidf_k15_78', 'tfidf_k15_79', 'tfidf_k15_80', 'tfidf_k15_81', 'tfidf_k15_82', 'tfidf_k15_83', 'tfidf_k15_84', 'tfidf_k15_85', 'tfidf_k15_86', 'tfidf_k15_87', 'tfidf_k15_88', 'tfidf_k15_89', 'tfidf_k15_90', 'tfidf_k15_91', 'tfidf_k15_92', 'tfidf_k15_93', 'tfidf_k15_94', 'tfidf_k15_95', 'tfidf_k15_96', 'tfidf_k15_97', 'tfidf_k15_98', 'tfidf_k15_99', 'tfidf_k15_100', 'tfidf_k15_101', 'tfidf_k15_102', 'tfidf_k15_103', 'tfidf_k15_104', 'tfidf_k15_105', 'tfidf_k15_106', 'tfidf_k15_107', 'tfidf_k15_108', 'tfidf_k15_109', 'tfidf_k15_110', 'tfidf_k15_111', 'tfidf_k15_112', 'tfidf_k15_113', 'tfidf_k15_114', 'tfidf_k15_115', 'tfidf_k15_116', 'tfidf_k15_117', 'tfidf_k15_118', 'tfidf_k15_119', 'tfidf_k15_120', 'tfidf_k15_121', 'tfidf_k15_122', 'tfidf_k15_123', 'tfidf_k15_124', 'tfidf_k15_125', 'tfidf_k15_126', 'tfidf_k15_127', 'tfidf_k15_128', 'tfidf_k15_129', 'tfidf_k15_130', 'tfidf_k15_131', 'tfidf_k15_132', 'tfidf_k15_133', 'tfidf_k15_134', 'tfidf_k15_135', 'tfidf_k15_136', 'tfidf_k15_137', 'tfidf_k15_138', 'tfidf_k15_139', 'tfidf_k15_140', 'tfidf_k15_141', 'tfidf_k15_142', 'tfidf_k15_143', 'tfidf_k15_144', 'tfidf_k15_145', 'tfidf_k15_146', 'tfidf_k15_147', 'tfidf_k15_148', 'tfidf_k15_149', 'tfidf_k15_150', 'tfidf_k15_151', 'tfidf_k15_152', 'tfidf_k15_153', 'tfidf_k15_154', 'tfidf_k15_155', 'tfidf_k15_156', 'tfidf_k15_157', 'tfidf_k15_158', 'tfidf_k15_159', 'tfidf_k15_160', 'tfidf_k15_161', 'tfidf_k15_162', 'tfidf_k15_163', 'tfidf_k15_164', 'tfidf_k15_165']\n"
     ]
    }
   ],
   "source": [
    "# Prepare for random = 128\n",
    "\n",
    "prepare_and_save_data(df_full.copy(), data_dir=DATA_DIR, seed=128)"
   ]
  },
  {
   "cell_type": "code",
   "execution_count": 43,
   "id": "6cb6f337",
   "metadata": {
    "execution": {
     "iopub.execute_input": "2025-09-20T06:38:10.708904Z",
     "iopub.status.busy": "2025-09-20T06:38:10.707805Z",
     "iopub.status.idle": "2025-09-20T06:41:57.080031Z",
     "shell.execute_reply": "2025-09-20T06:41:57.078770Z"
    },
    "papermill": {
     "duration": 226.431446,
     "end_time": "2025-09-20T06:41:57.108782",
     "exception": false,
     "start_time": "2025-09-20T06:38:10.677336",
     "status": "completed"
    },
    "tags": []
   },
   "outputs": [
    {
     "name": "stdout",
     "output_type": "stream",
     "text": [
      "Saved into: /kaggle/working/ecoli/data/seed256\n",
      "Numeric features scaled: ['r1_start', 'r1_end', 'r1_mapq', 'r1_is_reverse', 'r2_start', 'r2_end', 'r2_mapq', 'r2_is_reverse', 'weight', 'p_val', 'z_score']\n",
      "Categorical features one-hot encoded: ['chr', 'r1_flag', 'r2_flag']\n",
      "Embedding features expanded: ['tfidf_k6_0', 'tfidf_k6_1', 'tfidf_k6_2', 'tfidf_k6_3', 'tfidf_k6_4', 'tfidf_k6_5', 'tfidf_k6_6', 'tfidf_k6_7', 'tfidf_k6_8', 'tfidf_k6_9', 'tfidf_k6_10', 'tfidf_k6_11', 'tfidf_k6_12', 'tfidf_k6_13', 'tfidf_k6_14', 'tfidf_k6_15', 'tfidf_k6_16', 'tfidf_k6_17', 'tfidf_k6_18', 'tfidf_k6_19', 'tfidf_k6_20', 'tfidf_k6_21', 'tfidf_k6_22', 'tfidf_k6_23', 'tfidf_k6_24', 'tfidf_k6_25', 'tfidf_k6_26', 'tfidf_k6_27', 'tfidf_k6_28', 'tfidf_k6_29', 'tfidf_k6_30', 'tfidf_k6_31', 'tfidf_k6_32', 'tfidf_k6_33', 'tfidf_k6_34', 'tfidf_k6_35', 'tfidf_k6_36', 'tfidf_k6_37', 'tfidf_k6_38', 'tfidf_k6_39', 'tfidf_k6_40', 'tfidf_k6_41', 'tfidf_k6_42', 'tfidf_k6_43', 'tfidf_k6_44', 'tfidf_k6_45', 'tfidf_k6_46', 'tfidf_k6_47', 'tfidf_k6_48', 'tfidf_k6_49', 'tfidf_k6_50', 'tfidf_k6_51', 'tfidf_k6_52', 'tfidf_k6_53', 'tfidf_k6_54', 'tfidf_k6_55', 'tfidf_k6_56', 'tfidf_k6_57', 'tfidf_k6_58', 'tfidf_k6_59', 'tfidf_k6_60', 'tfidf_k6_61', 'tfidf_k6_62', 'tfidf_k6_63', 'tfidf_k6_64', 'tfidf_k6_65', 'tfidf_k6_66', 'tfidf_k6_67', 'tfidf_k6_68', 'tfidf_k6_69', 'tfidf_k6_70', 'tfidf_k6_71', 'tfidf_k6_72', 'tfidf_k6_73', 'tfidf_k6_74', 'tfidf_k6_75', 'tfidf_k6_76', 'tfidf_k6_77', 'tfidf_k6_78', 'tfidf_k6_79', 'tfidf_k6_80', 'tfidf_k6_81', 'tfidf_k6_82', 'tfidf_k6_83', 'tfidf_k6_84', 'tfidf_k6_85', 'tfidf_k6_86', 'tfidf_k6_87', 'tfidf_k6_88', 'tfidf_k6_89', 'tfidf_k6_90', 'tfidf_k6_91', 'tfidf_k6_92', 'tfidf_k6_93', 'tfidf_k6_94', 'tfidf_k6_95', 'tfidf_k6_96', 'tfidf_k6_97', 'tfidf_k6_98', 'tfidf_k6_99', 'tfidf_k6_100', 'tfidf_k6_101', 'tfidf_k6_102', 'tfidf_k6_103', 'tfidf_k6_104', 'tfidf_k6_105', 'tfidf_k6_106', 'tfidf_k6_107', 'tfidf_k6_108', 'tfidf_k6_109', 'tfidf_k6_110', 'tfidf_k6_111', 'tfidf_k6_112', 'tfidf_k6_113', 'tfidf_k6_114', 'tfidf_k6_115', 'tfidf_k6_116', 'tfidf_k6_117', 'tfidf_k6_118', 'tfidf_k6_119', 'tfidf_k6_120', 'tfidf_k6_121', 'tfidf_k6_122', 'tfidf_k6_123', 'tfidf_k6_124', 'tfidf_k6_125', 'tfidf_k6_126', 'tfidf_k6_127', 'tfidf_k6_128', 'tfidf_k6_129', 'tfidf_k6_130', 'tfidf_k6_131', 'tfidf_k6_132', 'tfidf_k6_133', 'tfidf_k6_134', 'tfidf_k6_135', 'tfidf_k6_136', 'tfidf_k6_137', 'tfidf_k6_138', 'tfidf_k6_139', 'tfidf_k6_140', 'tfidf_k6_141', 'tfidf_k6_142', 'tfidf_k6_143', 'tfidf_k6_144', 'tfidf_k6_145', 'tfidf_k6_146', 'tfidf_k6_147', 'tfidf_k6_148', 'tfidf_k6_149', 'tfidf_k6_150', 'tfidf_k6_151', 'tfidf_k6_152', 'tfidf_k6_153', 'tfidf_k6_154', 'tfidf_k6_155', 'tfidf_k6_156', 'tfidf_k6_157', 'tfidf_k6_158', 'tfidf_k6_159', 'tfidf_k6_160', 'tfidf_k6_161', 'tfidf_k6_162', 'tfidf_k6_163', 'tfidf_k6_164', 'tfidf_k6_165', 'tfidf_k6_166', 'tfidf_k6_167', 'tfidf_k6_168', 'tfidf_k6_169', 'tfidf_k6_170', 'tfidf_k6_171', 'tfidf_k6_172', 'tfidf_k6_173', 'tfidf_k6_174', 'tfidf_k7_0', 'tfidf_k7_1', 'tfidf_k7_2', 'tfidf_k7_3', 'tfidf_k7_4', 'tfidf_k7_5', 'tfidf_k7_6', 'tfidf_k7_7', 'tfidf_k7_8', 'tfidf_k7_9', 'tfidf_k7_10', 'tfidf_k7_11', 'tfidf_k7_12', 'tfidf_k7_13', 'tfidf_k7_14', 'tfidf_k7_15', 'tfidf_k7_16', 'tfidf_k7_17', 'tfidf_k7_18', 'tfidf_k7_19', 'tfidf_k7_20', 'tfidf_k7_21', 'tfidf_k7_22', 'tfidf_k7_23', 'tfidf_k7_24', 'tfidf_k7_25', 'tfidf_k7_26', 'tfidf_k7_27', 'tfidf_k7_28', 'tfidf_k7_29', 'tfidf_k7_30', 'tfidf_k7_31', 'tfidf_k7_32', 'tfidf_k7_33', 'tfidf_k7_34', 'tfidf_k7_35', 'tfidf_k7_36', 'tfidf_k7_37', 'tfidf_k7_38', 'tfidf_k7_39', 'tfidf_k7_40', 'tfidf_k7_41', 'tfidf_k7_42', 'tfidf_k7_43', 'tfidf_k7_44', 'tfidf_k7_45', 'tfidf_k7_46', 'tfidf_k7_47', 'tfidf_k7_48', 'tfidf_k7_49', 'tfidf_k7_50', 'tfidf_k7_51', 'tfidf_k7_52', 'tfidf_k7_53', 'tfidf_k7_54', 'tfidf_k7_55', 'tfidf_k7_56', 'tfidf_k7_57', 'tfidf_k7_58', 'tfidf_k7_59', 'tfidf_k7_60', 'tfidf_k7_61', 'tfidf_k7_62', 'tfidf_k7_63', 'tfidf_k7_64', 'tfidf_k7_65', 'tfidf_k7_66', 'tfidf_k7_67', 'tfidf_k7_68', 'tfidf_k7_69', 'tfidf_k7_70', 'tfidf_k7_71', 'tfidf_k7_72', 'tfidf_k7_73', 'tfidf_k7_74', 'tfidf_k7_75', 'tfidf_k7_76', 'tfidf_k7_77', 'tfidf_k7_78', 'tfidf_k7_79', 'tfidf_k7_80', 'tfidf_k7_81', 'tfidf_k7_82', 'tfidf_k7_83', 'tfidf_k7_84', 'tfidf_k7_85', 'tfidf_k7_86', 'tfidf_k7_87', 'tfidf_k7_88', 'tfidf_k7_89', 'tfidf_k7_90', 'tfidf_k7_91', 'tfidf_k7_92', 'tfidf_k7_93', 'tfidf_k7_94', 'tfidf_k7_95', 'tfidf_k7_96', 'tfidf_k7_97', 'tfidf_k7_98', 'tfidf_k7_99', 'tfidf_k7_100', 'tfidf_k7_101', 'tfidf_k7_102', 'tfidf_k7_103', 'tfidf_k7_104', 'tfidf_k7_105', 'tfidf_k7_106', 'tfidf_k7_107', 'tfidf_k7_108', 'tfidf_k7_109', 'tfidf_k7_110', 'tfidf_k7_111', 'tfidf_k7_112', 'tfidf_k7_113', 'tfidf_k7_114', 'tfidf_k7_115', 'tfidf_k7_116', 'tfidf_k7_117', 'tfidf_k7_118', 'tfidf_k7_119', 'tfidf_k7_120', 'tfidf_k7_121', 'tfidf_k7_122', 'tfidf_k7_123', 'tfidf_k7_124', 'tfidf_k7_125', 'tfidf_k7_126', 'tfidf_k7_127', 'tfidf_k7_128', 'tfidf_k7_129', 'tfidf_k7_130', 'tfidf_k7_131', 'tfidf_k7_132', 'tfidf_k7_133', 'tfidf_k7_134', 'tfidf_k7_135', 'tfidf_k7_136', 'tfidf_k7_137', 'tfidf_k7_138', 'tfidf_k7_139', 'tfidf_k7_140', 'tfidf_k7_141', 'tfidf_k7_142', 'tfidf_k7_143', 'tfidf_k7_144', 'tfidf_k7_145', 'tfidf_k7_146', 'tfidf_k7_147', 'tfidf_k7_148', 'tfidf_k7_149', 'tfidf_k7_150', 'tfidf_k7_151', 'tfidf_k7_152', 'tfidf_k7_153', 'tfidf_k7_154', 'tfidf_k7_155', 'tfidf_k7_156', 'tfidf_k7_157', 'tfidf_k7_158', 'tfidf_k7_159', 'tfidf_k7_160', 'tfidf_k7_161', 'tfidf_k7_162', 'tfidf_k7_163', 'tfidf_k7_164', 'tfidf_k7_165', 'tfidf_k7_166', 'tfidf_k7_167', 'tfidf_k7_168', 'tfidf_k7_169', 'tfidf_k7_170', 'tfidf_k7_171', 'tfidf_k7_172', 'tfidf_k7_173', 'tfidf_k8_0', 'tfidf_k8_1', 'tfidf_k8_2', 'tfidf_k8_3', 'tfidf_k8_4', 'tfidf_k8_5', 'tfidf_k8_6', 'tfidf_k8_7', 'tfidf_k8_8', 'tfidf_k8_9', 'tfidf_k8_10', 'tfidf_k8_11', 'tfidf_k8_12', 'tfidf_k8_13', 'tfidf_k8_14', 'tfidf_k8_15', 'tfidf_k8_16', 'tfidf_k8_17', 'tfidf_k8_18', 'tfidf_k8_19', 'tfidf_k8_20', 'tfidf_k8_21', 'tfidf_k8_22', 'tfidf_k8_23', 'tfidf_k8_24', 'tfidf_k8_25', 'tfidf_k8_26', 'tfidf_k8_27', 'tfidf_k8_28', 'tfidf_k8_29', 'tfidf_k8_30', 'tfidf_k8_31', 'tfidf_k8_32', 'tfidf_k8_33', 'tfidf_k8_34', 'tfidf_k8_35', 'tfidf_k8_36', 'tfidf_k8_37', 'tfidf_k8_38', 'tfidf_k8_39', 'tfidf_k8_40', 'tfidf_k8_41', 'tfidf_k8_42', 'tfidf_k8_43', 'tfidf_k8_44', 'tfidf_k8_45', 'tfidf_k8_46', 'tfidf_k8_47', 'tfidf_k8_48', 'tfidf_k8_49', 'tfidf_k8_50', 'tfidf_k8_51', 'tfidf_k8_52', 'tfidf_k8_53', 'tfidf_k8_54', 'tfidf_k8_55', 'tfidf_k8_56', 'tfidf_k8_57', 'tfidf_k8_58', 'tfidf_k8_59', 'tfidf_k8_60', 'tfidf_k8_61', 'tfidf_k8_62', 'tfidf_k8_63', 'tfidf_k8_64', 'tfidf_k8_65', 'tfidf_k8_66', 'tfidf_k8_67', 'tfidf_k8_68', 'tfidf_k8_69', 'tfidf_k8_70', 'tfidf_k8_71', 'tfidf_k8_72', 'tfidf_k8_73', 'tfidf_k8_74', 'tfidf_k8_75', 'tfidf_k8_76', 'tfidf_k8_77', 'tfidf_k8_78', 'tfidf_k8_79', 'tfidf_k8_80', 'tfidf_k8_81', 'tfidf_k8_82', 'tfidf_k8_83', 'tfidf_k8_84', 'tfidf_k8_85', 'tfidf_k8_86', 'tfidf_k8_87', 'tfidf_k8_88', 'tfidf_k8_89', 'tfidf_k8_90', 'tfidf_k8_91', 'tfidf_k8_92', 'tfidf_k8_93', 'tfidf_k8_94', 'tfidf_k8_95', 'tfidf_k8_96', 'tfidf_k8_97', 'tfidf_k8_98', 'tfidf_k8_99', 'tfidf_k8_100', 'tfidf_k8_101', 'tfidf_k8_102', 'tfidf_k8_103', 'tfidf_k8_104', 'tfidf_k8_105', 'tfidf_k8_106', 'tfidf_k8_107', 'tfidf_k8_108', 'tfidf_k8_109', 'tfidf_k8_110', 'tfidf_k8_111', 'tfidf_k8_112', 'tfidf_k8_113', 'tfidf_k8_114', 'tfidf_k8_115', 'tfidf_k8_116', 'tfidf_k8_117', 'tfidf_k8_118', 'tfidf_k8_119', 'tfidf_k8_120', 'tfidf_k8_121', 'tfidf_k8_122', 'tfidf_k8_123', 'tfidf_k8_124', 'tfidf_k8_125', 'tfidf_k8_126', 'tfidf_k8_127', 'tfidf_k8_128', 'tfidf_k8_129', 'tfidf_k8_130', 'tfidf_k8_131', 'tfidf_k8_132', 'tfidf_k8_133', 'tfidf_k8_134', 'tfidf_k8_135', 'tfidf_k8_136', 'tfidf_k8_137', 'tfidf_k8_138', 'tfidf_k8_139', 'tfidf_k8_140', 'tfidf_k8_141', 'tfidf_k8_142', 'tfidf_k8_143', 'tfidf_k8_144', 'tfidf_k8_145', 'tfidf_k8_146', 'tfidf_k8_147', 'tfidf_k8_148', 'tfidf_k8_149', 'tfidf_k8_150', 'tfidf_k8_151', 'tfidf_k8_152', 'tfidf_k8_153', 'tfidf_k8_154', 'tfidf_k8_155', 'tfidf_k8_156', 'tfidf_k8_157', 'tfidf_k8_158', 'tfidf_k8_159', 'tfidf_k8_160', 'tfidf_k8_161', 'tfidf_k8_162', 'tfidf_k8_163', 'tfidf_k8_164', 'tfidf_k8_165', 'tfidf_k8_166', 'tfidf_k8_167', 'tfidf_k8_168', 'tfidf_k8_169', 'tfidf_k8_170', 'tfidf_k8_171', 'tfidf_k8_172', 'tfidf_k9_0', 'tfidf_k9_1', 'tfidf_k9_2', 'tfidf_k9_3', 'tfidf_k9_4', 'tfidf_k9_5', 'tfidf_k9_6', 'tfidf_k9_7', 'tfidf_k9_8', 'tfidf_k9_9', 'tfidf_k9_10', 'tfidf_k9_11', 'tfidf_k9_12', 'tfidf_k9_13', 'tfidf_k9_14', 'tfidf_k9_15', 'tfidf_k9_16', 'tfidf_k9_17', 'tfidf_k9_18', 'tfidf_k9_19', 'tfidf_k9_20', 'tfidf_k9_21', 'tfidf_k9_22', 'tfidf_k9_23', 'tfidf_k9_24', 'tfidf_k9_25', 'tfidf_k9_26', 'tfidf_k9_27', 'tfidf_k9_28', 'tfidf_k9_29', 'tfidf_k9_30', 'tfidf_k9_31', 'tfidf_k9_32', 'tfidf_k9_33', 'tfidf_k9_34', 'tfidf_k9_35', 'tfidf_k9_36', 'tfidf_k9_37', 'tfidf_k9_38', 'tfidf_k9_39', 'tfidf_k9_40', 'tfidf_k9_41', 'tfidf_k9_42', 'tfidf_k9_43', 'tfidf_k9_44', 'tfidf_k9_45', 'tfidf_k9_46', 'tfidf_k9_47', 'tfidf_k9_48', 'tfidf_k9_49', 'tfidf_k9_50', 'tfidf_k9_51', 'tfidf_k9_52', 'tfidf_k9_53', 'tfidf_k9_54', 'tfidf_k9_55', 'tfidf_k9_56', 'tfidf_k9_57', 'tfidf_k9_58', 'tfidf_k9_59', 'tfidf_k9_60', 'tfidf_k9_61', 'tfidf_k9_62', 'tfidf_k9_63', 'tfidf_k9_64', 'tfidf_k9_65', 'tfidf_k9_66', 'tfidf_k9_67', 'tfidf_k9_68', 'tfidf_k9_69', 'tfidf_k9_70', 'tfidf_k9_71', 'tfidf_k9_72', 'tfidf_k9_73', 'tfidf_k9_74', 'tfidf_k9_75', 'tfidf_k9_76', 'tfidf_k9_77', 'tfidf_k9_78', 'tfidf_k9_79', 'tfidf_k9_80', 'tfidf_k9_81', 'tfidf_k9_82', 'tfidf_k9_83', 'tfidf_k9_84', 'tfidf_k9_85', 'tfidf_k9_86', 'tfidf_k9_87', 'tfidf_k9_88', 'tfidf_k9_89', 'tfidf_k9_90', 'tfidf_k9_91', 'tfidf_k9_92', 'tfidf_k9_93', 'tfidf_k9_94', 'tfidf_k9_95', 'tfidf_k9_96', 'tfidf_k9_97', 'tfidf_k9_98', 'tfidf_k9_99', 'tfidf_k9_100', 'tfidf_k9_101', 'tfidf_k9_102', 'tfidf_k9_103', 'tfidf_k9_104', 'tfidf_k9_105', 'tfidf_k9_106', 'tfidf_k9_107', 'tfidf_k9_108', 'tfidf_k9_109', 'tfidf_k9_110', 'tfidf_k9_111', 'tfidf_k9_112', 'tfidf_k9_113', 'tfidf_k9_114', 'tfidf_k9_115', 'tfidf_k9_116', 'tfidf_k9_117', 'tfidf_k9_118', 'tfidf_k9_119', 'tfidf_k9_120', 'tfidf_k9_121', 'tfidf_k9_122', 'tfidf_k9_123', 'tfidf_k9_124', 'tfidf_k9_125', 'tfidf_k9_126', 'tfidf_k9_127', 'tfidf_k9_128', 'tfidf_k9_129', 'tfidf_k9_130', 'tfidf_k9_131', 'tfidf_k9_132', 'tfidf_k9_133', 'tfidf_k9_134', 'tfidf_k9_135', 'tfidf_k9_136', 'tfidf_k9_137', 'tfidf_k9_138', 'tfidf_k9_139', 'tfidf_k9_140', 'tfidf_k9_141', 'tfidf_k9_142', 'tfidf_k9_143', 'tfidf_k9_144', 'tfidf_k9_145', 'tfidf_k9_146', 'tfidf_k9_147', 'tfidf_k9_148', 'tfidf_k9_149', 'tfidf_k9_150', 'tfidf_k9_151', 'tfidf_k9_152', 'tfidf_k9_153', 'tfidf_k9_154', 'tfidf_k9_155', 'tfidf_k9_156', 'tfidf_k9_157', 'tfidf_k9_158', 'tfidf_k9_159', 'tfidf_k9_160', 'tfidf_k9_161', 'tfidf_k9_162', 'tfidf_k9_163', 'tfidf_k9_164', 'tfidf_k9_165', 'tfidf_k9_166', 'tfidf_k9_167', 'tfidf_k9_168', 'tfidf_k9_169', 'tfidf_k9_170', 'tfidf_k9_171', 'tfidf_k10_0', 'tfidf_k10_1', 'tfidf_k10_2', 'tfidf_k10_3', 'tfidf_k10_4', 'tfidf_k10_5', 'tfidf_k10_6', 'tfidf_k10_7', 'tfidf_k10_8', 'tfidf_k10_9', 'tfidf_k10_10', 'tfidf_k10_11', 'tfidf_k10_12', 'tfidf_k10_13', 'tfidf_k10_14', 'tfidf_k10_15', 'tfidf_k10_16', 'tfidf_k10_17', 'tfidf_k10_18', 'tfidf_k10_19', 'tfidf_k10_20', 'tfidf_k10_21', 'tfidf_k10_22', 'tfidf_k10_23', 'tfidf_k10_24', 'tfidf_k10_25', 'tfidf_k10_26', 'tfidf_k10_27', 'tfidf_k10_28', 'tfidf_k10_29', 'tfidf_k10_30', 'tfidf_k10_31', 'tfidf_k10_32', 'tfidf_k10_33', 'tfidf_k10_34', 'tfidf_k10_35', 'tfidf_k10_36', 'tfidf_k10_37', 'tfidf_k10_38', 'tfidf_k10_39', 'tfidf_k10_40', 'tfidf_k10_41', 'tfidf_k10_42', 'tfidf_k10_43', 'tfidf_k10_44', 'tfidf_k10_45', 'tfidf_k10_46', 'tfidf_k10_47', 'tfidf_k10_48', 'tfidf_k10_49', 'tfidf_k10_50', 'tfidf_k10_51', 'tfidf_k10_52', 'tfidf_k10_53', 'tfidf_k10_54', 'tfidf_k10_55', 'tfidf_k10_56', 'tfidf_k10_57', 'tfidf_k10_58', 'tfidf_k10_59', 'tfidf_k10_60', 'tfidf_k10_61', 'tfidf_k10_62', 'tfidf_k10_63', 'tfidf_k10_64', 'tfidf_k10_65', 'tfidf_k10_66', 'tfidf_k10_67', 'tfidf_k10_68', 'tfidf_k10_69', 'tfidf_k10_70', 'tfidf_k10_71', 'tfidf_k10_72', 'tfidf_k10_73', 'tfidf_k10_74', 'tfidf_k10_75', 'tfidf_k10_76', 'tfidf_k10_77', 'tfidf_k10_78', 'tfidf_k10_79', 'tfidf_k10_80', 'tfidf_k10_81', 'tfidf_k10_82', 'tfidf_k10_83', 'tfidf_k10_84', 'tfidf_k10_85', 'tfidf_k10_86', 'tfidf_k10_87', 'tfidf_k10_88', 'tfidf_k10_89', 'tfidf_k10_90', 'tfidf_k10_91', 'tfidf_k10_92', 'tfidf_k10_93', 'tfidf_k10_94', 'tfidf_k10_95', 'tfidf_k10_96', 'tfidf_k10_97', 'tfidf_k10_98', 'tfidf_k10_99', 'tfidf_k10_100', 'tfidf_k10_101', 'tfidf_k10_102', 'tfidf_k10_103', 'tfidf_k10_104', 'tfidf_k10_105', 'tfidf_k10_106', 'tfidf_k10_107', 'tfidf_k10_108', 'tfidf_k10_109', 'tfidf_k10_110', 'tfidf_k10_111', 'tfidf_k10_112', 'tfidf_k10_113', 'tfidf_k10_114', 'tfidf_k10_115', 'tfidf_k10_116', 'tfidf_k10_117', 'tfidf_k10_118', 'tfidf_k10_119', 'tfidf_k10_120', 'tfidf_k10_121', 'tfidf_k10_122', 'tfidf_k10_123', 'tfidf_k10_124', 'tfidf_k10_125', 'tfidf_k10_126', 'tfidf_k10_127', 'tfidf_k10_128', 'tfidf_k10_129', 'tfidf_k10_130', 'tfidf_k10_131', 'tfidf_k10_132', 'tfidf_k10_133', 'tfidf_k10_134', 'tfidf_k10_135', 'tfidf_k10_136', 'tfidf_k10_137', 'tfidf_k10_138', 'tfidf_k10_139', 'tfidf_k10_140', 'tfidf_k10_141', 'tfidf_k10_142', 'tfidf_k10_143', 'tfidf_k10_144', 'tfidf_k10_145', 'tfidf_k10_146', 'tfidf_k10_147', 'tfidf_k10_148', 'tfidf_k10_149', 'tfidf_k10_150', 'tfidf_k10_151', 'tfidf_k10_152', 'tfidf_k10_153', 'tfidf_k10_154', 'tfidf_k10_155', 'tfidf_k10_156', 'tfidf_k10_157', 'tfidf_k10_158', 'tfidf_k10_159', 'tfidf_k10_160', 'tfidf_k10_161', 'tfidf_k10_162', 'tfidf_k10_163', 'tfidf_k10_164', 'tfidf_k10_165', 'tfidf_k10_166', 'tfidf_k10_167', 'tfidf_k10_168', 'tfidf_k10_169', 'tfidf_k10_170', 'tfidf_k11_0', 'tfidf_k11_1', 'tfidf_k11_2', 'tfidf_k11_3', 'tfidf_k11_4', 'tfidf_k11_5', 'tfidf_k11_6', 'tfidf_k11_7', 'tfidf_k11_8', 'tfidf_k11_9', 'tfidf_k11_10', 'tfidf_k11_11', 'tfidf_k11_12', 'tfidf_k11_13', 'tfidf_k11_14', 'tfidf_k11_15', 'tfidf_k11_16', 'tfidf_k11_17', 'tfidf_k11_18', 'tfidf_k11_19', 'tfidf_k11_20', 'tfidf_k11_21', 'tfidf_k11_22', 'tfidf_k11_23', 'tfidf_k11_24', 'tfidf_k11_25', 'tfidf_k11_26', 'tfidf_k11_27', 'tfidf_k11_28', 'tfidf_k11_29', 'tfidf_k11_30', 'tfidf_k11_31', 'tfidf_k11_32', 'tfidf_k11_33', 'tfidf_k11_34', 'tfidf_k11_35', 'tfidf_k11_36', 'tfidf_k11_37', 'tfidf_k11_38', 'tfidf_k11_39', 'tfidf_k11_40', 'tfidf_k11_41', 'tfidf_k11_42', 'tfidf_k11_43', 'tfidf_k11_44', 'tfidf_k11_45', 'tfidf_k11_46', 'tfidf_k11_47', 'tfidf_k11_48', 'tfidf_k11_49', 'tfidf_k11_50', 'tfidf_k11_51', 'tfidf_k11_52', 'tfidf_k11_53', 'tfidf_k11_54', 'tfidf_k11_55', 'tfidf_k11_56', 'tfidf_k11_57', 'tfidf_k11_58', 'tfidf_k11_59', 'tfidf_k11_60', 'tfidf_k11_61', 'tfidf_k11_62', 'tfidf_k11_63', 'tfidf_k11_64', 'tfidf_k11_65', 'tfidf_k11_66', 'tfidf_k11_67', 'tfidf_k11_68', 'tfidf_k11_69', 'tfidf_k11_70', 'tfidf_k11_71', 'tfidf_k11_72', 'tfidf_k11_73', 'tfidf_k11_74', 'tfidf_k11_75', 'tfidf_k11_76', 'tfidf_k11_77', 'tfidf_k11_78', 'tfidf_k11_79', 'tfidf_k11_80', 'tfidf_k11_81', 'tfidf_k11_82', 'tfidf_k11_83', 'tfidf_k11_84', 'tfidf_k11_85', 'tfidf_k11_86', 'tfidf_k11_87', 'tfidf_k11_88', 'tfidf_k11_89', 'tfidf_k11_90', 'tfidf_k11_91', 'tfidf_k11_92', 'tfidf_k11_93', 'tfidf_k11_94', 'tfidf_k11_95', 'tfidf_k11_96', 'tfidf_k11_97', 'tfidf_k11_98', 'tfidf_k11_99', 'tfidf_k11_100', 'tfidf_k11_101', 'tfidf_k11_102', 'tfidf_k11_103', 'tfidf_k11_104', 'tfidf_k11_105', 'tfidf_k11_106', 'tfidf_k11_107', 'tfidf_k11_108', 'tfidf_k11_109', 'tfidf_k11_110', 'tfidf_k11_111', 'tfidf_k11_112', 'tfidf_k11_113', 'tfidf_k11_114', 'tfidf_k11_115', 'tfidf_k11_116', 'tfidf_k11_117', 'tfidf_k11_118', 'tfidf_k11_119', 'tfidf_k11_120', 'tfidf_k11_121', 'tfidf_k11_122', 'tfidf_k11_123', 'tfidf_k11_124', 'tfidf_k11_125', 'tfidf_k11_126', 'tfidf_k11_127', 'tfidf_k11_128', 'tfidf_k11_129', 'tfidf_k11_130', 'tfidf_k11_131', 'tfidf_k11_132', 'tfidf_k11_133', 'tfidf_k11_134', 'tfidf_k11_135', 'tfidf_k11_136', 'tfidf_k11_137', 'tfidf_k11_138', 'tfidf_k11_139', 'tfidf_k11_140', 'tfidf_k11_141', 'tfidf_k11_142', 'tfidf_k11_143', 'tfidf_k11_144', 'tfidf_k11_145', 'tfidf_k11_146', 'tfidf_k11_147', 'tfidf_k11_148', 'tfidf_k11_149', 'tfidf_k11_150', 'tfidf_k11_151', 'tfidf_k11_152', 'tfidf_k11_153', 'tfidf_k11_154', 'tfidf_k11_155', 'tfidf_k11_156', 'tfidf_k11_157', 'tfidf_k11_158', 'tfidf_k11_159', 'tfidf_k11_160', 'tfidf_k11_161', 'tfidf_k11_162', 'tfidf_k11_163', 'tfidf_k11_164', 'tfidf_k11_165', 'tfidf_k11_166', 'tfidf_k11_167', 'tfidf_k11_168', 'tfidf_k11_169', 'tfidf_k12_0', 'tfidf_k12_1', 'tfidf_k12_2', 'tfidf_k12_3', 'tfidf_k12_4', 'tfidf_k12_5', 'tfidf_k12_6', 'tfidf_k12_7', 'tfidf_k12_8', 'tfidf_k12_9', 'tfidf_k12_10', 'tfidf_k12_11', 'tfidf_k12_12', 'tfidf_k12_13', 'tfidf_k12_14', 'tfidf_k12_15', 'tfidf_k12_16', 'tfidf_k12_17', 'tfidf_k12_18', 'tfidf_k12_19', 'tfidf_k12_20', 'tfidf_k12_21', 'tfidf_k12_22', 'tfidf_k12_23', 'tfidf_k12_24', 'tfidf_k12_25', 'tfidf_k12_26', 'tfidf_k12_27', 'tfidf_k12_28', 'tfidf_k12_29', 'tfidf_k12_30', 'tfidf_k12_31', 'tfidf_k12_32', 'tfidf_k12_33', 'tfidf_k12_34', 'tfidf_k12_35', 'tfidf_k12_36', 'tfidf_k12_37', 'tfidf_k12_38', 'tfidf_k12_39', 'tfidf_k12_40', 'tfidf_k12_41', 'tfidf_k12_42', 'tfidf_k12_43', 'tfidf_k12_44', 'tfidf_k12_45', 'tfidf_k12_46', 'tfidf_k12_47', 'tfidf_k12_48', 'tfidf_k12_49', 'tfidf_k12_50', 'tfidf_k12_51', 'tfidf_k12_52', 'tfidf_k12_53', 'tfidf_k12_54', 'tfidf_k12_55', 'tfidf_k12_56', 'tfidf_k12_57', 'tfidf_k12_58', 'tfidf_k12_59', 'tfidf_k12_60', 'tfidf_k12_61', 'tfidf_k12_62', 'tfidf_k12_63', 'tfidf_k12_64', 'tfidf_k12_65', 'tfidf_k12_66', 'tfidf_k12_67', 'tfidf_k12_68', 'tfidf_k12_69', 'tfidf_k12_70', 'tfidf_k12_71', 'tfidf_k12_72', 'tfidf_k12_73', 'tfidf_k12_74', 'tfidf_k12_75', 'tfidf_k12_76', 'tfidf_k12_77', 'tfidf_k12_78', 'tfidf_k12_79', 'tfidf_k12_80', 'tfidf_k12_81', 'tfidf_k12_82', 'tfidf_k12_83', 'tfidf_k12_84', 'tfidf_k12_85', 'tfidf_k12_86', 'tfidf_k12_87', 'tfidf_k12_88', 'tfidf_k12_89', 'tfidf_k12_90', 'tfidf_k12_91', 'tfidf_k12_92', 'tfidf_k12_93', 'tfidf_k12_94', 'tfidf_k12_95', 'tfidf_k12_96', 'tfidf_k12_97', 'tfidf_k12_98', 'tfidf_k12_99', 'tfidf_k12_100', 'tfidf_k12_101', 'tfidf_k12_102', 'tfidf_k12_103', 'tfidf_k12_104', 'tfidf_k12_105', 'tfidf_k12_106', 'tfidf_k12_107', 'tfidf_k12_108', 'tfidf_k12_109', 'tfidf_k12_110', 'tfidf_k12_111', 'tfidf_k12_112', 'tfidf_k12_113', 'tfidf_k12_114', 'tfidf_k12_115', 'tfidf_k12_116', 'tfidf_k12_117', 'tfidf_k12_118', 'tfidf_k12_119', 'tfidf_k12_120', 'tfidf_k12_121', 'tfidf_k12_122', 'tfidf_k12_123', 'tfidf_k12_124', 'tfidf_k12_125', 'tfidf_k12_126', 'tfidf_k12_127', 'tfidf_k12_128', 'tfidf_k12_129', 'tfidf_k12_130', 'tfidf_k12_131', 'tfidf_k12_132', 'tfidf_k12_133', 'tfidf_k12_134', 'tfidf_k12_135', 'tfidf_k12_136', 'tfidf_k12_137', 'tfidf_k12_138', 'tfidf_k12_139', 'tfidf_k12_140', 'tfidf_k12_141', 'tfidf_k12_142', 'tfidf_k12_143', 'tfidf_k12_144', 'tfidf_k12_145', 'tfidf_k12_146', 'tfidf_k12_147', 'tfidf_k12_148', 'tfidf_k12_149', 'tfidf_k12_150', 'tfidf_k12_151', 'tfidf_k12_152', 'tfidf_k12_153', 'tfidf_k12_154', 'tfidf_k12_155', 'tfidf_k12_156', 'tfidf_k12_157', 'tfidf_k12_158', 'tfidf_k12_159', 'tfidf_k12_160', 'tfidf_k12_161', 'tfidf_k12_162', 'tfidf_k12_163', 'tfidf_k12_164', 'tfidf_k12_165', 'tfidf_k12_166', 'tfidf_k12_167', 'tfidf_k12_168', 'tfidf_k13_0', 'tfidf_k13_1', 'tfidf_k13_2', 'tfidf_k13_3', 'tfidf_k13_4', 'tfidf_k13_5', 'tfidf_k13_6', 'tfidf_k13_7', 'tfidf_k13_8', 'tfidf_k13_9', 'tfidf_k13_10', 'tfidf_k13_11', 'tfidf_k13_12', 'tfidf_k13_13', 'tfidf_k13_14', 'tfidf_k13_15', 'tfidf_k13_16', 'tfidf_k13_17', 'tfidf_k13_18', 'tfidf_k13_19', 'tfidf_k13_20', 'tfidf_k13_21', 'tfidf_k13_22', 'tfidf_k13_23', 'tfidf_k13_24', 'tfidf_k13_25', 'tfidf_k13_26', 'tfidf_k13_27', 'tfidf_k13_28', 'tfidf_k13_29', 'tfidf_k13_30', 'tfidf_k13_31', 'tfidf_k13_32', 'tfidf_k13_33', 'tfidf_k13_34', 'tfidf_k13_35', 'tfidf_k13_36', 'tfidf_k13_37', 'tfidf_k13_38', 'tfidf_k13_39', 'tfidf_k13_40', 'tfidf_k13_41', 'tfidf_k13_42', 'tfidf_k13_43', 'tfidf_k13_44', 'tfidf_k13_45', 'tfidf_k13_46', 'tfidf_k13_47', 'tfidf_k13_48', 'tfidf_k13_49', 'tfidf_k13_50', 'tfidf_k13_51', 'tfidf_k13_52', 'tfidf_k13_53', 'tfidf_k13_54', 'tfidf_k13_55', 'tfidf_k13_56', 'tfidf_k13_57', 'tfidf_k13_58', 'tfidf_k13_59', 'tfidf_k13_60', 'tfidf_k13_61', 'tfidf_k13_62', 'tfidf_k13_63', 'tfidf_k13_64', 'tfidf_k13_65', 'tfidf_k13_66', 'tfidf_k13_67', 'tfidf_k13_68', 'tfidf_k13_69', 'tfidf_k13_70', 'tfidf_k13_71', 'tfidf_k13_72', 'tfidf_k13_73', 'tfidf_k13_74', 'tfidf_k13_75', 'tfidf_k13_76', 'tfidf_k13_77', 'tfidf_k13_78', 'tfidf_k13_79', 'tfidf_k13_80', 'tfidf_k13_81', 'tfidf_k13_82', 'tfidf_k13_83', 'tfidf_k13_84', 'tfidf_k13_85', 'tfidf_k13_86', 'tfidf_k13_87', 'tfidf_k13_88', 'tfidf_k13_89', 'tfidf_k13_90', 'tfidf_k13_91', 'tfidf_k13_92', 'tfidf_k13_93', 'tfidf_k13_94', 'tfidf_k13_95', 'tfidf_k13_96', 'tfidf_k13_97', 'tfidf_k13_98', 'tfidf_k13_99', 'tfidf_k13_100', 'tfidf_k13_101', 'tfidf_k13_102', 'tfidf_k13_103', 'tfidf_k13_104', 'tfidf_k13_105', 'tfidf_k13_106', 'tfidf_k13_107', 'tfidf_k13_108', 'tfidf_k13_109', 'tfidf_k13_110', 'tfidf_k13_111', 'tfidf_k13_112', 'tfidf_k13_113', 'tfidf_k13_114', 'tfidf_k13_115', 'tfidf_k13_116', 'tfidf_k13_117', 'tfidf_k13_118', 'tfidf_k13_119', 'tfidf_k13_120', 'tfidf_k13_121', 'tfidf_k13_122', 'tfidf_k13_123', 'tfidf_k13_124', 'tfidf_k13_125', 'tfidf_k13_126', 'tfidf_k13_127', 'tfidf_k13_128', 'tfidf_k13_129', 'tfidf_k13_130', 'tfidf_k13_131', 'tfidf_k13_132', 'tfidf_k13_133', 'tfidf_k13_134', 'tfidf_k13_135', 'tfidf_k13_136', 'tfidf_k13_137', 'tfidf_k13_138', 'tfidf_k13_139', 'tfidf_k13_140', 'tfidf_k13_141', 'tfidf_k13_142', 'tfidf_k13_143', 'tfidf_k13_144', 'tfidf_k13_145', 'tfidf_k13_146', 'tfidf_k13_147', 'tfidf_k13_148', 'tfidf_k13_149', 'tfidf_k13_150', 'tfidf_k13_151', 'tfidf_k13_152', 'tfidf_k13_153', 'tfidf_k13_154', 'tfidf_k13_155', 'tfidf_k13_156', 'tfidf_k13_157', 'tfidf_k13_158', 'tfidf_k13_159', 'tfidf_k13_160', 'tfidf_k13_161', 'tfidf_k13_162', 'tfidf_k13_163', 'tfidf_k13_164', 'tfidf_k13_165', 'tfidf_k13_166', 'tfidf_k13_167', 'tfidf_k14_0', 'tfidf_k14_1', 'tfidf_k14_2', 'tfidf_k14_3', 'tfidf_k14_4', 'tfidf_k14_5', 'tfidf_k14_6', 'tfidf_k14_7', 'tfidf_k14_8', 'tfidf_k14_9', 'tfidf_k14_10', 'tfidf_k14_11', 'tfidf_k14_12', 'tfidf_k14_13', 'tfidf_k14_14', 'tfidf_k14_15', 'tfidf_k14_16', 'tfidf_k14_17', 'tfidf_k14_18', 'tfidf_k14_19', 'tfidf_k14_20', 'tfidf_k14_21', 'tfidf_k14_22', 'tfidf_k14_23', 'tfidf_k14_24', 'tfidf_k14_25', 'tfidf_k14_26', 'tfidf_k14_27', 'tfidf_k14_28', 'tfidf_k14_29', 'tfidf_k14_30', 'tfidf_k14_31', 'tfidf_k14_32', 'tfidf_k14_33', 'tfidf_k14_34', 'tfidf_k14_35', 'tfidf_k14_36', 'tfidf_k14_37', 'tfidf_k14_38', 'tfidf_k14_39', 'tfidf_k14_40', 'tfidf_k14_41', 'tfidf_k14_42', 'tfidf_k14_43', 'tfidf_k14_44', 'tfidf_k14_45', 'tfidf_k14_46', 'tfidf_k14_47', 'tfidf_k14_48', 'tfidf_k14_49', 'tfidf_k14_50', 'tfidf_k14_51', 'tfidf_k14_52', 'tfidf_k14_53', 'tfidf_k14_54', 'tfidf_k14_55', 'tfidf_k14_56', 'tfidf_k14_57', 'tfidf_k14_58', 'tfidf_k14_59', 'tfidf_k14_60', 'tfidf_k14_61', 'tfidf_k14_62', 'tfidf_k14_63', 'tfidf_k14_64', 'tfidf_k14_65', 'tfidf_k14_66', 'tfidf_k14_67', 'tfidf_k14_68', 'tfidf_k14_69', 'tfidf_k14_70', 'tfidf_k14_71', 'tfidf_k14_72', 'tfidf_k14_73', 'tfidf_k14_74', 'tfidf_k14_75', 'tfidf_k14_76', 'tfidf_k14_77', 'tfidf_k14_78', 'tfidf_k14_79', 'tfidf_k14_80', 'tfidf_k14_81', 'tfidf_k14_82', 'tfidf_k14_83', 'tfidf_k14_84', 'tfidf_k14_85', 'tfidf_k14_86', 'tfidf_k14_87', 'tfidf_k14_88', 'tfidf_k14_89', 'tfidf_k14_90', 'tfidf_k14_91', 'tfidf_k14_92', 'tfidf_k14_93', 'tfidf_k14_94', 'tfidf_k14_95', 'tfidf_k14_96', 'tfidf_k14_97', 'tfidf_k14_98', 'tfidf_k14_99', 'tfidf_k14_100', 'tfidf_k14_101', 'tfidf_k14_102', 'tfidf_k14_103', 'tfidf_k14_104', 'tfidf_k14_105', 'tfidf_k14_106', 'tfidf_k14_107', 'tfidf_k14_108', 'tfidf_k14_109', 'tfidf_k14_110', 'tfidf_k14_111', 'tfidf_k14_112', 'tfidf_k14_113', 'tfidf_k14_114', 'tfidf_k14_115', 'tfidf_k14_116', 'tfidf_k14_117', 'tfidf_k14_118', 'tfidf_k14_119', 'tfidf_k14_120', 'tfidf_k14_121', 'tfidf_k14_122', 'tfidf_k14_123', 'tfidf_k14_124', 'tfidf_k14_125', 'tfidf_k14_126', 'tfidf_k14_127', 'tfidf_k14_128', 'tfidf_k14_129', 'tfidf_k14_130', 'tfidf_k14_131', 'tfidf_k14_132', 'tfidf_k14_133', 'tfidf_k14_134', 'tfidf_k14_135', 'tfidf_k14_136', 'tfidf_k14_137', 'tfidf_k14_138', 'tfidf_k14_139', 'tfidf_k14_140', 'tfidf_k14_141', 'tfidf_k14_142', 'tfidf_k14_143', 'tfidf_k14_144', 'tfidf_k14_145', 'tfidf_k14_146', 'tfidf_k14_147', 'tfidf_k14_148', 'tfidf_k14_149', 'tfidf_k14_150', 'tfidf_k14_151', 'tfidf_k14_152', 'tfidf_k14_153', 'tfidf_k14_154', 'tfidf_k14_155', 'tfidf_k14_156', 'tfidf_k14_157', 'tfidf_k14_158', 'tfidf_k14_159', 'tfidf_k14_160', 'tfidf_k14_161', 'tfidf_k14_162', 'tfidf_k14_163', 'tfidf_k14_164', 'tfidf_k14_165', 'tfidf_k14_166', 'tfidf_k15_0', 'tfidf_k15_1', 'tfidf_k15_2', 'tfidf_k15_3', 'tfidf_k15_4', 'tfidf_k15_5', 'tfidf_k15_6', 'tfidf_k15_7', 'tfidf_k15_8', 'tfidf_k15_9', 'tfidf_k15_10', 'tfidf_k15_11', 'tfidf_k15_12', 'tfidf_k15_13', 'tfidf_k15_14', 'tfidf_k15_15', 'tfidf_k15_16', 'tfidf_k15_17', 'tfidf_k15_18', 'tfidf_k15_19', 'tfidf_k15_20', 'tfidf_k15_21', 'tfidf_k15_22', 'tfidf_k15_23', 'tfidf_k15_24', 'tfidf_k15_25', 'tfidf_k15_26', 'tfidf_k15_27', 'tfidf_k15_28', 'tfidf_k15_29', 'tfidf_k15_30', 'tfidf_k15_31', 'tfidf_k15_32', 'tfidf_k15_33', 'tfidf_k15_34', 'tfidf_k15_35', 'tfidf_k15_36', 'tfidf_k15_37', 'tfidf_k15_38', 'tfidf_k15_39', 'tfidf_k15_40', 'tfidf_k15_41', 'tfidf_k15_42', 'tfidf_k15_43', 'tfidf_k15_44', 'tfidf_k15_45', 'tfidf_k15_46', 'tfidf_k15_47', 'tfidf_k15_48', 'tfidf_k15_49', 'tfidf_k15_50', 'tfidf_k15_51', 'tfidf_k15_52', 'tfidf_k15_53', 'tfidf_k15_54', 'tfidf_k15_55', 'tfidf_k15_56', 'tfidf_k15_57', 'tfidf_k15_58', 'tfidf_k15_59', 'tfidf_k15_60', 'tfidf_k15_61', 'tfidf_k15_62', 'tfidf_k15_63', 'tfidf_k15_64', 'tfidf_k15_65', 'tfidf_k15_66', 'tfidf_k15_67', 'tfidf_k15_68', 'tfidf_k15_69', 'tfidf_k15_70', 'tfidf_k15_71', 'tfidf_k15_72', 'tfidf_k15_73', 'tfidf_k15_74', 'tfidf_k15_75', 'tfidf_k15_76', 'tfidf_k15_77', 'tfidf_k15_78', 'tfidf_k15_79', 'tfidf_k15_80', 'tfidf_k15_81', 'tfidf_k15_82', 'tfidf_k15_83', 'tfidf_k15_84', 'tfidf_k15_85', 'tfidf_k15_86', 'tfidf_k15_87', 'tfidf_k15_88', 'tfidf_k15_89', 'tfidf_k15_90', 'tfidf_k15_91', 'tfidf_k15_92', 'tfidf_k15_93', 'tfidf_k15_94', 'tfidf_k15_95', 'tfidf_k15_96', 'tfidf_k15_97', 'tfidf_k15_98', 'tfidf_k15_99', 'tfidf_k15_100', 'tfidf_k15_101', 'tfidf_k15_102', 'tfidf_k15_103', 'tfidf_k15_104', 'tfidf_k15_105', 'tfidf_k15_106', 'tfidf_k15_107', 'tfidf_k15_108', 'tfidf_k15_109', 'tfidf_k15_110', 'tfidf_k15_111', 'tfidf_k15_112', 'tfidf_k15_113', 'tfidf_k15_114', 'tfidf_k15_115', 'tfidf_k15_116', 'tfidf_k15_117', 'tfidf_k15_118', 'tfidf_k15_119', 'tfidf_k15_120', 'tfidf_k15_121', 'tfidf_k15_122', 'tfidf_k15_123', 'tfidf_k15_124', 'tfidf_k15_125', 'tfidf_k15_126', 'tfidf_k15_127', 'tfidf_k15_128', 'tfidf_k15_129', 'tfidf_k15_130', 'tfidf_k15_131', 'tfidf_k15_132', 'tfidf_k15_133', 'tfidf_k15_134', 'tfidf_k15_135', 'tfidf_k15_136', 'tfidf_k15_137', 'tfidf_k15_138', 'tfidf_k15_139', 'tfidf_k15_140', 'tfidf_k15_141', 'tfidf_k15_142', 'tfidf_k15_143', 'tfidf_k15_144', 'tfidf_k15_145', 'tfidf_k15_146', 'tfidf_k15_147', 'tfidf_k15_148', 'tfidf_k15_149', 'tfidf_k15_150', 'tfidf_k15_151', 'tfidf_k15_152', 'tfidf_k15_153', 'tfidf_k15_154', 'tfidf_k15_155', 'tfidf_k15_156', 'tfidf_k15_157', 'tfidf_k15_158', 'tfidf_k15_159', 'tfidf_k15_160', 'tfidf_k15_161', 'tfidf_k15_162', 'tfidf_k15_163', 'tfidf_k15_164', 'tfidf_k15_165']\n"
     ]
    }
   ],
   "source": [
    "# Prepare for random = 256\n",
    "\n",
    "prepare_and_save_data(df_full.copy(), data_dir=DATA_DIR, seed=256)"
   ]
  },
  {
   "cell_type": "code",
   "execution_count": 44,
   "id": "18ff1326",
   "metadata": {
    "execution": {
     "iopub.execute_input": "2025-09-20T06:41:57.163455Z",
     "iopub.status.busy": "2025-09-20T06:41:57.163122Z",
     "iopub.status.idle": "2025-09-20T06:45:56.132417Z",
     "shell.execute_reply": "2025-09-20T06:45:56.131366Z"
    },
    "papermill": {
     "duration": 239.025742,
     "end_time": "2025-09-20T06:45:56.162370",
     "exception": false,
     "start_time": "2025-09-20T06:41:57.136628",
     "status": "completed"
    },
    "tags": []
   },
   "outputs": [
    {
     "name": "stdout",
     "output_type": "stream",
     "text": [
      "Saved into: /kaggle/working/ecoli/data/seed512\n",
      "Numeric features scaled: ['r1_start', 'r1_end', 'r1_mapq', 'r1_is_reverse', 'r2_start', 'r2_end', 'r2_mapq', 'r2_is_reverse', 'weight', 'p_val', 'z_score']\n",
      "Categorical features one-hot encoded: ['chr', 'r1_flag', 'r2_flag']\n",
      "Embedding features expanded: ['tfidf_k6_0', 'tfidf_k6_1', 'tfidf_k6_2', 'tfidf_k6_3', 'tfidf_k6_4', 'tfidf_k6_5', 'tfidf_k6_6', 'tfidf_k6_7', 'tfidf_k6_8', 'tfidf_k6_9', 'tfidf_k6_10', 'tfidf_k6_11', 'tfidf_k6_12', 'tfidf_k6_13', 'tfidf_k6_14', 'tfidf_k6_15', 'tfidf_k6_16', 'tfidf_k6_17', 'tfidf_k6_18', 'tfidf_k6_19', 'tfidf_k6_20', 'tfidf_k6_21', 'tfidf_k6_22', 'tfidf_k6_23', 'tfidf_k6_24', 'tfidf_k6_25', 'tfidf_k6_26', 'tfidf_k6_27', 'tfidf_k6_28', 'tfidf_k6_29', 'tfidf_k6_30', 'tfidf_k6_31', 'tfidf_k6_32', 'tfidf_k6_33', 'tfidf_k6_34', 'tfidf_k6_35', 'tfidf_k6_36', 'tfidf_k6_37', 'tfidf_k6_38', 'tfidf_k6_39', 'tfidf_k6_40', 'tfidf_k6_41', 'tfidf_k6_42', 'tfidf_k6_43', 'tfidf_k6_44', 'tfidf_k6_45', 'tfidf_k6_46', 'tfidf_k6_47', 'tfidf_k6_48', 'tfidf_k6_49', 'tfidf_k6_50', 'tfidf_k6_51', 'tfidf_k6_52', 'tfidf_k6_53', 'tfidf_k6_54', 'tfidf_k6_55', 'tfidf_k6_56', 'tfidf_k6_57', 'tfidf_k6_58', 'tfidf_k6_59', 'tfidf_k6_60', 'tfidf_k6_61', 'tfidf_k6_62', 'tfidf_k6_63', 'tfidf_k6_64', 'tfidf_k6_65', 'tfidf_k6_66', 'tfidf_k6_67', 'tfidf_k6_68', 'tfidf_k6_69', 'tfidf_k6_70', 'tfidf_k6_71', 'tfidf_k6_72', 'tfidf_k6_73', 'tfidf_k6_74', 'tfidf_k6_75', 'tfidf_k6_76', 'tfidf_k6_77', 'tfidf_k6_78', 'tfidf_k6_79', 'tfidf_k6_80', 'tfidf_k6_81', 'tfidf_k6_82', 'tfidf_k6_83', 'tfidf_k6_84', 'tfidf_k6_85', 'tfidf_k6_86', 'tfidf_k6_87', 'tfidf_k6_88', 'tfidf_k6_89', 'tfidf_k6_90', 'tfidf_k6_91', 'tfidf_k6_92', 'tfidf_k6_93', 'tfidf_k6_94', 'tfidf_k6_95', 'tfidf_k6_96', 'tfidf_k6_97', 'tfidf_k6_98', 'tfidf_k6_99', 'tfidf_k6_100', 'tfidf_k6_101', 'tfidf_k6_102', 'tfidf_k6_103', 'tfidf_k6_104', 'tfidf_k6_105', 'tfidf_k6_106', 'tfidf_k6_107', 'tfidf_k6_108', 'tfidf_k6_109', 'tfidf_k6_110', 'tfidf_k6_111', 'tfidf_k6_112', 'tfidf_k6_113', 'tfidf_k6_114', 'tfidf_k6_115', 'tfidf_k6_116', 'tfidf_k6_117', 'tfidf_k6_118', 'tfidf_k6_119', 'tfidf_k6_120', 'tfidf_k6_121', 'tfidf_k6_122', 'tfidf_k6_123', 'tfidf_k6_124', 'tfidf_k6_125', 'tfidf_k6_126', 'tfidf_k6_127', 'tfidf_k6_128', 'tfidf_k6_129', 'tfidf_k6_130', 'tfidf_k6_131', 'tfidf_k6_132', 'tfidf_k6_133', 'tfidf_k6_134', 'tfidf_k6_135', 'tfidf_k6_136', 'tfidf_k6_137', 'tfidf_k6_138', 'tfidf_k6_139', 'tfidf_k6_140', 'tfidf_k6_141', 'tfidf_k6_142', 'tfidf_k6_143', 'tfidf_k6_144', 'tfidf_k6_145', 'tfidf_k6_146', 'tfidf_k6_147', 'tfidf_k6_148', 'tfidf_k6_149', 'tfidf_k6_150', 'tfidf_k6_151', 'tfidf_k6_152', 'tfidf_k6_153', 'tfidf_k6_154', 'tfidf_k6_155', 'tfidf_k6_156', 'tfidf_k6_157', 'tfidf_k6_158', 'tfidf_k6_159', 'tfidf_k6_160', 'tfidf_k6_161', 'tfidf_k6_162', 'tfidf_k6_163', 'tfidf_k6_164', 'tfidf_k6_165', 'tfidf_k6_166', 'tfidf_k6_167', 'tfidf_k6_168', 'tfidf_k6_169', 'tfidf_k6_170', 'tfidf_k6_171', 'tfidf_k6_172', 'tfidf_k6_173', 'tfidf_k6_174', 'tfidf_k7_0', 'tfidf_k7_1', 'tfidf_k7_2', 'tfidf_k7_3', 'tfidf_k7_4', 'tfidf_k7_5', 'tfidf_k7_6', 'tfidf_k7_7', 'tfidf_k7_8', 'tfidf_k7_9', 'tfidf_k7_10', 'tfidf_k7_11', 'tfidf_k7_12', 'tfidf_k7_13', 'tfidf_k7_14', 'tfidf_k7_15', 'tfidf_k7_16', 'tfidf_k7_17', 'tfidf_k7_18', 'tfidf_k7_19', 'tfidf_k7_20', 'tfidf_k7_21', 'tfidf_k7_22', 'tfidf_k7_23', 'tfidf_k7_24', 'tfidf_k7_25', 'tfidf_k7_26', 'tfidf_k7_27', 'tfidf_k7_28', 'tfidf_k7_29', 'tfidf_k7_30', 'tfidf_k7_31', 'tfidf_k7_32', 'tfidf_k7_33', 'tfidf_k7_34', 'tfidf_k7_35', 'tfidf_k7_36', 'tfidf_k7_37', 'tfidf_k7_38', 'tfidf_k7_39', 'tfidf_k7_40', 'tfidf_k7_41', 'tfidf_k7_42', 'tfidf_k7_43', 'tfidf_k7_44', 'tfidf_k7_45', 'tfidf_k7_46', 'tfidf_k7_47', 'tfidf_k7_48', 'tfidf_k7_49', 'tfidf_k7_50', 'tfidf_k7_51', 'tfidf_k7_52', 'tfidf_k7_53', 'tfidf_k7_54', 'tfidf_k7_55', 'tfidf_k7_56', 'tfidf_k7_57', 'tfidf_k7_58', 'tfidf_k7_59', 'tfidf_k7_60', 'tfidf_k7_61', 'tfidf_k7_62', 'tfidf_k7_63', 'tfidf_k7_64', 'tfidf_k7_65', 'tfidf_k7_66', 'tfidf_k7_67', 'tfidf_k7_68', 'tfidf_k7_69', 'tfidf_k7_70', 'tfidf_k7_71', 'tfidf_k7_72', 'tfidf_k7_73', 'tfidf_k7_74', 'tfidf_k7_75', 'tfidf_k7_76', 'tfidf_k7_77', 'tfidf_k7_78', 'tfidf_k7_79', 'tfidf_k7_80', 'tfidf_k7_81', 'tfidf_k7_82', 'tfidf_k7_83', 'tfidf_k7_84', 'tfidf_k7_85', 'tfidf_k7_86', 'tfidf_k7_87', 'tfidf_k7_88', 'tfidf_k7_89', 'tfidf_k7_90', 'tfidf_k7_91', 'tfidf_k7_92', 'tfidf_k7_93', 'tfidf_k7_94', 'tfidf_k7_95', 'tfidf_k7_96', 'tfidf_k7_97', 'tfidf_k7_98', 'tfidf_k7_99', 'tfidf_k7_100', 'tfidf_k7_101', 'tfidf_k7_102', 'tfidf_k7_103', 'tfidf_k7_104', 'tfidf_k7_105', 'tfidf_k7_106', 'tfidf_k7_107', 'tfidf_k7_108', 'tfidf_k7_109', 'tfidf_k7_110', 'tfidf_k7_111', 'tfidf_k7_112', 'tfidf_k7_113', 'tfidf_k7_114', 'tfidf_k7_115', 'tfidf_k7_116', 'tfidf_k7_117', 'tfidf_k7_118', 'tfidf_k7_119', 'tfidf_k7_120', 'tfidf_k7_121', 'tfidf_k7_122', 'tfidf_k7_123', 'tfidf_k7_124', 'tfidf_k7_125', 'tfidf_k7_126', 'tfidf_k7_127', 'tfidf_k7_128', 'tfidf_k7_129', 'tfidf_k7_130', 'tfidf_k7_131', 'tfidf_k7_132', 'tfidf_k7_133', 'tfidf_k7_134', 'tfidf_k7_135', 'tfidf_k7_136', 'tfidf_k7_137', 'tfidf_k7_138', 'tfidf_k7_139', 'tfidf_k7_140', 'tfidf_k7_141', 'tfidf_k7_142', 'tfidf_k7_143', 'tfidf_k7_144', 'tfidf_k7_145', 'tfidf_k7_146', 'tfidf_k7_147', 'tfidf_k7_148', 'tfidf_k7_149', 'tfidf_k7_150', 'tfidf_k7_151', 'tfidf_k7_152', 'tfidf_k7_153', 'tfidf_k7_154', 'tfidf_k7_155', 'tfidf_k7_156', 'tfidf_k7_157', 'tfidf_k7_158', 'tfidf_k7_159', 'tfidf_k7_160', 'tfidf_k7_161', 'tfidf_k7_162', 'tfidf_k7_163', 'tfidf_k7_164', 'tfidf_k7_165', 'tfidf_k7_166', 'tfidf_k7_167', 'tfidf_k7_168', 'tfidf_k7_169', 'tfidf_k7_170', 'tfidf_k7_171', 'tfidf_k7_172', 'tfidf_k7_173', 'tfidf_k8_0', 'tfidf_k8_1', 'tfidf_k8_2', 'tfidf_k8_3', 'tfidf_k8_4', 'tfidf_k8_5', 'tfidf_k8_6', 'tfidf_k8_7', 'tfidf_k8_8', 'tfidf_k8_9', 'tfidf_k8_10', 'tfidf_k8_11', 'tfidf_k8_12', 'tfidf_k8_13', 'tfidf_k8_14', 'tfidf_k8_15', 'tfidf_k8_16', 'tfidf_k8_17', 'tfidf_k8_18', 'tfidf_k8_19', 'tfidf_k8_20', 'tfidf_k8_21', 'tfidf_k8_22', 'tfidf_k8_23', 'tfidf_k8_24', 'tfidf_k8_25', 'tfidf_k8_26', 'tfidf_k8_27', 'tfidf_k8_28', 'tfidf_k8_29', 'tfidf_k8_30', 'tfidf_k8_31', 'tfidf_k8_32', 'tfidf_k8_33', 'tfidf_k8_34', 'tfidf_k8_35', 'tfidf_k8_36', 'tfidf_k8_37', 'tfidf_k8_38', 'tfidf_k8_39', 'tfidf_k8_40', 'tfidf_k8_41', 'tfidf_k8_42', 'tfidf_k8_43', 'tfidf_k8_44', 'tfidf_k8_45', 'tfidf_k8_46', 'tfidf_k8_47', 'tfidf_k8_48', 'tfidf_k8_49', 'tfidf_k8_50', 'tfidf_k8_51', 'tfidf_k8_52', 'tfidf_k8_53', 'tfidf_k8_54', 'tfidf_k8_55', 'tfidf_k8_56', 'tfidf_k8_57', 'tfidf_k8_58', 'tfidf_k8_59', 'tfidf_k8_60', 'tfidf_k8_61', 'tfidf_k8_62', 'tfidf_k8_63', 'tfidf_k8_64', 'tfidf_k8_65', 'tfidf_k8_66', 'tfidf_k8_67', 'tfidf_k8_68', 'tfidf_k8_69', 'tfidf_k8_70', 'tfidf_k8_71', 'tfidf_k8_72', 'tfidf_k8_73', 'tfidf_k8_74', 'tfidf_k8_75', 'tfidf_k8_76', 'tfidf_k8_77', 'tfidf_k8_78', 'tfidf_k8_79', 'tfidf_k8_80', 'tfidf_k8_81', 'tfidf_k8_82', 'tfidf_k8_83', 'tfidf_k8_84', 'tfidf_k8_85', 'tfidf_k8_86', 'tfidf_k8_87', 'tfidf_k8_88', 'tfidf_k8_89', 'tfidf_k8_90', 'tfidf_k8_91', 'tfidf_k8_92', 'tfidf_k8_93', 'tfidf_k8_94', 'tfidf_k8_95', 'tfidf_k8_96', 'tfidf_k8_97', 'tfidf_k8_98', 'tfidf_k8_99', 'tfidf_k8_100', 'tfidf_k8_101', 'tfidf_k8_102', 'tfidf_k8_103', 'tfidf_k8_104', 'tfidf_k8_105', 'tfidf_k8_106', 'tfidf_k8_107', 'tfidf_k8_108', 'tfidf_k8_109', 'tfidf_k8_110', 'tfidf_k8_111', 'tfidf_k8_112', 'tfidf_k8_113', 'tfidf_k8_114', 'tfidf_k8_115', 'tfidf_k8_116', 'tfidf_k8_117', 'tfidf_k8_118', 'tfidf_k8_119', 'tfidf_k8_120', 'tfidf_k8_121', 'tfidf_k8_122', 'tfidf_k8_123', 'tfidf_k8_124', 'tfidf_k8_125', 'tfidf_k8_126', 'tfidf_k8_127', 'tfidf_k8_128', 'tfidf_k8_129', 'tfidf_k8_130', 'tfidf_k8_131', 'tfidf_k8_132', 'tfidf_k8_133', 'tfidf_k8_134', 'tfidf_k8_135', 'tfidf_k8_136', 'tfidf_k8_137', 'tfidf_k8_138', 'tfidf_k8_139', 'tfidf_k8_140', 'tfidf_k8_141', 'tfidf_k8_142', 'tfidf_k8_143', 'tfidf_k8_144', 'tfidf_k8_145', 'tfidf_k8_146', 'tfidf_k8_147', 'tfidf_k8_148', 'tfidf_k8_149', 'tfidf_k8_150', 'tfidf_k8_151', 'tfidf_k8_152', 'tfidf_k8_153', 'tfidf_k8_154', 'tfidf_k8_155', 'tfidf_k8_156', 'tfidf_k8_157', 'tfidf_k8_158', 'tfidf_k8_159', 'tfidf_k8_160', 'tfidf_k8_161', 'tfidf_k8_162', 'tfidf_k8_163', 'tfidf_k8_164', 'tfidf_k8_165', 'tfidf_k8_166', 'tfidf_k8_167', 'tfidf_k8_168', 'tfidf_k8_169', 'tfidf_k8_170', 'tfidf_k8_171', 'tfidf_k8_172', 'tfidf_k9_0', 'tfidf_k9_1', 'tfidf_k9_2', 'tfidf_k9_3', 'tfidf_k9_4', 'tfidf_k9_5', 'tfidf_k9_6', 'tfidf_k9_7', 'tfidf_k9_8', 'tfidf_k9_9', 'tfidf_k9_10', 'tfidf_k9_11', 'tfidf_k9_12', 'tfidf_k9_13', 'tfidf_k9_14', 'tfidf_k9_15', 'tfidf_k9_16', 'tfidf_k9_17', 'tfidf_k9_18', 'tfidf_k9_19', 'tfidf_k9_20', 'tfidf_k9_21', 'tfidf_k9_22', 'tfidf_k9_23', 'tfidf_k9_24', 'tfidf_k9_25', 'tfidf_k9_26', 'tfidf_k9_27', 'tfidf_k9_28', 'tfidf_k9_29', 'tfidf_k9_30', 'tfidf_k9_31', 'tfidf_k9_32', 'tfidf_k9_33', 'tfidf_k9_34', 'tfidf_k9_35', 'tfidf_k9_36', 'tfidf_k9_37', 'tfidf_k9_38', 'tfidf_k9_39', 'tfidf_k9_40', 'tfidf_k9_41', 'tfidf_k9_42', 'tfidf_k9_43', 'tfidf_k9_44', 'tfidf_k9_45', 'tfidf_k9_46', 'tfidf_k9_47', 'tfidf_k9_48', 'tfidf_k9_49', 'tfidf_k9_50', 'tfidf_k9_51', 'tfidf_k9_52', 'tfidf_k9_53', 'tfidf_k9_54', 'tfidf_k9_55', 'tfidf_k9_56', 'tfidf_k9_57', 'tfidf_k9_58', 'tfidf_k9_59', 'tfidf_k9_60', 'tfidf_k9_61', 'tfidf_k9_62', 'tfidf_k9_63', 'tfidf_k9_64', 'tfidf_k9_65', 'tfidf_k9_66', 'tfidf_k9_67', 'tfidf_k9_68', 'tfidf_k9_69', 'tfidf_k9_70', 'tfidf_k9_71', 'tfidf_k9_72', 'tfidf_k9_73', 'tfidf_k9_74', 'tfidf_k9_75', 'tfidf_k9_76', 'tfidf_k9_77', 'tfidf_k9_78', 'tfidf_k9_79', 'tfidf_k9_80', 'tfidf_k9_81', 'tfidf_k9_82', 'tfidf_k9_83', 'tfidf_k9_84', 'tfidf_k9_85', 'tfidf_k9_86', 'tfidf_k9_87', 'tfidf_k9_88', 'tfidf_k9_89', 'tfidf_k9_90', 'tfidf_k9_91', 'tfidf_k9_92', 'tfidf_k9_93', 'tfidf_k9_94', 'tfidf_k9_95', 'tfidf_k9_96', 'tfidf_k9_97', 'tfidf_k9_98', 'tfidf_k9_99', 'tfidf_k9_100', 'tfidf_k9_101', 'tfidf_k9_102', 'tfidf_k9_103', 'tfidf_k9_104', 'tfidf_k9_105', 'tfidf_k9_106', 'tfidf_k9_107', 'tfidf_k9_108', 'tfidf_k9_109', 'tfidf_k9_110', 'tfidf_k9_111', 'tfidf_k9_112', 'tfidf_k9_113', 'tfidf_k9_114', 'tfidf_k9_115', 'tfidf_k9_116', 'tfidf_k9_117', 'tfidf_k9_118', 'tfidf_k9_119', 'tfidf_k9_120', 'tfidf_k9_121', 'tfidf_k9_122', 'tfidf_k9_123', 'tfidf_k9_124', 'tfidf_k9_125', 'tfidf_k9_126', 'tfidf_k9_127', 'tfidf_k9_128', 'tfidf_k9_129', 'tfidf_k9_130', 'tfidf_k9_131', 'tfidf_k9_132', 'tfidf_k9_133', 'tfidf_k9_134', 'tfidf_k9_135', 'tfidf_k9_136', 'tfidf_k9_137', 'tfidf_k9_138', 'tfidf_k9_139', 'tfidf_k9_140', 'tfidf_k9_141', 'tfidf_k9_142', 'tfidf_k9_143', 'tfidf_k9_144', 'tfidf_k9_145', 'tfidf_k9_146', 'tfidf_k9_147', 'tfidf_k9_148', 'tfidf_k9_149', 'tfidf_k9_150', 'tfidf_k9_151', 'tfidf_k9_152', 'tfidf_k9_153', 'tfidf_k9_154', 'tfidf_k9_155', 'tfidf_k9_156', 'tfidf_k9_157', 'tfidf_k9_158', 'tfidf_k9_159', 'tfidf_k9_160', 'tfidf_k9_161', 'tfidf_k9_162', 'tfidf_k9_163', 'tfidf_k9_164', 'tfidf_k9_165', 'tfidf_k9_166', 'tfidf_k9_167', 'tfidf_k9_168', 'tfidf_k9_169', 'tfidf_k9_170', 'tfidf_k9_171', 'tfidf_k10_0', 'tfidf_k10_1', 'tfidf_k10_2', 'tfidf_k10_3', 'tfidf_k10_4', 'tfidf_k10_5', 'tfidf_k10_6', 'tfidf_k10_7', 'tfidf_k10_8', 'tfidf_k10_9', 'tfidf_k10_10', 'tfidf_k10_11', 'tfidf_k10_12', 'tfidf_k10_13', 'tfidf_k10_14', 'tfidf_k10_15', 'tfidf_k10_16', 'tfidf_k10_17', 'tfidf_k10_18', 'tfidf_k10_19', 'tfidf_k10_20', 'tfidf_k10_21', 'tfidf_k10_22', 'tfidf_k10_23', 'tfidf_k10_24', 'tfidf_k10_25', 'tfidf_k10_26', 'tfidf_k10_27', 'tfidf_k10_28', 'tfidf_k10_29', 'tfidf_k10_30', 'tfidf_k10_31', 'tfidf_k10_32', 'tfidf_k10_33', 'tfidf_k10_34', 'tfidf_k10_35', 'tfidf_k10_36', 'tfidf_k10_37', 'tfidf_k10_38', 'tfidf_k10_39', 'tfidf_k10_40', 'tfidf_k10_41', 'tfidf_k10_42', 'tfidf_k10_43', 'tfidf_k10_44', 'tfidf_k10_45', 'tfidf_k10_46', 'tfidf_k10_47', 'tfidf_k10_48', 'tfidf_k10_49', 'tfidf_k10_50', 'tfidf_k10_51', 'tfidf_k10_52', 'tfidf_k10_53', 'tfidf_k10_54', 'tfidf_k10_55', 'tfidf_k10_56', 'tfidf_k10_57', 'tfidf_k10_58', 'tfidf_k10_59', 'tfidf_k10_60', 'tfidf_k10_61', 'tfidf_k10_62', 'tfidf_k10_63', 'tfidf_k10_64', 'tfidf_k10_65', 'tfidf_k10_66', 'tfidf_k10_67', 'tfidf_k10_68', 'tfidf_k10_69', 'tfidf_k10_70', 'tfidf_k10_71', 'tfidf_k10_72', 'tfidf_k10_73', 'tfidf_k10_74', 'tfidf_k10_75', 'tfidf_k10_76', 'tfidf_k10_77', 'tfidf_k10_78', 'tfidf_k10_79', 'tfidf_k10_80', 'tfidf_k10_81', 'tfidf_k10_82', 'tfidf_k10_83', 'tfidf_k10_84', 'tfidf_k10_85', 'tfidf_k10_86', 'tfidf_k10_87', 'tfidf_k10_88', 'tfidf_k10_89', 'tfidf_k10_90', 'tfidf_k10_91', 'tfidf_k10_92', 'tfidf_k10_93', 'tfidf_k10_94', 'tfidf_k10_95', 'tfidf_k10_96', 'tfidf_k10_97', 'tfidf_k10_98', 'tfidf_k10_99', 'tfidf_k10_100', 'tfidf_k10_101', 'tfidf_k10_102', 'tfidf_k10_103', 'tfidf_k10_104', 'tfidf_k10_105', 'tfidf_k10_106', 'tfidf_k10_107', 'tfidf_k10_108', 'tfidf_k10_109', 'tfidf_k10_110', 'tfidf_k10_111', 'tfidf_k10_112', 'tfidf_k10_113', 'tfidf_k10_114', 'tfidf_k10_115', 'tfidf_k10_116', 'tfidf_k10_117', 'tfidf_k10_118', 'tfidf_k10_119', 'tfidf_k10_120', 'tfidf_k10_121', 'tfidf_k10_122', 'tfidf_k10_123', 'tfidf_k10_124', 'tfidf_k10_125', 'tfidf_k10_126', 'tfidf_k10_127', 'tfidf_k10_128', 'tfidf_k10_129', 'tfidf_k10_130', 'tfidf_k10_131', 'tfidf_k10_132', 'tfidf_k10_133', 'tfidf_k10_134', 'tfidf_k10_135', 'tfidf_k10_136', 'tfidf_k10_137', 'tfidf_k10_138', 'tfidf_k10_139', 'tfidf_k10_140', 'tfidf_k10_141', 'tfidf_k10_142', 'tfidf_k10_143', 'tfidf_k10_144', 'tfidf_k10_145', 'tfidf_k10_146', 'tfidf_k10_147', 'tfidf_k10_148', 'tfidf_k10_149', 'tfidf_k10_150', 'tfidf_k10_151', 'tfidf_k10_152', 'tfidf_k10_153', 'tfidf_k10_154', 'tfidf_k10_155', 'tfidf_k10_156', 'tfidf_k10_157', 'tfidf_k10_158', 'tfidf_k10_159', 'tfidf_k10_160', 'tfidf_k10_161', 'tfidf_k10_162', 'tfidf_k10_163', 'tfidf_k10_164', 'tfidf_k10_165', 'tfidf_k10_166', 'tfidf_k10_167', 'tfidf_k10_168', 'tfidf_k10_169', 'tfidf_k10_170', 'tfidf_k11_0', 'tfidf_k11_1', 'tfidf_k11_2', 'tfidf_k11_3', 'tfidf_k11_4', 'tfidf_k11_5', 'tfidf_k11_6', 'tfidf_k11_7', 'tfidf_k11_8', 'tfidf_k11_9', 'tfidf_k11_10', 'tfidf_k11_11', 'tfidf_k11_12', 'tfidf_k11_13', 'tfidf_k11_14', 'tfidf_k11_15', 'tfidf_k11_16', 'tfidf_k11_17', 'tfidf_k11_18', 'tfidf_k11_19', 'tfidf_k11_20', 'tfidf_k11_21', 'tfidf_k11_22', 'tfidf_k11_23', 'tfidf_k11_24', 'tfidf_k11_25', 'tfidf_k11_26', 'tfidf_k11_27', 'tfidf_k11_28', 'tfidf_k11_29', 'tfidf_k11_30', 'tfidf_k11_31', 'tfidf_k11_32', 'tfidf_k11_33', 'tfidf_k11_34', 'tfidf_k11_35', 'tfidf_k11_36', 'tfidf_k11_37', 'tfidf_k11_38', 'tfidf_k11_39', 'tfidf_k11_40', 'tfidf_k11_41', 'tfidf_k11_42', 'tfidf_k11_43', 'tfidf_k11_44', 'tfidf_k11_45', 'tfidf_k11_46', 'tfidf_k11_47', 'tfidf_k11_48', 'tfidf_k11_49', 'tfidf_k11_50', 'tfidf_k11_51', 'tfidf_k11_52', 'tfidf_k11_53', 'tfidf_k11_54', 'tfidf_k11_55', 'tfidf_k11_56', 'tfidf_k11_57', 'tfidf_k11_58', 'tfidf_k11_59', 'tfidf_k11_60', 'tfidf_k11_61', 'tfidf_k11_62', 'tfidf_k11_63', 'tfidf_k11_64', 'tfidf_k11_65', 'tfidf_k11_66', 'tfidf_k11_67', 'tfidf_k11_68', 'tfidf_k11_69', 'tfidf_k11_70', 'tfidf_k11_71', 'tfidf_k11_72', 'tfidf_k11_73', 'tfidf_k11_74', 'tfidf_k11_75', 'tfidf_k11_76', 'tfidf_k11_77', 'tfidf_k11_78', 'tfidf_k11_79', 'tfidf_k11_80', 'tfidf_k11_81', 'tfidf_k11_82', 'tfidf_k11_83', 'tfidf_k11_84', 'tfidf_k11_85', 'tfidf_k11_86', 'tfidf_k11_87', 'tfidf_k11_88', 'tfidf_k11_89', 'tfidf_k11_90', 'tfidf_k11_91', 'tfidf_k11_92', 'tfidf_k11_93', 'tfidf_k11_94', 'tfidf_k11_95', 'tfidf_k11_96', 'tfidf_k11_97', 'tfidf_k11_98', 'tfidf_k11_99', 'tfidf_k11_100', 'tfidf_k11_101', 'tfidf_k11_102', 'tfidf_k11_103', 'tfidf_k11_104', 'tfidf_k11_105', 'tfidf_k11_106', 'tfidf_k11_107', 'tfidf_k11_108', 'tfidf_k11_109', 'tfidf_k11_110', 'tfidf_k11_111', 'tfidf_k11_112', 'tfidf_k11_113', 'tfidf_k11_114', 'tfidf_k11_115', 'tfidf_k11_116', 'tfidf_k11_117', 'tfidf_k11_118', 'tfidf_k11_119', 'tfidf_k11_120', 'tfidf_k11_121', 'tfidf_k11_122', 'tfidf_k11_123', 'tfidf_k11_124', 'tfidf_k11_125', 'tfidf_k11_126', 'tfidf_k11_127', 'tfidf_k11_128', 'tfidf_k11_129', 'tfidf_k11_130', 'tfidf_k11_131', 'tfidf_k11_132', 'tfidf_k11_133', 'tfidf_k11_134', 'tfidf_k11_135', 'tfidf_k11_136', 'tfidf_k11_137', 'tfidf_k11_138', 'tfidf_k11_139', 'tfidf_k11_140', 'tfidf_k11_141', 'tfidf_k11_142', 'tfidf_k11_143', 'tfidf_k11_144', 'tfidf_k11_145', 'tfidf_k11_146', 'tfidf_k11_147', 'tfidf_k11_148', 'tfidf_k11_149', 'tfidf_k11_150', 'tfidf_k11_151', 'tfidf_k11_152', 'tfidf_k11_153', 'tfidf_k11_154', 'tfidf_k11_155', 'tfidf_k11_156', 'tfidf_k11_157', 'tfidf_k11_158', 'tfidf_k11_159', 'tfidf_k11_160', 'tfidf_k11_161', 'tfidf_k11_162', 'tfidf_k11_163', 'tfidf_k11_164', 'tfidf_k11_165', 'tfidf_k11_166', 'tfidf_k11_167', 'tfidf_k11_168', 'tfidf_k11_169', 'tfidf_k12_0', 'tfidf_k12_1', 'tfidf_k12_2', 'tfidf_k12_3', 'tfidf_k12_4', 'tfidf_k12_5', 'tfidf_k12_6', 'tfidf_k12_7', 'tfidf_k12_8', 'tfidf_k12_9', 'tfidf_k12_10', 'tfidf_k12_11', 'tfidf_k12_12', 'tfidf_k12_13', 'tfidf_k12_14', 'tfidf_k12_15', 'tfidf_k12_16', 'tfidf_k12_17', 'tfidf_k12_18', 'tfidf_k12_19', 'tfidf_k12_20', 'tfidf_k12_21', 'tfidf_k12_22', 'tfidf_k12_23', 'tfidf_k12_24', 'tfidf_k12_25', 'tfidf_k12_26', 'tfidf_k12_27', 'tfidf_k12_28', 'tfidf_k12_29', 'tfidf_k12_30', 'tfidf_k12_31', 'tfidf_k12_32', 'tfidf_k12_33', 'tfidf_k12_34', 'tfidf_k12_35', 'tfidf_k12_36', 'tfidf_k12_37', 'tfidf_k12_38', 'tfidf_k12_39', 'tfidf_k12_40', 'tfidf_k12_41', 'tfidf_k12_42', 'tfidf_k12_43', 'tfidf_k12_44', 'tfidf_k12_45', 'tfidf_k12_46', 'tfidf_k12_47', 'tfidf_k12_48', 'tfidf_k12_49', 'tfidf_k12_50', 'tfidf_k12_51', 'tfidf_k12_52', 'tfidf_k12_53', 'tfidf_k12_54', 'tfidf_k12_55', 'tfidf_k12_56', 'tfidf_k12_57', 'tfidf_k12_58', 'tfidf_k12_59', 'tfidf_k12_60', 'tfidf_k12_61', 'tfidf_k12_62', 'tfidf_k12_63', 'tfidf_k12_64', 'tfidf_k12_65', 'tfidf_k12_66', 'tfidf_k12_67', 'tfidf_k12_68', 'tfidf_k12_69', 'tfidf_k12_70', 'tfidf_k12_71', 'tfidf_k12_72', 'tfidf_k12_73', 'tfidf_k12_74', 'tfidf_k12_75', 'tfidf_k12_76', 'tfidf_k12_77', 'tfidf_k12_78', 'tfidf_k12_79', 'tfidf_k12_80', 'tfidf_k12_81', 'tfidf_k12_82', 'tfidf_k12_83', 'tfidf_k12_84', 'tfidf_k12_85', 'tfidf_k12_86', 'tfidf_k12_87', 'tfidf_k12_88', 'tfidf_k12_89', 'tfidf_k12_90', 'tfidf_k12_91', 'tfidf_k12_92', 'tfidf_k12_93', 'tfidf_k12_94', 'tfidf_k12_95', 'tfidf_k12_96', 'tfidf_k12_97', 'tfidf_k12_98', 'tfidf_k12_99', 'tfidf_k12_100', 'tfidf_k12_101', 'tfidf_k12_102', 'tfidf_k12_103', 'tfidf_k12_104', 'tfidf_k12_105', 'tfidf_k12_106', 'tfidf_k12_107', 'tfidf_k12_108', 'tfidf_k12_109', 'tfidf_k12_110', 'tfidf_k12_111', 'tfidf_k12_112', 'tfidf_k12_113', 'tfidf_k12_114', 'tfidf_k12_115', 'tfidf_k12_116', 'tfidf_k12_117', 'tfidf_k12_118', 'tfidf_k12_119', 'tfidf_k12_120', 'tfidf_k12_121', 'tfidf_k12_122', 'tfidf_k12_123', 'tfidf_k12_124', 'tfidf_k12_125', 'tfidf_k12_126', 'tfidf_k12_127', 'tfidf_k12_128', 'tfidf_k12_129', 'tfidf_k12_130', 'tfidf_k12_131', 'tfidf_k12_132', 'tfidf_k12_133', 'tfidf_k12_134', 'tfidf_k12_135', 'tfidf_k12_136', 'tfidf_k12_137', 'tfidf_k12_138', 'tfidf_k12_139', 'tfidf_k12_140', 'tfidf_k12_141', 'tfidf_k12_142', 'tfidf_k12_143', 'tfidf_k12_144', 'tfidf_k12_145', 'tfidf_k12_146', 'tfidf_k12_147', 'tfidf_k12_148', 'tfidf_k12_149', 'tfidf_k12_150', 'tfidf_k12_151', 'tfidf_k12_152', 'tfidf_k12_153', 'tfidf_k12_154', 'tfidf_k12_155', 'tfidf_k12_156', 'tfidf_k12_157', 'tfidf_k12_158', 'tfidf_k12_159', 'tfidf_k12_160', 'tfidf_k12_161', 'tfidf_k12_162', 'tfidf_k12_163', 'tfidf_k12_164', 'tfidf_k12_165', 'tfidf_k12_166', 'tfidf_k12_167', 'tfidf_k12_168', 'tfidf_k13_0', 'tfidf_k13_1', 'tfidf_k13_2', 'tfidf_k13_3', 'tfidf_k13_4', 'tfidf_k13_5', 'tfidf_k13_6', 'tfidf_k13_7', 'tfidf_k13_8', 'tfidf_k13_9', 'tfidf_k13_10', 'tfidf_k13_11', 'tfidf_k13_12', 'tfidf_k13_13', 'tfidf_k13_14', 'tfidf_k13_15', 'tfidf_k13_16', 'tfidf_k13_17', 'tfidf_k13_18', 'tfidf_k13_19', 'tfidf_k13_20', 'tfidf_k13_21', 'tfidf_k13_22', 'tfidf_k13_23', 'tfidf_k13_24', 'tfidf_k13_25', 'tfidf_k13_26', 'tfidf_k13_27', 'tfidf_k13_28', 'tfidf_k13_29', 'tfidf_k13_30', 'tfidf_k13_31', 'tfidf_k13_32', 'tfidf_k13_33', 'tfidf_k13_34', 'tfidf_k13_35', 'tfidf_k13_36', 'tfidf_k13_37', 'tfidf_k13_38', 'tfidf_k13_39', 'tfidf_k13_40', 'tfidf_k13_41', 'tfidf_k13_42', 'tfidf_k13_43', 'tfidf_k13_44', 'tfidf_k13_45', 'tfidf_k13_46', 'tfidf_k13_47', 'tfidf_k13_48', 'tfidf_k13_49', 'tfidf_k13_50', 'tfidf_k13_51', 'tfidf_k13_52', 'tfidf_k13_53', 'tfidf_k13_54', 'tfidf_k13_55', 'tfidf_k13_56', 'tfidf_k13_57', 'tfidf_k13_58', 'tfidf_k13_59', 'tfidf_k13_60', 'tfidf_k13_61', 'tfidf_k13_62', 'tfidf_k13_63', 'tfidf_k13_64', 'tfidf_k13_65', 'tfidf_k13_66', 'tfidf_k13_67', 'tfidf_k13_68', 'tfidf_k13_69', 'tfidf_k13_70', 'tfidf_k13_71', 'tfidf_k13_72', 'tfidf_k13_73', 'tfidf_k13_74', 'tfidf_k13_75', 'tfidf_k13_76', 'tfidf_k13_77', 'tfidf_k13_78', 'tfidf_k13_79', 'tfidf_k13_80', 'tfidf_k13_81', 'tfidf_k13_82', 'tfidf_k13_83', 'tfidf_k13_84', 'tfidf_k13_85', 'tfidf_k13_86', 'tfidf_k13_87', 'tfidf_k13_88', 'tfidf_k13_89', 'tfidf_k13_90', 'tfidf_k13_91', 'tfidf_k13_92', 'tfidf_k13_93', 'tfidf_k13_94', 'tfidf_k13_95', 'tfidf_k13_96', 'tfidf_k13_97', 'tfidf_k13_98', 'tfidf_k13_99', 'tfidf_k13_100', 'tfidf_k13_101', 'tfidf_k13_102', 'tfidf_k13_103', 'tfidf_k13_104', 'tfidf_k13_105', 'tfidf_k13_106', 'tfidf_k13_107', 'tfidf_k13_108', 'tfidf_k13_109', 'tfidf_k13_110', 'tfidf_k13_111', 'tfidf_k13_112', 'tfidf_k13_113', 'tfidf_k13_114', 'tfidf_k13_115', 'tfidf_k13_116', 'tfidf_k13_117', 'tfidf_k13_118', 'tfidf_k13_119', 'tfidf_k13_120', 'tfidf_k13_121', 'tfidf_k13_122', 'tfidf_k13_123', 'tfidf_k13_124', 'tfidf_k13_125', 'tfidf_k13_126', 'tfidf_k13_127', 'tfidf_k13_128', 'tfidf_k13_129', 'tfidf_k13_130', 'tfidf_k13_131', 'tfidf_k13_132', 'tfidf_k13_133', 'tfidf_k13_134', 'tfidf_k13_135', 'tfidf_k13_136', 'tfidf_k13_137', 'tfidf_k13_138', 'tfidf_k13_139', 'tfidf_k13_140', 'tfidf_k13_141', 'tfidf_k13_142', 'tfidf_k13_143', 'tfidf_k13_144', 'tfidf_k13_145', 'tfidf_k13_146', 'tfidf_k13_147', 'tfidf_k13_148', 'tfidf_k13_149', 'tfidf_k13_150', 'tfidf_k13_151', 'tfidf_k13_152', 'tfidf_k13_153', 'tfidf_k13_154', 'tfidf_k13_155', 'tfidf_k13_156', 'tfidf_k13_157', 'tfidf_k13_158', 'tfidf_k13_159', 'tfidf_k13_160', 'tfidf_k13_161', 'tfidf_k13_162', 'tfidf_k13_163', 'tfidf_k13_164', 'tfidf_k13_165', 'tfidf_k13_166', 'tfidf_k13_167', 'tfidf_k14_0', 'tfidf_k14_1', 'tfidf_k14_2', 'tfidf_k14_3', 'tfidf_k14_4', 'tfidf_k14_5', 'tfidf_k14_6', 'tfidf_k14_7', 'tfidf_k14_8', 'tfidf_k14_9', 'tfidf_k14_10', 'tfidf_k14_11', 'tfidf_k14_12', 'tfidf_k14_13', 'tfidf_k14_14', 'tfidf_k14_15', 'tfidf_k14_16', 'tfidf_k14_17', 'tfidf_k14_18', 'tfidf_k14_19', 'tfidf_k14_20', 'tfidf_k14_21', 'tfidf_k14_22', 'tfidf_k14_23', 'tfidf_k14_24', 'tfidf_k14_25', 'tfidf_k14_26', 'tfidf_k14_27', 'tfidf_k14_28', 'tfidf_k14_29', 'tfidf_k14_30', 'tfidf_k14_31', 'tfidf_k14_32', 'tfidf_k14_33', 'tfidf_k14_34', 'tfidf_k14_35', 'tfidf_k14_36', 'tfidf_k14_37', 'tfidf_k14_38', 'tfidf_k14_39', 'tfidf_k14_40', 'tfidf_k14_41', 'tfidf_k14_42', 'tfidf_k14_43', 'tfidf_k14_44', 'tfidf_k14_45', 'tfidf_k14_46', 'tfidf_k14_47', 'tfidf_k14_48', 'tfidf_k14_49', 'tfidf_k14_50', 'tfidf_k14_51', 'tfidf_k14_52', 'tfidf_k14_53', 'tfidf_k14_54', 'tfidf_k14_55', 'tfidf_k14_56', 'tfidf_k14_57', 'tfidf_k14_58', 'tfidf_k14_59', 'tfidf_k14_60', 'tfidf_k14_61', 'tfidf_k14_62', 'tfidf_k14_63', 'tfidf_k14_64', 'tfidf_k14_65', 'tfidf_k14_66', 'tfidf_k14_67', 'tfidf_k14_68', 'tfidf_k14_69', 'tfidf_k14_70', 'tfidf_k14_71', 'tfidf_k14_72', 'tfidf_k14_73', 'tfidf_k14_74', 'tfidf_k14_75', 'tfidf_k14_76', 'tfidf_k14_77', 'tfidf_k14_78', 'tfidf_k14_79', 'tfidf_k14_80', 'tfidf_k14_81', 'tfidf_k14_82', 'tfidf_k14_83', 'tfidf_k14_84', 'tfidf_k14_85', 'tfidf_k14_86', 'tfidf_k14_87', 'tfidf_k14_88', 'tfidf_k14_89', 'tfidf_k14_90', 'tfidf_k14_91', 'tfidf_k14_92', 'tfidf_k14_93', 'tfidf_k14_94', 'tfidf_k14_95', 'tfidf_k14_96', 'tfidf_k14_97', 'tfidf_k14_98', 'tfidf_k14_99', 'tfidf_k14_100', 'tfidf_k14_101', 'tfidf_k14_102', 'tfidf_k14_103', 'tfidf_k14_104', 'tfidf_k14_105', 'tfidf_k14_106', 'tfidf_k14_107', 'tfidf_k14_108', 'tfidf_k14_109', 'tfidf_k14_110', 'tfidf_k14_111', 'tfidf_k14_112', 'tfidf_k14_113', 'tfidf_k14_114', 'tfidf_k14_115', 'tfidf_k14_116', 'tfidf_k14_117', 'tfidf_k14_118', 'tfidf_k14_119', 'tfidf_k14_120', 'tfidf_k14_121', 'tfidf_k14_122', 'tfidf_k14_123', 'tfidf_k14_124', 'tfidf_k14_125', 'tfidf_k14_126', 'tfidf_k14_127', 'tfidf_k14_128', 'tfidf_k14_129', 'tfidf_k14_130', 'tfidf_k14_131', 'tfidf_k14_132', 'tfidf_k14_133', 'tfidf_k14_134', 'tfidf_k14_135', 'tfidf_k14_136', 'tfidf_k14_137', 'tfidf_k14_138', 'tfidf_k14_139', 'tfidf_k14_140', 'tfidf_k14_141', 'tfidf_k14_142', 'tfidf_k14_143', 'tfidf_k14_144', 'tfidf_k14_145', 'tfidf_k14_146', 'tfidf_k14_147', 'tfidf_k14_148', 'tfidf_k14_149', 'tfidf_k14_150', 'tfidf_k14_151', 'tfidf_k14_152', 'tfidf_k14_153', 'tfidf_k14_154', 'tfidf_k14_155', 'tfidf_k14_156', 'tfidf_k14_157', 'tfidf_k14_158', 'tfidf_k14_159', 'tfidf_k14_160', 'tfidf_k14_161', 'tfidf_k14_162', 'tfidf_k14_163', 'tfidf_k14_164', 'tfidf_k14_165', 'tfidf_k14_166', 'tfidf_k15_0', 'tfidf_k15_1', 'tfidf_k15_2', 'tfidf_k15_3', 'tfidf_k15_4', 'tfidf_k15_5', 'tfidf_k15_6', 'tfidf_k15_7', 'tfidf_k15_8', 'tfidf_k15_9', 'tfidf_k15_10', 'tfidf_k15_11', 'tfidf_k15_12', 'tfidf_k15_13', 'tfidf_k15_14', 'tfidf_k15_15', 'tfidf_k15_16', 'tfidf_k15_17', 'tfidf_k15_18', 'tfidf_k15_19', 'tfidf_k15_20', 'tfidf_k15_21', 'tfidf_k15_22', 'tfidf_k15_23', 'tfidf_k15_24', 'tfidf_k15_25', 'tfidf_k15_26', 'tfidf_k15_27', 'tfidf_k15_28', 'tfidf_k15_29', 'tfidf_k15_30', 'tfidf_k15_31', 'tfidf_k15_32', 'tfidf_k15_33', 'tfidf_k15_34', 'tfidf_k15_35', 'tfidf_k15_36', 'tfidf_k15_37', 'tfidf_k15_38', 'tfidf_k15_39', 'tfidf_k15_40', 'tfidf_k15_41', 'tfidf_k15_42', 'tfidf_k15_43', 'tfidf_k15_44', 'tfidf_k15_45', 'tfidf_k15_46', 'tfidf_k15_47', 'tfidf_k15_48', 'tfidf_k15_49', 'tfidf_k15_50', 'tfidf_k15_51', 'tfidf_k15_52', 'tfidf_k15_53', 'tfidf_k15_54', 'tfidf_k15_55', 'tfidf_k15_56', 'tfidf_k15_57', 'tfidf_k15_58', 'tfidf_k15_59', 'tfidf_k15_60', 'tfidf_k15_61', 'tfidf_k15_62', 'tfidf_k15_63', 'tfidf_k15_64', 'tfidf_k15_65', 'tfidf_k15_66', 'tfidf_k15_67', 'tfidf_k15_68', 'tfidf_k15_69', 'tfidf_k15_70', 'tfidf_k15_71', 'tfidf_k15_72', 'tfidf_k15_73', 'tfidf_k15_74', 'tfidf_k15_75', 'tfidf_k15_76', 'tfidf_k15_77', 'tfidf_k15_78', 'tfidf_k15_79', 'tfidf_k15_80', 'tfidf_k15_81', 'tfidf_k15_82', 'tfidf_k15_83', 'tfidf_k15_84', 'tfidf_k15_85', 'tfidf_k15_86', 'tfidf_k15_87', 'tfidf_k15_88', 'tfidf_k15_89', 'tfidf_k15_90', 'tfidf_k15_91', 'tfidf_k15_92', 'tfidf_k15_93', 'tfidf_k15_94', 'tfidf_k15_95', 'tfidf_k15_96', 'tfidf_k15_97', 'tfidf_k15_98', 'tfidf_k15_99', 'tfidf_k15_100', 'tfidf_k15_101', 'tfidf_k15_102', 'tfidf_k15_103', 'tfidf_k15_104', 'tfidf_k15_105', 'tfidf_k15_106', 'tfidf_k15_107', 'tfidf_k15_108', 'tfidf_k15_109', 'tfidf_k15_110', 'tfidf_k15_111', 'tfidf_k15_112', 'tfidf_k15_113', 'tfidf_k15_114', 'tfidf_k15_115', 'tfidf_k15_116', 'tfidf_k15_117', 'tfidf_k15_118', 'tfidf_k15_119', 'tfidf_k15_120', 'tfidf_k15_121', 'tfidf_k15_122', 'tfidf_k15_123', 'tfidf_k15_124', 'tfidf_k15_125', 'tfidf_k15_126', 'tfidf_k15_127', 'tfidf_k15_128', 'tfidf_k15_129', 'tfidf_k15_130', 'tfidf_k15_131', 'tfidf_k15_132', 'tfidf_k15_133', 'tfidf_k15_134', 'tfidf_k15_135', 'tfidf_k15_136', 'tfidf_k15_137', 'tfidf_k15_138', 'tfidf_k15_139', 'tfidf_k15_140', 'tfidf_k15_141', 'tfidf_k15_142', 'tfidf_k15_143', 'tfidf_k15_144', 'tfidf_k15_145', 'tfidf_k15_146', 'tfidf_k15_147', 'tfidf_k15_148', 'tfidf_k15_149', 'tfidf_k15_150', 'tfidf_k15_151', 'tfidf_k15_152', 'tfidf_k15_153', 'tfidf_k15_154', 'tfidf_k15_155', 'tfidf_k15_156', 'tfidf_k15_157', 'tfidf_k15_158', 'tfidf_k15_159', 'tfidf_k15_160', 'tfidf_k15_161', 'tfidf_k15_162', 'tfidf_k15_163', 'tfidf_k15_164', 'tfidf_k15_165']\n"
     ]
    }
   ],
   "source": [
    "# Prepare for random = 512\n",
    "\n",
    "prepare_and_save_data(df_full.copy(), data_dir=DATA_DIR, seed=512)"
   ]
  },
  {
   "cell_type": "code",
   "execution_count": null,
   "id": "628c0e51",
   "metadata": {
    "papermill": {
     "duration": 0.025166,
     "end_time": "2025-09-20T06:45:56.214776",
     "exception": false,
     "start_time": "2025-09-20T06:45:56.189610",
     "status": "completed"
    },
    "tags": []
   },
   "outputs": [],
   "source": []
  }
 ],
 "metadata": {
  "kaggle": {
   "accelerator": "none",
   "dataSources": [
    {
     "sourceId": 262860498,
     "sourceType": "kernelVersion"
    }
   ],
   "dockerImageVersionId": 31089,
   "isGpuEnabled": false,
   "isInternetEnabled": true,
   "language": "python",
   "sourceType": "notebook"
  },
  "kernelspec": {
   "display_name": "Python 3",
   "language": "python",
   "name": "python3"
  },
  "language_info": {
   "codemirror_mode": {
    "name": "ipython",
    "version": 3
   },
   "file_extension": ".py",
   "mimetype": "text/x-python",
   "name": "python",
   "nbconvert_exporter": "python",
   "pygments_lexer": "ipython3",
   "version": "3.11.13"
  },
  "papermill": {
   "default_parameters": {},
   "duration": 8403.983318,
   "end_time": "2025-09-20T06:46:00.086203",
   "environment_variables": {},
   "exception": null,
   "input_path": "__notebook__.ipynb",
   "output_path": "__notebook__.ipynb",
   "parameters": {},
   "start_time": "2025-09-20T04:25:56.102885",
   "version": "2.6.0"
  },
  "widgets": {
   "application/vnd.jupyter.widget-state+json": {
    "state": {
     "053c4546a04e4c2ea2cabcd618e905ad": {
      "model_module": "@jupyter-widgets/base",
      "model_module_version": "2.0.0",
      "model_name": "LayoutModel",
      "state": {
       "_model_module": "@jupyter-widgets/base",
       "_model_module_version": "2.0.0",
       "_model_name": "LayoutModel",
       "_view_count": null,
       "_view_module": "@jupyter-widgets/base",
       "_view_module_version": "2.0.0",
       "_view_name": "LayoutView",
       "align_content": null,
       "align_items": null,
       "align_self": null,
       "border_bottom": null,
       "border_left": null,
       "border_right": null,
       "border_top": null,
       "bottom": null,
       "display": null,
       "flex": null,
       "flex_flow": null,
       "grid_area": null,
       "grid_auto_columns": null,
       "grid_auto_flow": null,
       "grid_auto_rows": null,
       "grid_column": null,
       "grid_gap": null,
       "grid_row": null,
       "grid_template_areas": null,
       "grid_template_columns": null,
       "grid_template_rows": null,
       "height": null,
       "justify_content": null,
       "justify_items": null,
       "left": null,
       "margin": null,
       "max_height": null,
       "max_width": null,
       "min_height": null,
       "min_width": null,
       "object_fit": null,
       "object_position": null,
       "order": null,
       "overflow": null,
       "padding": null,
       "right": null,
       "top": null,
       "visibility": null,
       "width": null
      }
     },
     "09f436b990794fd2965788c10f6d4b23": {
      "model_module": "@jupyter-widgets/controls",
      "model_module_version": "2.0.0",
      "model_name": "FloatProgressModel",
      "state": {
       "_dom_classes": [],
       "_model_module": "@jupyter-widgets/controls",
       "_model_module_version": "2.0.0",
       "_model_name": "FloatProgressModel",
       "_view_count": null,
       "_view_module": "@jupyter-widgets/controls",
       "_view_module_version": "2.0.0",
       "_view_name": "ProgressView",
       "bar_style": "success",
       "description": "",
       "description_allow_html": false,
       "layout": "IPY_MODEL_aff808ddde7845bd9017e3b6268ab8a2",
       "max": 82805.0,
       "min": 0.0,
       "orientation": "horizontal",
       "style": "IPY_MODEL_8ea942c080a54830bd28251da4892df2",
       "tabbable": null,
       "tooltip": null,
       "value": 82805.0
      }
     },
     "14ea508422a4442e9605bcfde4fc7495": {
      "model_module": "@jupyter-widgets/base",
      "model_module_version": "2.0.0",
      "model_name": "LayoutModel",
      "state": {
       "_model_module": "@jupyter-widgets/base",
       "_model_module_version": "2.0.0",
       "_model_name": "LayoutModel",
       "_view_count": null,
       "_view_module": "@jupyter-widgets/base",
       "_view_module_version": "2.0.0",
       "_view_name": "LayoutView",
       "align_content": null,
       "align_items": null,
       "align_self": null,
       "border_bottom": null,
       "border_left": null,
       "border_right": null,
       "border_top": null,
       "bottom": null,
       "display": null,
       "flex": null,
       "flex_flow": null,
       "grid_area": null,
       "grid_auto_columns": null,
       "grid_auto_flow": null,
       "grid_auto_rows": null,
       "grid_column": null,
       "grid_gap": null,
       "grid_row": null,
       "grid_template_areas": null,
       "grid_template_columns": null,
       "grid_template_rows": null,
       "height": null,
       "justify_content": null,
       "justify_items": null,
       "left": null,
       "margin": null,
       "max_height": null,
       "max_width": null,
       "min_height": null,
       "min_width": null,
       "object_fit": null,
       "object_position": null,
       "order": null,
       "overflow": null,
       "padding": null,
       "right": null,
       "top": null,
       "visibility": null,
       "width": null
      }
     },
     "155053260b8f43a5a6f84cf7dceb56d8": {
      "model_module": "@jupyter-widgets/controls",
      "model_module_version": "2.0.0",
      "model_name": "HTMLModel",
      "state": {
       "_dom_classes": [],
       "_model_module": "@jupyter-widgets/controls",
       "_model_module_version": "2.0.0",
       "_model_name": "HTMLModel",
       "_view_count": null,
       "_view_module": "@jupyter-widgets/controls",
       "_view_module_version": "2.0.0",
       "_view_name": "HTMLView",
       "description": "",
       "description_allow_html": false,
       "layout": "IPY_MODEL_75974c5e80a34bf38e574bb5a38d628c",
       "placeholder": "​",
       "style": "IPY_MODEL_cb2dcb4b536c440e96275b9c099e72fa",
       "tabbable": null,
       "tooltip": null,
       "value": " 82805/82805 [10:15&lt;00:00, 133.65it/s]"
      }
     },
     "1f5780a0606d4ff29ad629aa4685caf3": {
      "model_module": "@jupyter-widgets/controls",
      "model_module_version": "2.0.0",
      "model_name": "HTMLModel",
      "state": {
       "_dom_classes": [],
       "_model_module": "@jupyter-widgets/controls",
       "_model_module_version": "2.0.0",
       "_model_name": "HTMLModel",
       "_view_count": null,
       "_view_module": "@jupyter-widgets/controls",
       "_view_module_version": "2.0.0",
       "_view_name": "HTMLView",
       "description": "",
       "description_allow_html": false,
       "layout": "IPY_MODEL_b46385f22fc041599e54c22cbd809979",
       "placeholder": "​",
       "style": "IPY_MODEL_51f874f1ceb14e43ad5a092829344689",
       "tabbable": null,
       "tooltip": null,
       "value": "100%"
      }
     },
     "2cc9c5ab638649c8b75befaca833ad1d": {
      "model_module": "@jupyter-widgets/controls",
      "model_module_version": "2.0.0",
      "model_name": "HTMLModel",
      "state": {
       "_dom_classes": [],
       "_model_module": "@jupyter-widgets/controls",
       "_model_module_version": "2.0.0",
       "_model_name": "HTMLModel",
       "_view_count": null,
       "_view_module": "@jupyter-widgets/controls",
       "_view_module_version": "2.0.0",
       "_view_name": "HTMLView",
       "description": "",
       "description_allow_html": false,
       "layout": "IPY_MODEL_fb1fabcccab74239a917011a987512f0",
       "placeholder": "​",
       "style": "IPY_MODEL_417ac90025df40da906b8137d0e1cc5d",
       "tabbable": null,
       "tooltip": null,
       "value": "100%"
      }
     },
     "3cf22d29b34843b4adb886b00b0814fd": {
      "model_module": "@jupyter-widgets/controls",
      "model_module_version": "2.0.0",
      "model_name": "ProgressStyleModel",
      "state": {
       "_model_module": "@jupyter-widgets/controls",
       "_model_module_version": "2.0.0",
       "_model_name": "ProgressStyleModel",
       "_view_count": null,
       "_view_module": "@jupyter-widgets/base",
       "_view_module_version": "2.0.0",
       "_view_name": "StyleView",
       "bar_color": null,
       "description_width": ""
      }
     },
     "417ac90025df40da906b8137d0e1cc5d": {
      "model_module": "@jupyter-widgets/controls",
      "model_module_version": "2.0.0",
      "model_name": "HTMLStyleModel",
      "state": {
       "_model_module": "@jupyter-widgets/controls",
       "_model_module_version": "2.0.0",
       "_model_name": "HTMLStyleModel",
       "_view_count": null,
       "_view_module": "@jupyter-widgets/base",
       "_view_module_version": "2.0.0",
       "_view_name": "StyleView",
       "background": null,
       "description_width": "",
       "font_size": null,
       "text_color": null
      }
     },
     "46ccd8ee3ecc4cf6b338447a8f0979e5": {
      "model_module": "@jupyter-widgets/base",
      "model_module_version": "2.0.0",
      "model_name": "LayoutModel",
      "state": {
       "_model_module": "@jupyter-widgets/base",
       "_model_module_version": "2.0.0",
       "_model_name": "LayoutModel",
       "_view_count": null,
       "_view_module": "@jupyter-widgets/base",
       "_view_module_version": "2.0.0",
       "_view_name": "LayoutView",
       "align_content": null,
       "align_items": null,
       "align_self": null,
       "border_bottom": null,
       "border_left": null,
       "border_right": null,
       "border_top": null,
       "bottom": null,
       "display": null,
       "flex": null,
       "flex_flow": null,
       "grid_area": null,
       "grid_auto_columns": null,
       "grid_auto_flow": null,
       "grid_auto_rows": null,
       "grid_column": null,
       "grid_gap": null,
       "grid_row": null,
       "grid_template_areas": null,
       "grid_template_columns": null,
       "grid_template_rows": null,
       "height": null,
       "justify_content": null,
       "justify_items": null,
       "left": null,
       "margin": null,
       "max_height": null,
       "max_width": null,
       "min_height": null,
       "min_width": null,
       "object_fit": null,
       "object_position": null,
       "order": null,
       "overflow": null,
       "padding": null,
       "right": null,
       "top": null,
       "visibility": null,
       "width": null
      }
     },
     "51f874f1ceb14e43ad5a092829344689": {
      "model_module": "@jupyter-widgets/controls",
      "model_module_version": "2.0.0",
      "model_name": "HTMLStyleModel",
      "state": {
       "_model_module": "@jupyter-widgets/controls",
       "_model_module_version": "2.0.0",
       "_model_name": "HTMLStyleModel",
       "_view_count": null,
       "_view_module": "@jupyter-widgets/base",
       "_view_module_version": "2.0.0",
       "_view_name": "StyleView",
       "background": null,
       "description_width": "",
       "font_size": null,
       "text_color": null
      }
     },
     "75974c5e80a34bf38e574bb5a38d628c": {
      "model_module": "@jupyter-widgets/base",
      "model_module_version": "2.0.0",
      "model_name": "LayoutModel",
      "state": {
       "_model_module": "@jupyter-widgets/base",
       "_model_module_version": "2.0.0",
       "_model_name": "LayoutModel",
       "_view_count": null,
       "_view_module": "@jupyter-widgets/base",
       "_view_module_version": "2.0.0",
       "_view_name": "LayoutView",
       "align_content": null,
       "align_items": null,
       "align_self": null,
       "border_bottom": null,
       "border_left": null,
       "border_right": null,
       "border_top": null,
       "bottom": null,
       "display": null,
       "flex": null,
       "flex_flow": null,
       "grid_area": null,
       "grid_auto_columns": null,
       "grid_auto_flow": null,
       "grid_auto_rows": null,
       "grid_column": null,
       "grid_gap": null,
       "grid_row": null,
       "grid_template_areas": null,
       "grid_template_columns": null,
       "grid_template_rows": null,
       "height": null,
       "justify_content": null,
       "justify_items": null,
       "left": null,
       "margin": null,
       "max_height": null,
       "max_width": null,
       "min_height": null,
       "min_width": null,
       "object_fit": null,
       "object_position": null,
       "order": null,
       "overflow": null,
       "padding": null,
       "right": null,
       "top": null,
       "visibility": null,
       "width": null
      }
     },
     "764d534cc25b48ebb17a74caedb2eebf": {
      "model_module": "@jupyter-widgets/base",
      "model_module_version": "2.0.0",
      "model_name": "LayoutModel",
      "state": {
       "_model_module": "@jupyter-widgets/base",
       "_model_module_version": "2.0.0",
       "_model_name": "LayoutModel",
       "_view_count": null,
       "_view_module": "@jupyter-widgets/base",
       "_view_module_version": "2.0.0",
       "_view_name": "LayoutView",
       "align_content": null,
       "align_items": null,
       "align_self": null,
       "border_bottom": null,
       "border_left": null,
       "border_right": null,
       "border_top": null,
       "bottom": null,
       "display": null,
       "flex": null,
       "flex_flow": null,
       "grid_area": null,
       "grid_auto_columns": null,
       "grid_auto_flow": null,
       "grid_auto_rows": null,
       "grid_column": null,
       "grid_gap": null,
       "grid_row": null,
       "grid_template_areas": null,
       "grid_template_columns": null,
       "grid_template_rows": null,
       "height": null,
       "justify_content": null,
       "justify_items": null,
       "left": null,
       "margin": null,
       "max_height": null,
       "max_width": null,
       "min_height": null,
       "min_width": null,
       "object_fit": null,
       "object_position": null,
       "order": null,
       "overflow": null,
       "padding": null,
       "right": null,
       "top": null,
       "visibility": null,
       "width": null
      }
     },
     "7926a62c863f439bb261e9ca1f3c8b59": {
      "model_module": "@jupyter-widgets/base",
      "model_module_version": "2.0.0",
      "model_name": "LayoutModel",
      "state": {
       "_model_module": "@jupyter-widgets/base",
       "_model_module_version": "2.0.0",
       "_model_name": "LayoutModel",
       "_view_count": null,
       "_view_module": "@jupyter-widgets/base",
       "_view_module_version": "2.0.0",
       "_view_name": "LayoutView",
       "align_content": null,
       "align_items": null,
       "align_self": null,
       "border_bottom": null,
       "border_left": null,
       "border_right": null,
       "border_top": null,
       "bottom": null,
       "display": null,
       "flex": null,
       "flex_flow": null,
       "grid_area": null,
       "grid_auto_columns": null,
       "grid_auto_flow": null,
       "grid_auto_rows": null,
       "grid_column": null,
       "grid_gap": null,
       "grid_row": null,
       "grid_template_areas": null,
       "grid_template_columns": null,
       "grid_template_rows": null,
       "height": null,
       "justify_content": null,
       "justify_items": null,
       "left": null,
       "margin": null,
       "max_height": null,
       "max_width": null,
       "min_height": null,
       "min_width": null,
       "object_fit": null,
       "object_position": null,
       "order": null,
       "overflow": null,
       "padding": null,
       "right": null,
       "top": null,
       "visibility": null,
       "width": null
      }
     },
     "8766f9ff08aa4912ab8000e7e0444342": {
      "model_module": "@jupyter-widgets/controls",
      "model_module_version": "2.0.0",
      "model_name": "FloatProgressModel",
      "state": {
       "_dom_classes": [],
       "_model_module": "@jupyter-widgets/controls",
       "_model_module_version": "2.0.0",
       "_model_name": "FloatProgressModel",
       "_view_count": null,
       "_view_module": "@jupyter-widgets/controls",
       "_view_module_version": "2.0.0",
       "_view_name": "ProgressView",
       "bar_style": "success",
       "description": "",
       "description_allow_html": false,
       "layout": "IPY_MODEL_7926a62c863f439bb261e9ca1f3c8b59",
       "max": 667931.0,
       "min": 0.0,
       "orientation": "horizontal",
       "style": "IPY_MODEL_3cf22d29b34843b4adb886b00b0814fd",
       "tabbable": null,
       "tooltip": null,
       "value": 667931.0
      }
     },
     "89a654dcb17b4f7286373ae4386c43fa": {
      "model_module": "@jupyter-widgets/controls",
      "model_module_version": "2.0.0",
      "model_name": "HTMLModel",
      "state": {
       "_dom_classes": [],
       "_model_module": "@jupyter-widgets/controls",
       "_model_module_version": "2.0.0",
       "_model_name": "HTMLModel",
       "_view_count": null,
       "_view_module": "@jupyter-widgets/controls",
       "_view_module_version": "2.0.0",
       "_view_name": "HTMLView",
       "description": "",
       "description_allow_html": false,
       "layout": "IPY_MODEL_bfb97d4e4814428d8e2b3534f4b1cc1f",
       "placeholder": "​",
       "style": "IPY_MODEL_fc7b423f382e4b3785cfb8a2bcff1d0c",
       "tabbable": null,
       "tooltip": null,
       "value": " 667931/667931 [00:12&lt;00:00, 55548.52it/s]"
      }
     },
     "8d03da1f90754f12b7ddd4d264f6e390": {
      "model_module": "@jupyter-widgets/controls",
      "model_module_version": "2.0.0",
      "model_name": "ProgressStyleModel",
      "state": {
       "_model_module": "@jupyter-widgets/controls",
       "_model_module_version": "2.0.0",
       "_model_name": "ProgressStyleModel",
       "_view_count": null,
       "_view_module": "@jupyter-widgets/base",
       "_view_module_version": "2.0.0",
       "_view_name": "StyleView",
       "bar_color": null,
       "description_width": ""
      }
     },
     "8ea942c080a54830bd28251da4892df2": {
      "model_module": "@jupyter-widgets/controls",
      "model_module_version": "2.0.0",
      "model_name": "ProgressStyleModel",
      "state": {
       "_model_module": "@jupyter-widgets/controls",
       "_model_module_version": "2.0.0",
       "_model_name": "ProgressStyleModel",
       "_view_count": null,
       "_view_module": "@jupyter-widgets/base",
       "_view_module_version": "2.0.0",
       "_view_name": "StyleView",
       "bar_color": null,
       "description_width": ""
      }
     },
     "9159bbc28a6d4c19b2f50a0358cc093f": {
      "model_module": "@jupyter-widgets/controls",
      "model_module_version": "2.0.0",
      "model_name": "HBoxModel",
      "state": {
       "_dom_classes": [],
       "_model_module": "@jupyter-widgets/controls",
       "_model_module_version": "2.0.0",
       "_model_name": "HBoxModel",
       "_view_count": null,
       "_view_module": "@jupyter-widgets/controls",
       "_view_module_version": "2.0.0",
       "_view_name": "HBoxView",
       "box_style": "",
       "children": [
        "IPY_MODEL_b661ae93aea74cf8b9ec4aa8e9573034",
        "IPY_MODEL_e5386b9505124a1181fa013fcf9a6528",
        "IPY_MODEL_92c0777a05ce408884c40a1d06a0135d"
       ],
       "layout": "IPY_MODEL_d12930d295df461ebb5ee027f3e8317e",
       "tabbable": null,
       "tooltip": null
      }
     },
     "92c0777a05ce408884c40a1d06a0135d": {
      "model_module": "@jupyter-widgets/controls",
      "model_module_version": "2.0.0",
      "model_name": "HTMLModel",
      "state": {
       "_dom_classes": [],
       "_model_module": "@jupyter-widgets/controls",
       "_model_module_version": "2.0.0",
       "_model_name": "HTMLModel",
       "_view_count": null,
       "_view_module": "@jupyter-widgets/controls",
       "_view_module_version": "2.0.0",
       "_view_name": "HTMLView",
       "description": "",
       "description_allow_html": false,
       "layout": "IPY_MODEL_14ea508422a4442e9605bcfde4fc7495",
       "placeholder": "​",
       "style": "IPY_MODEL_9549dc68a8074e8ba6c69a0d2a62504a",
       "tabbable": null,
       "tooltip": null,
       "value": " 82805/82805 [01:59&lt;00:00, 721.96it/s]"
      }
     },
     "9549dc68a8074e8ba6c69a0d2a62504a": {
      "model_module": "@jupyter-widgets/controls",
      "model_module_version": "2.0.0",
      "model_name": "HTMLStyleModel",
      "state": {
       "_model_module": "@jupyter-widgets/controls",
       "_model_module_version": "2.0.0",
       "_model_name": "HTMLStyleModel",
       "_view_count": null,
       "_view_module": "@jupyter-widgets/base",
       "_view_module_version": "2.0.0",
       "_view_name": "StyleView",
       "background": null,
       "description_width": "",
       "font_size": null,
       "text_color": null
      }
     },
     "a72fa03cbc9b422dbfbafde1cb0a7044": {
      "model_module": "@jupyter-widgets/controls",
      "model_module_version": "2.0.0",
      "model_name": "HTMLStyleModel",
      "state": {
       "_model_module": "@jupyter-widgets/controls",
       "_model_module_version": "2.0.0",
       "_model_name": "HTMLStyleModel",
       "_view_count": null,
       "_view_module": "@jupyter-widgets/base",
       "_view_module_version": "2.0.0",
       "_view_name": "StyleView",
       "background": null,
       "description_width": "",
       "font_size": null,
       "text_color": null
      }
     },
     "ad5d616f79d148539be7bdc5f1448172": {
      "model_module": "@jupyter-widgets/base",
      "model_module_version": "2.0.0",
      "model_name": "LayoutModel",
      "state": {
       "_model_module": "@jupyter-widgets/base",
       "_model_module_version": "2.0.0",
       "_model_name": "LayoutModel",
       "_view_count": null,
       "_view_module": "@jupyter-widgets/base",
       "_view_module_version": "2.0.0",
       "_view_name": "LayoutView",
       "align_content": null,
       "align_items": null,
       "align_self": null,
       "border_bottom": null,
       "border_left": null,
       "border_right": null,
       "border_top": null,
       "bottom": null,
       "display": null,
       "flex": null,
       "flex_flow": null,
       "grid_area": null,
       "grid_auto_columns": null,
       "grid_auto_flow": null,
       "grid_auto_rows": null,
       "grid_column": null,
       "grid_gap": null,
       "grid_row": null,
       "grid_template_areas": null,
       "grid_template_columns": null,
       "grid_template_rows": null,
       "height": null,
       "justify_content": null,
       "justify_items": null,
       "left": null,
       "margin": null,
       "max_height": null,
       "max_width": null,
       "min_height": null,
       "min_width": null,
       "object_fit": null,
       "object_position": null,
       "order": null,
       "overflow": null,
       "padding": null,
       "right": null,
       "top": null,
       "visibility": null,
       "width": null
      }
     },
     "aff808ddde7845bd9017e3b6268ab8a2": {
      "model_module": "@jupyter-widgets/base",
      "model_module_version": "2.0.0",
      "model_name": "LayoutModel",
      "state": {
       "_model_module": "@jupyter-widgets/base",
       "_model_module_version": "2.0.0",
       "_model_name": "LayoutModel",
       "_view_count": null,
       "_view_module": "@jupyter-widgets/base",
       "_view_module_version": "2.0.0",
       "_view_name": "LayoutView",
       "align_content": null,
       "align_items": null,
       "align_self": null,
       "border_bottom": null,
       "border_left": null,
       "border_right": null,
       "border_top": null,
       "bottom": null,
       "display": null,
       "flex": null,
       "flex_flow": null,
       "grid_area": null,
       "grid_auto_columns": null,
       "grid_auto_flow": null,
       "grid_auto_rows": null,
       "grid_column": null,
       "grid_gap": null,
       "grid_row": null,
       "grid_template_areas": null,
       "grid_template_columns": null,
       "grid_template_rows": null,
       "height": null,
       "justify_content": null,
       "justify_items": null,
       "left": null,
       "margin": null,
       "max_height": null,
       "max_width": null,
       "min_height": null,
       "min_width": null,
       "object_fit": null,
       "object_position": null,
       "order": null,
       "overflow": null,
       "padding": null,
       "right": null,
       "top": null,
       "visibility": null,
       "width": null
      }
     },
     "b46385f22fc041599e54c22cbd809979": {
      "model_module": "@jupyter-widgets/base",
      "model_module_version": "2.0.0",
      "model_name": "LayoutModel",
      "state": {
       "_model_module": "@jupyter-widgets/base",
       "_model_module_version": "2.0.0",
       "_model_name": "LayoutModel",
       "_view_count": null,
       "_view_module": "@jupyter-widgets/base",
       "_view_module_version": "2.0.0",
       "_view_name": "LayoutView",
       "align_content": null,
       "align_items": null,
       "align_self": null,
       "border_bottom": null,
       "border_left": null,
       "border_right": null,
       "border_top": null,
       "bottom": null,
       "display": null,
       "flex": null,
       "flex_flow": null,
       "grid_area": null,
       "grid_auto_columns": null,
       "grid_auto_flow": null,
       "grid_auto_rows": null,
       "grid_column": null,
       "grid_gap": null,
       "grid_row": null,
       "grid_template_areas": null,
       "grid_template_columns": null,
       "grid_template_rows": null,
       "height": null,
       "justify_content": null,
       "justify_items": null,
       "left": null,
       "margin": null,
       "max_height": null,
       "max_width": null,
       "min_height": null,
       "min_width": null,
       "object_fit": null,
       "object_position": null,
       "order": null,
       "overflow": null,
       "padding": null,
       "right": null,
       "top": null,
       "visibility": null,
       "width": null
      }
     },
     "b661ae93aea74cf8b9ec4aa8e9573034": {
      "model_module": "@jupyter-widgets/controls",
      "model_module_version": "2.0.0",
      "model_name": "HTMLModel",
      "state": {
       "_dom_classes": [],
       "_model_module": "@jupyter-widgets/controls",
       "_model_module_version": "2.0.0",
       "_model_name": "HTMLModel",
       "_view_count": null,
       "_view_module": "@jupyter-widgets/controls",
       "_view_module_version": "2.0.0",
       "_view_name": "HTMLView",
       "description": "",
       "description_allow_html": false,
       "layout": "IPY_MODEL_46ccd8ee3ecc4cf6b338447a8f0979e5",
       "placeholder": "​",
       "style": "IPY_MODEL_a72fa03cbc9b422dbfbafde1cb0a7044",
       "tabbable": null,
       "tooltip": null,
       "value": "100%"
      }
     },
     "bfb97d4e4814428d8e2b3534f4b1cc1f": {
      "model_module": "@jupyter-widgets/base",
      "model_module_version": "2.0.0",
      "model_name": "LayoutModel",
      "state": {
       "_model_module": "@jupyter-widgets/base",
       "_model_module_version": "2.0.0",
       "_model_name": "LayoutModel",
       "_view_count": null,
       "_view_module": "@jupyter-widgets/base",
       "_view_module_version": "2.0.0",
       "_view_name": "LayoutView",
       "align_content": null,
       "align_items": null,
       "align_self": null,
       "border_bottom": null,
       "border_left": null,
       "border_right": null,
       "border_top": null,
       "bottom": null,
       "display": null,
       "flex": null,
       "flex_flow": null,
       "grid_area": null,
       "grid_auto_columns": null,
       "grid_auto_flow": null,
       "grid_auto_rows": null,
       "grid_column": null,
       "grid_gap": null,
       "grid_row": null,
       "grid_template_areas": null,
       "grid_template_columns": null,
       "grid_template_rows": null,
       "height": null,
       "justify_content": null,
       "justify_items": null,
       "left": null,
       "margin": null,
       "max_height": null,
       "max_width": null,
       "min_height": null,
       "min_width": null,
       "object_fit": null,
       "object_position": null,
       "order": null,
       "overflow": null,
       "padding": null,
       "right": null,
       "top": null,
       "visibility": null,
       "width": null
      }
     },
     "cb2dcb4b536c440e96275b9c099e72fa": {
      "model_module": "@jupyter-widgets/controls",
      "model_module_version": "2.0.0",
      "model_name": "HTMLStyleModel",
      "state": {
       "_model_module": "@jupyter-widgets/controls",
       "_model_module_version": "2.0.0",
       "_model_name": "HTMLStyleModel",
       "_view_count": null,
       "_view_module": "@jupyter-widgets/base",
       "_view_module_version": "2.0.0",
       "_view_name": "StyleView",
       "background": null,
       "description_width": "",
       "font_size": null,
       "text_color": null
      }
     },
     "d12930d295df461ebb5ee027f3e8317e": {
      "model_module": "@jupyter-widgets/base",
      "model_module_version": "2.0.0",
      "model_name": "LayoutModel",
      "state": {
       "_model_module": "@jupyter-widgets/base",
       "_model_module_version": "2.0.0",
       "_model_name": "LayoutModel",
       "_view_count": null,
       "_view_module": "@jupyter-widgets/base",
       "_view_module_version": "2.0.0",
       "_view_name": "LayoutView",
       "align_content": null,
       "align_items": null,
       "align_self": null,
       "border_bottom": null,
       "border_left": null,
       "border_right": null,
       "border_top": null,
       "bottom": null,
       "display": null,
       "flex": null,
       "flex_flow": null,
       "grid_area": null,
       "grid_auto_columns": null,
       "grid_auto_flow": null,
       "grid_auto_rows": null,
       "grid_column": null,
       "grid_gap": null,
       "grid_row": null,
       "grid_template_areas": null,
       "grid_template_columns": null,
       "grid_template_rows": null,
       "height": null,
       "justify_content": null,
       "justify_items": null,
       "left": null,
       "margin": null,
       "max_height": null,
       "max_width": null,
       "min_height": null,
       "min_width": null,
       "object_fit": null,
       "object_position": null,
       "order": null,
       "overflow": null,
       "padding": null,
       "right": null,
       "top": null,
       "visibility": null,
       "width": null
      }
     },
     "d161d1a1c9bc4280be4f4c51dadc0030": {
      "model_module": "@jupyter-widgets/controls",
      "model_module_version": "2.0.0",
      "model_name": "HBoxModel",
      "state": {
       "_dom_classes": [],
       "_model_module": "@jupyter-widgets/controls",
       "_model_module_version": "2.0.0",
       "_model_name": "HBoxModel",
       "_view_count": null,
       "_view_module": "@jupyter-widgets/controls",
       "_view_module_version": "2.0.0",
       "_view_name": "HBoxView",
       "box_style": "",
       "children": [
        "IPY_MODEL_1f5780a0606d4ff29ad629aa4685caf3",
        "IPY_MODEL_8766f9ff08aa4912ab8000e7e0444342",
        "IPY_MODEL_89a654dcb17b4f7286373ae4386c43fa"
       ],
       "layout": "IPY_MODEL_053c4546a04e4c2ea2cabcd618e905ad",
       "tabbable": null,
       "tooltip": null
      }
     },
     "e5386b9505124a1181fa013fcf9a6528": {
      "model_module": "@jupyter-widgets/controls",
      "model_module_version": "2.0.0",
      "model_name": "FloatProgressModel",
      "state": {
       "_dom_classes": [],
       "_model_module": "@jupyter-widgets/controls",
       "_model_module_version": "2.0.0",
       "_model_name": "FloatProgressModel",
       "_view_count": null,
       "_view_module": "@jupyter-widgets/controls",
       "_view_module_version": "2.0.0",
       "_view_name": "ProgressView",
       "bar_style": "success",
       "description": "",
       "description_allow_html": false,
       "layout": "IPY_MODEL_ad5d616f79d148539be7bdc5f1448172",
       "max": 82805.0,
       "min": 0.0,
       "orientation": "horizontal",
       "style": "IPY_MODEL_8d03da1f90754f12b7ddd4d264f6e390",
       "tabbable": null,
       "tooltip": null,
       "value": 82805.0
      }
     },
     "f826863080934af3b96b81aa6bf953b1": {
      "model_module": "@jupyter-widgets/controls",
      "model_module_version": "2.0.0",
      "model_name": "HBoxModel",
      "state": {
       "_dom_classes": [],
       "_model_module": "@jupyter-widgets/controls",
       "_model_module_version": "2.0.0",
       "_model_name": "HBoxModel",
       "_view_count": null,
       "_view_module": "@jupyter-widgets/controls",
       "_view_module_version": "2.0.0",
       "_view_name": "HBoxView",
       "box_style": "",
       "children": [
        "IPY_MODEL_2cc9c5ab638649c8b75befaca833ad1d",
        "IPY_MODEL_09f436b990794fd2965788c10f6d4b23",
        "IPY_MODEL_155053260b8f43a5a6f84cf7dceb56d8"
       ],
       "layout": "IPY_MODEL_764d534cc25b48ebb17a74caedb2eebf",
       "tabbable": null,
       "tooltip": null
      }
     },
     "fb1fabcccab74239a917011a987512f0": {
      "model_module": "@jupyter-widgets/base",
      "model_module_version": "2.0.0",
      "model_name": "LayoutModel",
      "state": {
       "_model_module": "@jupyter-widgets/base",
       "_model_module_version": "2.0.0",
       "_model_name": "LayoutModel",
       "_view_count": null,
       "_view_module": "@jupyter-widgets/base",
       "_view_module_version": "2.0.0",
       "_view_name": "LayoutView",
       "align_content": null,
       "align_items": null,
       "align_self": null,
       "border_bottom": null,
       "border_left": null,
       "border_right": null,
       "border_top": null,
       "bottom": null,
       "display": null,
       "flex": null,
       "flex_flow": null,
       "grid_area": null,
       "grid_auto_columns": null,
       "grid_auto_flow": null,
       "grid_auto_rows": null,
       "grid_column": null,
       "grid_gap": null,
       "grid_row": null,
       "grid_template_areas": null,
       "grid_template_columns": null,
       "grid_template_rows": null,
       "height": null,
       "justify_content": null,
       "justify_items": null,
       "left": null,
       "margin": null,
       "max_height": null,
       "max_width": null,
       "min_height": null,
       "min_width": null,
       "object_fit": null,
       "object_position": null,
       "order": null,
       "overflow": null,
       "padding": null,
       "right": null,
       "top": null,
       "visibility": null,
       "width": null
      }
     },
     "fc7b423f382e4b3785cfb8a2bcff1d0c": {
      "model_module": "@jupyter-widgets/controls",
      "model_module_version": "2.0.0",
      "model_name": "HTMLStyleModel",
      "state": {
       "_model_module": "@jupyter-widgets/controls",
       "_model_module_version": "2.0.0",
       "_model_name": "HTMLStyleModel",
       "_view_count": null,
       "_view_module": "@jupyter-widgets/base",
       "_view_module_version": "2.0.0",
       "_view_name": "StyleView",
       "background": null,
       "description_width": "",
       "font_size": null,
       "text_color": null
      }
     }
    },
    "version_major": 2,
    "version_minor": 0
   }
  }
 },
 "nbformat": 4,
 "nbformat_minor": 5
}
