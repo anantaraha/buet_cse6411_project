{
 "cells": [
  {
   "cell_type": "code",
   "execution_count": 1,
   "id": "e70ca710",
   "metadata": {
    "_cell_guid": "b1076dfc-b9ad-4769-8c92-a6c4dae69d19",
    "_uuid": "8f2839f25d086af736a60e9eeb907d3b93b6e0e5",
    "execution": {
     "iopub.execute_input": "2025-09-19T11:36:58.293945Z",
     "iopub.status.busy": "2025-09-19T11:36:58.293584Z",
     "iopub.status.idle": "2025-09-19T11:37:01.978739Z",
     "shell.execute_reply": "2025-09-19T11:37:01.977576Z"
    },
    "papermill": {
     "duration": 3.692275,
     "end_time": "2025-09-19T11:37:01.980709",
     "exception": false,
     "start_time": "2025-09-19T11:36:58.288434",
     "status": "completed"
    },
    "tags": []
   },
   "outputs": [],
   "source": [
    "import urllib.request\n",
    "import gzip\n",
    "import pandas as pd\n",
    "import numpy as np\n",
    "from scipy.stats import norm\n",
    "import matplotlib.pyplot as plt"
   ]
  },
  {
   "cell_type": "markdown",
   "id": "d66c1624",
   "metadata": {
    "papermill": {
     "duration": 0.003128,
     "end_time": "2025-09-19T11:37:01.987538",
     "exception": false,
     "start_time": "2025-09-19T11:37:01.984410",
     "status": "completed"
    },
    "tags": []
   },
   "source": [
    "# Retrieve Gene Expression Data"
   ]
  },
  {
   "cell_type": "code",
   "execution_count": 2,
   "id": "446f518f",
   "metadata": {
    "execution": {
     "iopub.execute_input": "2025-09-19T11:37:01.995022Z",
     "iopub.status.busy": "2025-09-19T11:37:01.994493Z",
     "iopub.status.idle": "2025-09-19T11:37:03.404645Z",
     "shell.execute_reply": "2025-09-19T11:37:03.403689Z"
    },
    "papermill": {
     "duration": 1.415628,
     "end_time": "2025-09-19T11:37:03.406264",
     "exception": false,
     "start_time": "2025-09-19T11:37:01.990636",
     "status": "completed"
    },
    "tags": []
   },
   "outputs": [
    {
     "data": {
      "text/plain": [
       "('GSE226559_gene_counts.tsv.gz', <http.client.HTTPMessage at 0x7c216447ad90>)"
      ]
     },
     "execution_count": 2,
     "metadata": {},
     "output_type": "execute_result"
    }
   ],
   "source": [
    "# -----------------------------\n",
    "# Step 0: Download files\n",
    "# -----------------------------\n",
    "\n",
    "# GFF file for B. subtilis 168\n",
    "gff_url = \"https://ftp.ncbi.nlm.nih.gov/genomes/all/GCF/000/009/045/GCF_000009045.1_ASM904v1/GCF_000009045.1_ASM904v1_genomic.gff.gz\"\n",
    "urllib.request.urlretrieve(gff_url, \"B_subtilis_168.gff.gz\")\n",
    "\n",
    "# Salmon gene counts (from GEO GSE226559)\n",
    "salmon_url = \"https://ftp.ncbi.nlm.nih.gov/geo/series/GSE226nnn/GSE226559/suppl/GSE226559_salmon.merged.gene_counts.tsv.gz\"\n",
    "urllib.request.urlretrieve(salmon_url, \"GSE226559_gene_counts.tsv.gz\")"
   ]
  },
  {
   "cell_type": "code",
   "execution_count": 3,
   "id": "f6e8f4a8",
   "metadata": {
    "execution": {
     "iopub.execute_input": "2025-09-19T11:37:03.414058Z",
     "iopub.status.busy": "2025-09-19T11:37:03.413702Z",
     "iopub.status.idle": "2025-09-19T11:37:03.551606Z",
     "shell.execute_reply": "2025-09-19T11:37:03.550618Z"
    },
    "papermill": {
     "duration": 0.144037,
     "end_time": "2025-09-19T11:37:03.553572",
     "exception": false,
     "start_time": "2025-09-19T11:37:03.409535",
     "status": "completed"
    },
    "tags": []
   },
   "outputs": [],
   "source": [
    "# -----------------------------\n",
    "# Step 1: Parse GFF gene annotations\n",
    "# -----------------------------\n",
    "gff_file = \"B_subtilis_168.gff.gz\"  # downloaded from NCBI\n",
    "\n",
    "gff_df = pd.read_csv(\n",
    "    gff_file,\n",
    "    sep=\"\\t\",\n",
    "    comment=\"#\",\n",
    "    header=None,\n",
    "    compression='gzip'\n",
    ")\n",
    "gff_df.columns = [\"seqid\",\"source\",\"type\",\"start\",\"end\",\"score\",\"strand\",\"phase\",\"attributes\"]\n",
    "\n",
    "# Keep only 'gene' features\n",
    "genes_df = gff_df[gff_df[\"type\"] == \"gene\"].copy()\n",
    "\n",
    "# Extract gene IDs in format BSU_00010, BSU_00020, etc.\n",
    "genes_df[\"gene_id\"] = genes_df[\"attributes\"].str.extract(r\"ID=gene-(BSU_\\d+)\")\n",
    "\n",
    "# Drop rows where gene_id is NaN (nonstandard gene IDs)\n",
    "genes_df = genes_df.dropna(subset=[\"gene_id\"])\n",
    "\n",
    "# Remove underscore to match Salmon counts (BSU00010)\n",
    "genes_df[\"gene_id\"] = genes_df[\"gene_id\"].str.replace(\"_\", \"\")\n",
    "\n",
    "# Keep relevant columns\n",
    "genes_df = genes_df[[\"gene_id\",\"start\",\"end\",\"strand\"]].reset_index(drop=True)"
   ]
  },
  {
   "cell_type": "code",
   "execution_count": 4,
   "id": "01a62b0d",
   "metadata": {
    "execution": {
     "iopub.execute_input": "2025-09-19T11:37:03.561409Z",
     "iopub.status.busy": "2025-09-19T11:37:03.561070Z",
     "iopub.status.idle": "2025-09-19T11:37:03.621094Z",
     "shell.execute_reply": "2025-09-19T11:37:03.619956Z"
    },
    "papermill": {
     "duration": 0.066532,
     "end_time": "2025-09-19T11:37:03.623432",
     "exception": false,
     "start_time": "2025-09-19T11:37:03.556900",
     "status": "completed"
    },
    "tags": []
   },
   "outputs": [],
   "source": [
    "# -----------------------------\n",
    "# Step 2: Read Salmon gene counts\n",
    "# -----------------------------\n",
    "salmon_file = \"GSE226559_gene_counts.tsv.gz\"\n",
    "\n",
    "with gzip.open(salmon_file, \"rt\") as f:\n",
    "    gene_counts = pd.read_csv(f, sep=\"\\t\")\n",
    "\n",
    "# Set gene_id as index\n",
    "gene_counts.set_index(\"gene_id\", inplace=True)\n",
    "\n",
    "# Keep numeric columns only (drop gene_name)\n",
    "gene_counts_numeric = gene_counts.drop(columns=[\"gene_name\"])"
   ]
  },
  {
   "cell_type": "code",
   "execution_count": 5,
   "id": "3e004358",
   "metadata": {
    "execution": {
     "iopub.execute_input": "2025-09-19T11:37:03.631529Z",
     "iopub.status.busy": "2025-09-19T11:37:03.631193Z",
     "iopub.status.idle": "2025-09-19T11:37:03.650296Z",
     "shell.execute_reply": "2025-09-19T11:37:03.649149Z"
    },
    "papermill": {
     "duration": 0.025244,
     "end_time": "2025-09-19T11:37:03.652366",
     "exception": false,
     "start_time": "2025-09-19T11:37:03.627122",
     "status": "completed"
    },
    "tags": []
   },
   "outputs": [],
   "source": [
    "# -----------------------------\n",
    "# Step 3: Merge gene counts with GFF coordinates\n",
    "# -----------------------------\n",
    "expr_annot = gene_counts_numeric.merge(\n",
    "    genes_df[[\"gene_id\",\"start\",\"end\",\"strand\"]],\n",
    "    left_index=True,\n",
    "    right_on=\"gene_id\",\n",
    "    how=\"left\"\n",
    ")"
   ]
  },
  {
   "cell_type": "code",
   "execution_count": 6,
   "id": "3823b8bc",
   "metadata": {
    "execution": {
     "iopub.execute_input": "2025-09-19T11:37:03.660011Z",
     "iopub.status.busy": "2025-09-19T11:37:03.659682Z",
     "iopub.status.idle": "2025-09-19T11:37:03.674463Z",
     "shell.execute_reply": "2025-09-19T11:37:03.673354Z"
    },
    "papermill": {
     "duration": 0.020646,
     "end_time": "2025-09-19T11:37:03.676269",
     "exception": false,
     "start_time": "2025-09-19T11:37:03.655623",
     "status": "completed"
    },
    "tags": []
   },
   "outputs": [],
   "source": [
    "# -----------------------------\n",
    "# Step 4: Compute per-gene expression (sum across samples)\n",
    "# -----------------------------\n",
    "expr_annot[\"expression\"] = gene_counts_numeric.sum(axis=1).values\n",
    "\n",
    "# Create final_df for downstream analysis\n",
    "final_df = expr_annot[[\"gene_id\",\"start\",\"end\",\"expression\"]].copy()\n",
    "\n",
    "# -----------------------------\n",
    "# Step 5: Null distribution from random genes\n",
    "# -----------------------------\n",
    "num_random = 100      # number of random genes\n",
    "p_threshold = 0.05    # significance cutoff\n",
    "\n",
    "random_genes = final_df.sample(n=num_random, random_state=42)\n",
    "null_mean = random_genes[\"expression\"].mean()\n",
    "null_std = random_genes[\"expression\"].std()"
   ]
  },
  {
   "cell_type": "markdown",
   "id": "97017bde",
   "metadata": {
    "papermill": {
     "duration": 0.002884,
     "end_time": "2025-09-19T11:37:03.682299",
     "exception": false,
     "start_time": "2025-09-19T11:37:03.679415",
     "status": "completed"
    },
    "tags": []
   },
   "source": [
    "# z-Score & p-Value Calculation"
   ]
  },
  {
   "cell_type": "code",
   "execution_count": 7,
   "id": "87198394",
   "metadata": {
    "execution": {
     "iopub.execute_input": "2025-09-19T11:37:03.689716Z",
     "iopub.status.busy": "2025-09-19T11:37:03.689369Z",
     "iopub.status.idle": "2025-09-19T11:37:03.716094Z",
     "shell.execute_reply": "2025-09-19T11:37:03.715057Z"
    },
    "papermill": {
     "duration": 0.032477,
     "end_time": "2025-09-19T11:37:03.717864",
     "exception": false,
     "start_time": "2025-09-19T11:37:03.685387",
     "status": "completed"
    },
    "tags": []
   },
   "outputs": [
    {
     "name": "stdout",
     "output_type": "stream",
     "text": [
      "      gene_id    start      end  expression   z_score   p_value  significant\n",
      "0.0  BSU00010    410.0   1750.0    111962.0  0.867594  0.192808        False\n",
      "1.0  BSU00020   1939.0   3075.0     86537.0  0.786346  0.215832        False\n",
      "2.0  BSU00030   3206.0   3421.0      2428.0 -0.340693  0.633333        False\n",
      "3.0  BSU00040   3437.0   4549.0    191219.0  1.036426  0.150002        False\n",
      "4.0  BSU00050   4567.0   4812.0     12158.0  0.167324  0.433557        False\n",
      "5.0  BSU00060   4867.0   6783.0    508789.0  1.345102  0.089296        False\n",
      "6.0  BSU00070   6994.0   9459.0    436139.0  1.296505  0.097401        False\n",
      "7.0  BSU00080  14847.0  15794.0      6092.0 -0.050611  0.520182        False\n",
      "8.0  BSU00090  15915.0  17381.0    594765.0  1.394350  0.081606        False\n",
      "9.0  BSU00100  17534.0  18865.0     88012.0  0.791677  0.214275        False\n"
     ]
    }
   ],
   "source": [
    "# -----------------------------\n",
    "# Step 6: Log-transform expression\n",
    "# -----------------------------\n",
    "# Use log1p to handle zeros\n",
    "log_expr = np.log1p(final_df[\"expression\"])\n",
    "\n",
    "# -----------------------------\n",
    "# Step 7: Null distribution from random genes (on log scale)\n",
    "# -----------------------------\n",
    "num_random = 100      # number of random genes\n",
    "p_threshold = 0.05    # significance cutoff\n",
    "\n",
    "random_genes = log_expr.sample(n=num_random, random_state=42)\n",
    "null_mean = random_genes.mean()\n",
    "null_std = random_genes.std()\n",
    "\n",
    "# -----------------------------\n",
    "# Step 8: Compute Z-scores\n",
    "# -----------------------------\n",
    "final_df[\"z_score\"] = (log_expr - null_mean) / null_std\n",
    "\n",
    "# -----------------------------\n",
    "# Step 9: Convert Z-scores to p-values (one-sided test)\n",
    "# -----------------------------\n",
    "final_df[\"p_value\"] = 1 - norm.cdf(final_df[\"z_score\"])\n",
    "\n",
    "# -----------------------------\n",
    "# Step 10: Determine significance\n",
    "# -----------------------------\n",
    "final_df[\"significant\"] = final_df[\"p_value\"] < p_threshold\n",
    "\n",
    "# -----------------------------\n",
    "# Step 11: Inspect results\n",
    "# -----------------------------\n",
    "print(final_df.head(10))"
   ]
  },
  {
   "cell_type": "code",
   "execution_count": 8,
   "id": "37a39751",
   "metadata": {
    "execution": {
     "iopub.execute_input": "2025-09-19T11:37:03.726646Z",
     "iopub.status.busy": "2025-09-19T11:37:03.725705Z",
     "iopub.status.idle": "2025-09-19T11:37:03.757474Z",
     "shell.execute_reply": "2025-09-19T11:37:03.756570Z"
    },
    "papermill": {
     "duration": 0.037774,
     "end_time": "2025-09-19T11:37:03.759004",
     "exception": false,
     "start_time": "2025-09-19T11:37:03.721230",
     "status": "completed"
    },
    "tags": []
   },
   "outputs": [
    {
     "data": {
      "text/html": [
       "<div>\n",
       "<style scoped>\n",
       "    .dataframe tbody tr th:only-of-type {\n",
       "        vertical-align: middle;\n",
       "    }\n",
       "\n",
       "    .dataframe tbody tr th {\n",
       "        vertical-align: top;\n",
       "    }\n",
       "\n",
       "    .dataframe thead th {\n",
       "        text-align: right;\n",
       "    }\n",
       "</style>\n",
       "<table border=\"1\" class=\"dataframe\">\n",
       "  <thead>\n",
       "    <tr style=\"text-align: right;\">\n",
       "      <th></th>\n",
       "      <th>start</th>\n",
       "      <th>end</th>\n",
       "      <th>expression</th>\n",
       "      <th>z_score</th>\n",
       "      <th>p_value</th>\n",
       "    </tr>\n",
       "  </thead>\n",
       "  <tbody>\n",
       "    <tr>\n",
       "      <th>count</th>\n",
       "      <td>4.174000e+03</td>\n",
       "      <td>4.174000e+03</td>\n",
       "      <td>4.636000e+03</td>\n",
       "      <td>4636.000000</td>\n",
       "      <td>4636.000000</td>\n",
       "    </tr>\n",
       "    <tr>\n",
       "      <th>mean</th>\n",
       "      <td>2.134015e+06</td>\n",
       "      <td>2.134900e+06</td>\n",
       "      <td>1.291080e+05</td>\n",
       "      <td>0.129165</td>\n",
       "      <td>0.436776</td>\n",
       "    </tr>\n",
       "    <tr>\n",
       "      <th>std</th>\n",
       "      <td>1.201694e+06</td>\n",
       "      <td>1.201689e+06</td>\n",
       "      <td>9.939808e+05</td>\n",
       "      <td>0.922828</td>\n",
       "      <td>0.261635</td>\n",
       "    </tr>\n",
       "    <tr>\n",
       "      <th>min</th>\n",
       "      <td>4.100000e+02</td>\n",
       "      <td>1.750000e+03</td>\n",
       "      <td>0.000000e+00</td>\n",
       "      <td>-2.799488</td>\n",
       "      <td>0.003295</td>\n",
       "    </tr>\n",
       "    <tr>\n",
       "      <th>25%</th>\n",
       "      <td>1.108899e+06</td>\n",
       "      <td>1.109608e+06</td>\n",
       "      <td>3.107621e+03</td>\n",
       "      <td>-0.262878</td>\n",
       "      <td>0.222007</td>\n",
       "    </tr>\n",
       "    <tr>\n",
       "      <th>50%</th>\n",
       "      <td>2.191109e+06</td>\n",
       "      <td>2.191417e+06</td>\n",
       "      <td>1.797300e+04</td>\n",
       "      <td>0.290609</td>\n",
       "      <td>0.385675</td>\n",
       "    </tr>\n",
       "    <tr>\n",
       "      <th>75%</th>\n",
       "      <td>3.145938e+06</td>\n",
       "      <td>3.147004e+06</td>\n",
       "      <td>8.098525e+04</td>\n",
       "      <td>0.765432</td>\n",
       "      <td>0.603678</td>\n",
       "    </tr>\n",
       "    <tr>\n",
       "      <th>max</th>\n",
       "      <td>4.215255e+06</td>\n",
       "      <td>4.215389e+06</td>\n",
       "      <td>3.938617e+07</td>\n",
       "      <td>2.716919</td>\n",
       "      <td>0.997441</td>\n",
       "    </tr>\n",
       "  </tbody>\n",
       "</table>\n",
       "</div>"
      ],
      "text/plain": [
       "              start           end    expression      z_score      p_value\n",
       "count  4.174000e+03  4.174000e+03  4.636000e+03  4636.000000  4636.000000\n",
       "mean   2.134015e+06  2.134900e+06  1.291080e+05     0.129165     0.436776\n",
       "std    1.201694e+06  1.201689e+06  9.939808e+05     0.922828     0.261635\n",
       "min    4.100000e+02  1.750000e+03  0.000000e+00    -2.799488     0.003295\n",
       "25%    1.108899e+06  1.109608e+06  3.107621e+03    -0.262878     0.222007\n",
       "50%    2.191109e+06  2.191417e+06  1.797300e+04     0.290609     0.385675\n",
       "75%    3.145938e+06  3.147004e+06  8.098525e+04     0.765432     0.603678\n",
       "max    4.215255e+06  4.215389e+06  3.938617e+07     2.716919     0.997441"
      ]
     },
     "execution_count": 8,
     "metadata": {},
     "output_type": "execute_result"
    }
   ],
   "source": [
    "final_df.describe()"
   ]
  },
  {
   "cell_type": "code",
   "execution_count": 9,
   "id": "eff49253",
   "metadata": {
    "execution": {
     "iopub.execute_input": "2025-09-19T11:37:03.767342Z",
     "iopub.status.busy": "2025-09-19T11:37:03.766987Z",
     "iopub.status.idle": "2025-09-19T11:37:03.814666Z",
     "shell.execute_reply": "2025-09-19T11:37:03.813537Z"
    },
    "papermill": {
     "duration": 0.053957,
     "end_time": "2025-09-19T11:37:03.816531",
     "exception": false,
     "start_time": "2025-09-19T11:37:03.762574",
     "status": "completed"
    },
    "tags": []
   },
   "outputs": [],
   "source": [
    "final_df.to_csv('/kaggle/working/final_bacillus.csv')"
   ]
  },
  {
   "cell_type": "code",
   "execution_count": null,
   "id": "74cb76d8",
   "metadata": {
    "papermill": {
     "duration": 0.003086,
     "end_time": "2025-09-19T11:37:03.823187",
     "exception": false,
     "start_time": "2025-09-19T11:37:03.820101",
     "status": "completed"
    },
    "tags": []
   },
   "outputs": [],
   "source": []
  }
 ],
 "metadata": {
  "kaggle": {
   "accelerator": "none",
   "dataSources": [],
   "dockerImageVersionId": 31089,
   "isGpuEnabled": false,
   "isInternetEnabled": true,
   "language": "python",
   "sourceType": "notebook"
  },
  "kernelspec": {
   "display_name": "Python 3",
   "language": "python",
   "name": "python3"
  },
  "language_info": {
   "codemirror_mode": {
    "name": "ipython",
    "version": 3
   },
   "file_extension": ".py",
   "mimetype": "text/x-python",
   "name": "python",
   "nbconvert_exporter": "python",
   "pygments_lexer": "ipython3",
   "version": "3.11.13"
  },
  "papermill": {
   "default_parameters": {},
   "duration": 12.540105,
   "end_time": "2025-09-19T11:37:04.448202",
   "environment_variables": {},
   "exception": null,
   "input_path": "__notebook__.ipynb",
   "output_path": "__notebook__.ipynb",
   "parameters": {},
   "start_time": "2025-09-19T11:36:51.908097",
   "version": "2.6.0"
  }
 },
 "nbformat": 4,
 "nbformat_minor": 5
}
